{
 "cells": [
  {
   "cell_type": "markdown",
   "metadata": {},
   "source": [
    "## Hands-on session 2.3 - CRM basics with ReMKiT1D\n",
    "\n",
    "In this session we cover the basics of CRM construction for use in ReMKiT1D models. The example is focused on a small set of equations, in order to demonstrate the general concepts. \n",
    "\n",
    "Demonstrated concepts:\n",
    "\n",
    "- Setting species and associating variables to them \n",
    "- Simple and derived transitions \n",
    "- Constructing CRM modelbound data from transitions\n",
    "- Adding term generators that use CRM modelbound data\n",
    "- The extractor manipulator\n",
    "\n",
    "A number of CRM concepts are beyond this workshop. These include:\n",
    "\n",
    "- Kinetic features - Boltzmann term generators \n",
    "- Built-in Janev hydrogen transitions \n",
    "- Using external databases such as AMJUEL to construct polynomial fits \n",
    "- Other kinds of transitions (detailed balance etc.)"
   ]
  },
  {
   "cell_type": "code",
   "execution_count": null,
   "metadata": {},
   "outputs": [],
   "source": [
    "from RMK_support import RKWrapper ,Grid, Node, treeDerivation\n",
    "import RMK_support.simple_containers as sc\n",
    "import RMK_support.IO_support as io\n",
    "import RMK_support.dashboard_support as ds \n",
    "import RMK_support.crm_support as crm\n",
    "\n",
    "import numpy as np\n",
    "import holoviews as hv \n",
    "import panel as pn\n",
    "import matplotlib.pyplot as plt"
   ]
  },
  {
   "cell_type": "markdown",
   "metadata": {},
   "source": [
    "### Wrapper initialization"
   ]
  },
  {
   "cell_type": "code",
   "execution_count": null,
   "metadata": {},
   "outputs": [],
   "source": [
    "rk = RKWrapper()"
   ]
  },
  {
   "cell_type": "markdown",
   "metadata": {},
   "source": [
    "### Global parameters for writing the files"
   ]
  },
  {
   "cell_type": "code",
   "execution_count": null,
   "metadata": {},
   "outputs": [],
   "source": [
    "rk.jsonFilepath = \"./config.json\" # Default value\n",
    "hdf5Filepath = \"./RMKOutput/day_2_3/\"\n",
    "rk.setHDF5Path(hdf5Filepath) "
   ]
  },
  {
   "cell_type": "markdown",
   "metadata": {},
   "source": [
    "### Grid initialization\n",
    "\n",
    "We initialize 0D grid as in the previous session"
   ]
  },
  {
   "cell_type": "code",
   "execution_count": null,
   "metadata": {},
   "outputs": [],
   "source": [
    "rk.grid = Grid(np.zeros(1))"
   ]
  },
  {
   "cell_type": "markdown",
   "metadata": {},
   "source": [
    "### A simplified Collisional Radiative Model \n",
    "\n",
    "Let's write a simplified nonlinear time-dependent CRM. \n",
    "\n",
    "Let's assume we're working with electrons, singly-charged ions, a ground state and an excited neutral state. This implies that we are tracking the following densities:\n",
    "\n",
    "$$n_e,n_i,n_1,n_2$$\n",
    "\n",
    "Let's then say we have the following reactions in the system:\n",
    "\n",
    "- Electron-impact ionization of both states \n",
    "\n",
    "$$ e + b \\rightarrow i + e + e,\\quad b=1,2$$  \n",
    "\n",
    "- The direct inverse of the above reaction - three-body recombination\n",
    "\n",
    "$$ i + e + e \\rightarrow b + e,\\quad b=1,2$$  \n",
    "\n",
    "- Electron impact excitation from state 1 to state 2\n",
    "\n",
    "$$ e + 1 \\rightarrow e + 2$$  \n",
    "\n",
    "- Radiative de-excitation (spontaneous emission) from state 2 to state 1 \n",
    "\n",
    "$$ n_2 \\rightarrow n_1 + h\\nu$$ \n",
    "where $h\\nu$ signifies a photon with the transition energy. We will assume that any energy losses are recuperated through some heating of the electrons, maintaining a constant electron temperature. This is assumption can be relaxed, but required the evolution of electron energy and unduly complicated this system.\n",
    "\n",
    "The system described above can be represented with the following system of nonlinear ODEs\n",
    "\n",
    "$$ \\frac{d n_1}{dt} = -K_{12}n_en_1 - K_1^{ion}n_en_1 + A_{21}n_2 + K_1^{rec}n_e^2n_i $$\n",
    "\n",
    "$$ \\frac{d n_2}{dt} = K_{12}n_en_1 - K_2^{ion}n_en_2 - A_{21}n_2 + K_2^{rec}n_e^2n_i $$\n",
    "$$ \\frac{d n_e}{dt} = \\frac{d n_i}{dt} =  K_1^{ion}n_en_1 + K_2^{ion}n_en_2 - (K_1^{rec} + K_2^{rec})n_e^2n_i$$\n",
    "\n",
    "In this case, one could simplify the system by dropping the ion density equation, but in we might want to track many different ionization states so $n_e \\neq n_i$ in general.\n",
    "\n",
    "Even though we have only 6 reactions, the number of terms (ignoring potentially simplifying groupings) in this system is 16. The CRM features in ReMKiT1D are meant to simplify the building of many related terms, such as these. \n",
    "\n",
    "**NOTE**: In this notebook we are not concerned with physical validity. The rate values and expressions are not relevant to any real physical process. We instead focus on how one would build up an arbitrary CRM. As such, everything is in arbitrary units."
   ]
  },
  {
   "cell_type": "markdown",
   "metadata": {},
   "source": [
    "### Species information in ReMKiT1D\n",
    "\n",
    "Many built-in terms and models, including those generated with CRM term generators, require knowledge of the species they are being constructed for. This includes both basic information about the species (such as atomic mass and charge), as well as any associated variables and unique IDs.\n",
    "\n",
    "**NOTE**: ReMKiT1D enforces that the electron species, with name \"e\" has the speciesID of 0. Other than that, the convention so far in ReMKiT1D has been that non-electron charged species get negative indices and neutral species get positive indices. \n",
    "\n",
    "Let's add the species present in the toy model we just made. Note that the mass and charge values are not used by the CRM data. Add the remaining variables below, making sure you associate the densities of the species."
   ]
  },
  {
   "cell_type": "code",
   "execution_count": null,
   "metadata": {},
   "outputs": [],
   "source": [
    "rk.addSpecies(name=\"e\",speciesID=0,associatedVars=[\"ne\"]) # ReMKiT1D will detect the electron species automatically and populate the mass and charge fields\n",
    "#[YOUR CODE HERE]"
   ]
  },
  {
   "cell_type": "markdown",
   "metadata": {},
   "source": [
    "As you can see, we've already associated the variables we'd like to use. They don't need to be added to the wrapper yet. Let us add them as before."
   ]
  },
  {
   "cell_type": "markdown",
   "metadata": {},
   "source": [
    "### Variables "
   ]
  },
  {
   "cell_type": "markdown",
   "metadata": {},
   "source": [
    "We have to add the four densities we're evolving. Initialize them using the provided values."
   ]
  },
  {
   "cell_type": "code",
   "execution_count": null,
   "metadata": {},
   "outputs": [],
   "source": [
    "ne = ni = np.ones(1)\n",
    "\n",
    "n1 = 0.5*np.ones(1)\n",
    "\n",
    "n2 = np.zeros(1)\n",
    "\n",
    "# [YOUR CODE HERE]"
   ]
  },
  {
   "cell_type": "markdown",
   "metadata": {},
   "source": [
    "Let's also add a dummy variable for the electron temperatue so we can demonstrate derived transitions further down. We also need to add the time variable, as always."
   ]
  },
  {
   "cell_type": "code",
   "execution_count": null,
   "metadata": {},
   "outputs": [],
   "source": [
    "Te = 5*np.ones(1)\n",
    "\n",
    "# [YOUR CODE HERE]"
   ]
  },
  {
   "cell_type": "markdown",
   "metadata": {},
   "source": [
    "### Constructing the CRM modelbound data object\n",
    "\n",
    "We can now start working with the CRM modelbound data object. We use the `crm_support` module to simplify this process. "
   ]
  },
  {
   "cell_type": "code",
   "execution_count": null,
   "metadata": {},
   "outputs": [],
   "source": [
    "crmData = crm.ModelboundCRMData()"
   ]
  },
  {
   "cell_type": "markdown",
   "metadata": {},
   "source": [
    "To add a transition with a constant rate and transition energy we use the `simpleTransition` function in `crm_support`. Let's use this to add the spontaneous emission reaction. Complete the call to `simpleTransition` by setting the `inState` and `outState` arguments."
   ]
  },
  {
   "cell_type": "code",
   "execution_count": null,
   "metadata": {},
   "outputs": [],
   "source": [
    "spontEmission = crm.simpleTransition(transitionEnergy=-10,transitionRate=0.3)\n",
    "\n",
    "crmData.addTransition(\"spontEmission\",transitionProperties=spontEmission)"
   ]
  },
  {
   "cell_type": "markdown",
   "metadata": {},
   "source": [
    "To add a transition with one or more of the rates calculated using a derivation we use `derivedTransition`.\n",
    "\n",
    "When using `derivedTransition`s we must supply at least one derivation rule - the rule for the transition rate itself. Momentum and energy rate derivations can also be supplied. If the energy rate is not supplied, it is calculated as `transitionRate*transitionEnergy`. We do not use the energy or momentum rates in terms in this example. but we will show how they can be accessed below. \n",
    "\n",
    "Let's add the ionization and recombination rates. To loosly mimic how these behave in reality, let's make them proportional to $T_e$ and $n_e^2/T_e$, respectively. We use the Node/treeDerivation approach. Complete the below derivations keeping the supplied proportionality constants."
   ]
  },
  {
   "cell_type": "code",
   "execution_count": null,
   "metadata": {},
   "outputs": [],
   "source": [
    "rk.addCustomDerivation(\"ion1\",derivOptions=treeDerivation(0.2)) #[YOUR CODE HERE]\n",
    "rk.addCustomDerivation(\"recomb1\",derivOptions=treeDerivation(0.2)) #[YOUR CODE HERE]\n",
    "\n",
    "rk.addCustomDerivation(\"ion2\",derivOptions=treeDerivation(0.8)) #[YOUR CODE HERE]\n",
    "rk.addCustomDerivation(\"recomb2\",derivOptions=treeDerivation(0.8)) #[YOUR CODE HERE]"
   ]
  },
  {
   "cell_type": "markdown",
   "metadata": {},
   "source": [
    "Complete the below transition definitions"
   ]
  },
  {
   "cell_type": "code",
   "execution_count": null,
   "metadata": {},
   "outputs": [],
   "source": [
    "ion1 = crm.derivedTransition(inStates=[],outStates=[],transitionEnergy=12,ruleName=\"ion1\",requiredVars=[\"\"]) #[YOUR CODE HERE]\n",
    "\n",
    "ion2 = crm.derivedTransition(inStates=[],outStates=[],transitionEnergy=2,ruleName=\"ion2\",requiredVars=[\"\"]) #[YOUR CODE HERE]\n",
    "\n",
    "recomb1 = crm.derivedTransition(inStates=[],outStates=[],transitionEnergy=-12,ruleName=\"recomb1\",requiredVars=[\"\",\"\"]) #[YOUR CODE HERE]\n",
    "\n",
    "recomb2 = crm.derivedTransition(inStates=[],outStates=[],transitionEnergy=-2,ruleName=\"recomb2\",requiredVars=[\"\",\"\"]) #[YOUR CODE HERE]\n",
    "\n",
    "crmData.addTransition(\"ion1\",ion1)\n",
    "crmData.addTransition(\"ion2\",ion2)\n",
    "crmData.addTransition(\"recomb1\",recomb1)\n",
    "crmData.addTransition(\"recomb2\",recomb2)"
   ]
  },
  {
   "cell_type": "markdown",
   "metadata": {},
   "source": [
    "For excitation let's use the same proportionality as for ionization"
   ]
  },
  {
   "cell_type": "code",
   "execution_count": null,
   "metadata": {},
   "outputs": [],
   "source": [
    "rk.addCustomDerivation(\"exc\",derivOptions=treeDerivation(0.3)) #[YOUR CODE HERE]\n",
    "\n",
    "exc = crm.derivedTransition(inStates=[],outStates=[],transitionEnergy=10,ruleName=\"exc\",requiredVars=[\"\"]) #[YOUR CODE HERE]\n",
    "\n",
    "crmData.addTransition(\"exc\",exc)"
   ]
  },
  {
   "cell_type": "markdown",
   "metadata": {},
   "source": [
    "### Build a model using CRM data and term generators\n",
    "\n",
    "We can now use a term generator to generate the standard CRM rate terms from the modelbound data. First we need to build a model and add the modelbound data to it using the dictionary form of it as the argument to `setModelboundData`. "
   ]
  },
  {
   "cell_type": "code",
   "execution_count": null,
   "metadata": {},
   "outputs": [],
   "source": [
    "#[YOUR CODE HERE]"
   ]
  },
  {
   "cell_type": "markdown",
   "metadata": {},
   "source": [
    "The standard term generator for CRMs will take all reactions and generate matrix terms with diagonal stencils evolving the first associated variable (densities) of the input and output states. The implict variable is chosen to be the final variable in the `inStates` list, so for [0,1] the implicit variable will be \"n1\". \n",
    "\n",
    "Finer control over the generated terms is possible by selecting which implicit group the terms should be added to, which transitions should be included, as well as which states should be evolved. We use the default term generator, which will evolve all states using all transitions, and have them all in one term group.\n",
    "\n",
    "Use `addTermGenerator` to add the below object to your crm model. Do not forget to add the model to the wrapper!"
   ]
  },
  {
   "cell_type": "code",
   "execution_count": null,
   "metadata": {},
   "outputs": [],
   "source": [
    "crmTermGenerator = crm.termGeneratorCRM()\n",
    "\n",
    "#[YOUR CODE HERE]"
   ]
  },
  {
   "cell_type": "markdown",
   "metadata": {},
   "source": [
    "As you can see, your model has no terms, just a term generator."
   ]
  },
  {
   "cell_type": "markdown",
   "metadata": {},
   "source": [
    "### Extractor manipulator\n",
    "\n",
    "We can directly extract variables from modelbound data using the `extractorManipulator` from `simple_containers`. Let's get the energy rate of the \"recomb1\" transition. This is the fourth added transition, and the energy moment is the second moment, so we will try to extract the modelbound variable `rate2index4` into the newly added variable `recombEn`.\n",
    "\n",
    "Here we also come across manipulator priority. There are 5 possible priority levels, which each level including all those below it:\n",
    "\n",
    "0. Manipulator is called on all internal integrator iterations (nonlinear BDE iterations in this case)\n",
    "1. Manipulator is called at the end of each (internal) timestep (in any one integration step)\n",
    "2. Manipulator is called at the end of each integration step (here there is only one integration step and no internal step timestep control so 1 and 2 would behave the same)\n",
    "3. Manipulator is called at the end of each integration call (global timestep)\n",
    "4. Manipulator is called before data writing to HDF5 file\n",
    "\n",
    "Priority 4 is the default, and is in general used for diagnostic variables. At present, manipulators with priority > 4 are never called.\n",
    "\n",
    "Add the new derived variable \"recombEn\", use `extractorManipulator` to specify the model, data name, and target variable name. You can add the manipulator to the wrapper using the wrapper's `addManipulator` function."
   ]
  },
  {
   "cell_type": "code",
   "execution_count": null,
   "metadata": {},
   "outputs": [],
   "source": [
    "#[YOUR CODE HERE]"
   ]
  },
  {
   "cell_type": "markdown",
   "metadata": {},
   "source": [
    "### Time integration"
   ]
  },
  {
   "cell_type": "code",
   "execution_count": null,
   "metadata": {},
   "outputs": [],
   "source": [
    "rk.addIntegrator(\"BE\",sc.picardBDEIntegrator(nonlinTol=1e-12,absTol=10.0,convergenceVars=[\"ne\",\"ni\",\"n1\",\"n2\"])) \n",
    "\n",
    "rk.setIntegratorGlobalData(initialTimestep=0.0001) \n",
    "\n",
    "bdeStep = sc.IntegrationStep(\"BE\")\n",
    "\n",
    "for tag in rk.modelTags():\n",
    "    bdeStep.addModel(tag)\n",
    "\n",
    "rk.addIntegrationStep(\"StepBDE\",bdeStep.dict())\n",
    "\n",
    "rk.setFixedNumTimesteps(20000)\n",
    "rk.setFixedStepOutput(400)"
   ]
  },
  {
   "cell_type": "markdown",
   "metadata": {},
   "source": [
    "### Write config file\n",
    "\n",
    "Remember to run ReMKiT1D with a single MPI process for this session."
   ]
  },
  {
   "cell_type": "code",
   "execution_count": null,
   "metadata": {},
   "outputs": [],
   "source": [
    "rk.writeConfigFile()"
   ]
  },
  {
   "cell_type": "markdown",
   "metadata": {},
   "source": [
    "### Data analysis"
   ]
  },
  {
   "cell_type": "code",
   "execution_count": null,
   "metadata": {},
   "outputs": [],
   "source": [
    "hv.extension('matplotlib')\n",
    "%matplotlib inline \n",
    "plt.rcParams['figure.dpi'] = 150\n",
    "hv.output(size=100,dpi=150)\n",
    "\n",
    "numFiles=50\n",
    "loadpath = rk.hdf5Filepath\n",
    "loadFilenames = [loadpath+f'ReMKiT1DVarOutput_{i}.h5' for i in range(numFiles+1)]\n",
    "loadedData = io.loadFromHDF5(rk.varCont, filepaths=loadFilenames)\n",
    "loadedData"
   ]
  },
  {
   "cell_type": "markdown",
   "metadata": {},
   "source": [
    "Let's look at the evolution of the variables"
   ]
  },
  {
   "cell_type": "code",
   "execution_count": null,
   "metadata": {},
   "outputs": [],
   "source": [
    "pn.extension(comms=\"vscode\") # change comms if not using VSCode\n",
    "dashboard = ds.ReMKiT1DDashboard(loadedData,rk.grid)\n",
    "\n",
    "dashboard.fluidMultiComparison([\"ne\",\"ni\",\"n1\",\"n2\",\"recombEn\"],fixedPosition=True)"
   ]
  },
  {
   "cell_type": "markdown",
   "metadata": {},
   "source": []
  }
 ],
 "metadata": {
  "kernelspec": {
   "display_name": "Python 3",
   "language": "python",
   "name": "python3"
  },
  "language_info": {
   "codemirror_mode": {
    "name": "ipython",
    "version": 3
   },
   "file_extension": ".py",
   "mimetype": "text/x-python",
   "name": "python",
   "nbconvert_exporter": "python",
   "pygments_lexer": "ipython3",
   "version": "3.8.10"
  }
 },
 "nbformat": 4,
 "nbformat_minor": 2
}
