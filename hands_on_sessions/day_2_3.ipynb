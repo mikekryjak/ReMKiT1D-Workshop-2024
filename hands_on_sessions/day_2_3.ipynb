{
 "cells": [
  {
   "cell_type": "markdown",
   "metadata": {},
   "source": [
    "## Hands-on session 2.3 - CRM basics with ReMKiT1D\n",
    "\n",
    "In this session we cover the basics of CRM construction for use in ReMKiT1D models. The example is focused on a small set of equations, in order to demonstrate the general concepts. \n",
    "\n",
    "Demonstrated concepts:\n",
    "\n",
    "- Setting species and associating variables to them \n",
    "- Simple and derived transitions \n",
    "- Constructing CRM modelbound data from transitions\n",
    "- Adding term generators that use CRM modelbound data\n",
    "- The extractor manipulator\n",
    "\n",
    "A number of CRM concepts is beyond this workshop. These include:\n",
    "\n",
    "- Kinetic features - Boltzmann term generators \n",
    "- Built-in Janev hydrogen transitions \n",
    "- Using external databases such as AMJUEL to construct polynomial fits \n",
    "- Other kinds of transitions (detailed balance etc.)"
   ]
  },
  {
   "cell_type": "code",
   "execution_count": 1,
   "metadata": {},
   "outputs": [],
   "source": [
    "from RMK_support import RKWrapper ,Grid, Node, treeDerivation\n",
    "import RMK_support.simple_containers as sc\n",
    "import RMK_support.IO_support as io\n",
    "import RMK_support.dashboard_support as ds \n",
    "import RMK_support.crm_support as crm\n",
    "\n",
    "import numpy as np\n",
    "import holoviews as hv \n",
    "import panel as pn\n",
    "import matplotlib.pyplot as plt"
   ]
  },
  {
   "cell_type": "markdown",
   "metadata": {},
   "source": [
    "### Wrapper initialization"
   ]
  },
  {
   "cell_type": "code",
   "execution_count": null,
   "metadata": {},
   "outputs": [],
   "source": [
    "rk = RKWrapper()"
   ]
  },
  {
   "cell_type": "markdown",
   "metadata": {},
   "source": [
    "### Global parameters for writing the files"
   ]
  },
  {
   "cell_type": "code",
   "execution_count": null,
   "metadata": {},
   "outputs": [],
   "source": [
    "rk.jsonFilepath = \"./config.json\" # Default value\n",
    "hdf5Filepath = \"./RMKOutput/day_2_3/\"\n",
    "rk.setHDF5Path(hdf5Filepath) "
   ]
  },
  {
   "cell_type": "markdown",
   "metadata": {},
   "source": [
    "### Grid initialization\n",
    "\n",
    "We initialize 0D grid as in the previous session"
   ]
  },
  {
   "cell_type": "code",
   "execution_count": null,
   "metadata": {},
   "outputs": [],
   "source": [
    "rk.grid = Grid(np.zeros(1))"
   ]
  },
  {
   "cell_type": "markdown",
   "metadata": {},
   "source": [
    "### A simplified Collisional Radiative Model \n",
    "\n",
    "Let's write a simplified nonlinear time-dependent CRM. \n",
    "\n",
    "Let's assume we're working with electrons, singly-charged ions, a ground state and an excited neutral state. This implies that we are tracking the following densities:\n",
    "\n",
    "$$n_e,n_i,n_1,n_2$$\n",
    "\n",
    "Let's then say we have the following reactions in the system:\n",
    "\n",
    "- Electron-impact ionization of both states \n",
    "\n",
    "$$ e + b \\rightarrow i + e + e,\\quad b=1,2$$  \n",
    "\n",
    "- The direct inverse of the above reaction - three-body recombination\n",
    "\n",
    "$$ i + e + e \\rightarrow b + e,\\quad b=1,2$$  \n",
    "\n",
    "- Electron impact excitation from state 1 to state 2\n",
    "\n",
    "$$ e + 1 \\rightarrow e + 2$$  \n",
    "\n",
    "- Radiative de-excitation (spontaneous emission) from state 2 to state 1 \n",
    "\n",
    "$$ n_2 \\rightarrow n_1 + h\\nu$$ \n",
    "where $h\\nu$ signifies a photon with the transition energy. We will assume that any energy losses are recuperated through some heating of the electrons, maintaining a constant electron temperature. This is assumption can be relaxed, but required the evolution of electron energy and unduly complicated this system.\n",
    "\n",
    "The system described above can be represented with the following system of nonlinear ODEs\n",
    "\n",
    "$$ \\frac{d n_1}{dt} = -K_{12}n_en_1 - K_1^{ion}n_en_1 + A_{21}n_2 + K_1^{rec}n_e^2n_i $$\n",
    "\n",
    "$$ \\frac{d n_2}{dt} = K_{12}n_en_1 - K_2^{ion}n_en_2 - A_{21}n_2 + K_2^{rec}n_e^2n_i $$\n",
    "$$ \\frac{d n_e}{dt} = \\frac{d n_i}{dt} =  K_1^{ion}n_en_1 + K_2^{ion}n_en_2 - (K_1^{rec} + K_2^{rec})n_e^2n_i$$\n",
    "\n",
    "In this case, one could simplify the system by dropping the ion density equation, but in we might want to track many different ionization states so $n_e \\neq n_i$ in general.\n",
    "\n",
    "Even though we have only 6 reactions, the number of terms (ignoring potentially simplifying groupings) in this system is 16. The CRM features in ReMKiT1D are meant to simplify the building of many related terms, such as these. "
   ]
  },
  {
   "cell_type": "markdown",
   "metadata": {},
   "source": [
    "### Species information in ReMKiT1D\n",
    "\n",
    "Many built-in terms and models, including those generated with CRM term generators, require knowledge of the species they are being constructed for. This includes both basic information about the species (such as atomic mass and charge), as well as any associated variables and unique IDs.\n",
    "\n",
    "**NOTE**: ReMKiT1D enforces that the electron species, with name \"e\" has the speciesID of 0. Other than that, the convention so far in ReMKiT1D has been that non-electron charged species get negative indices and neutral species get positive indices. \n",
    "\n",
    "Let's add the species present in the toy model we just made. Note that the mass and charge values are not used by the CRM data, but we include them for completeness."
   ]
  },
  {
   "cell_type": "code",
   "execution_count": null,
   "metadata": {},
   "outputs": [],
   "source": [
    "rk.addSpecies(name=\"e\",speciesID=0,associatedVars=[\"ne\"]) # ReMKiT1D will detect the electron species automatically and populate the mass and charge fields\n",
    "rk.addSpecies(name=\"i\",speciesID=-1,atomicA=1.0,charge=1,associatedVars=[\"ni\"])\n",
    "rk.addSpecies(name=\"1\",speciesID=1,atomicA=1.0,charge=0,associatedVars=[\"n1\"])\n",
    "rk.addSpecies(name=\"2\",speciesID=2,atomicA=1.0,charge=0,associatedVars=[\"n2\"])"
   ]
  },
  {
   "cell_type": "markdown",
   "metadata": {},
   "source": []
  }
 ],
 "metadata": {
  "kernelspec": {
   "display_name": "Python 3",
   "language": "python",
   "name": "python3"
  },
  "language_info": {
   "codemirror_mode": {
    "name": "ipython",
    "version": 3
   },
   "file_extension": ".py",
   "mimetype": "text/x-python",
   "name": "python",
   "nbconvert_exporter": "python",
   "pygments_lexer": "ipython3",
   "version": "3.10.12"
  }
 },
 "nbformat": 4,
 "nbformat_minor": 2
}
