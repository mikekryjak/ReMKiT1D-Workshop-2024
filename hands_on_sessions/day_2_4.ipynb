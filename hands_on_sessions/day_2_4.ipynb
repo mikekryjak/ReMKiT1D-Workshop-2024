{
 "cells": [
  {
   "attachments": {},
   "cell_type": "markdown",
   "metadata": {},
   "source": [
    "## Hands on session 2.4 - highly composite derivations\n",
    "\n",
    "This session returns to the calculation tree derivations first shown in session 1.3, building on these tools and demonstrating a real use case for them.\n",
    "\n",
    "The file `anisotropy.py` is supplied which contains a collection of functions used in more complex derivations.\n",
    "\n",
    "Demonstrated concepts:\n",
    "\n",
    "- Building functions out of node calculations\n",
    "- Applying range filter cutoffs in derivations\n",
    "- Additive derivations\n",
    "- Implicit temperature derivations\n"
   ]
  },
  {
   "cell_type": "code",
   "execution_count": 1,
   "metadata": {},
   "outputs": [],
   "source": [
    "import numpy as np\n",
    "\n",
    "import holoviews as hv\n",
    "import matplotlib.pyplot as plt\n",
    "import panel as pn\n",
    "\n",
    "import anisotropy as aniso\n",
    "import RMK_support.simple_containers as sc\n",
    "import RMK_support.common_models as cm\n",
    "import RMK_support.IO_support as io\n",
    "from RMK_support import RKWrapper, Grid, treeDerivation, Node\n",
    "import RMK_support.dashboard_support as ds"
   ]
  },
  {
   "attachments": {},
   "cell_type": "markdown",
   "metadata": {},
   "source": [
    "### The system\n",
    "A true model of an anisotropic plasma would require a full set of fluid equations. For the sake of brevity this is not done here. Nonetheless, one integral part of an anisotropic plasma model is the isotropisation of temperatures. It is this process that is demonstrated here in this notebook.\n",
    "\n",
    "The equations shown here can be found in [Chodura et al.](link)\n",
    "\n",
    "We will look at the simplified one species case (for electrons) first. In this case, the anisotropy is quantified by the variable \n",
    "\n",
    "$$\n",
    "    X = \\frac{T_\\perp}{T_\\parallel} - 1\n",
    "$$\n",
    "\n",
    "With these variables defined, the equations that govern the system are:\n",
    "$$\n",
    "    \\frac{\\partial W_\\perp}{\\partial t} = 2 n \\nu \\left[T_\\perp (K_{002} - K_{200}) \\right]\n",
    "$$\n",
    "$$\n",
    "    \\frac{\\partial W_\\parallel}{\\partial t} = 4 n \\nu \\left[ T_\\parallel (K_{200} - K_{002}) \\right]\n",
    "$$\n",
    "where $\\nu$ is in our case an arbitrary collisionality.\n",
    "$K_{LMN}$ are results of taking moments of a bi-Maxwellian:\n",
    "$$\n",
    "    K_{200} = \\frac{1}{X} \\left[ -1 + (1 + X)\\varphi (X) \\right]\n",
    "$$\n",
    "$$\n",
    "    K_{002} = \\frac{2}{X} \\left[ 1 - \\varphi (X) \\right]\n",
    "$$\n",
    "where $\\varphi$ for $X>0$:\n",
    "$$\n",
    "    \\varphi = \\frac{\\arctan{(\\sqrt{X})}}{\\sqrt{X}}\n",
    "$$\n",
    "and for $X<0$:\n",
    "$$\n",
    "    \\varphi = \\frac{\\log{\\frac{1+\\sqrt{-X}}{1-\\sqrt{-X}}}}{2\\sqrt{-X}}\n",
    "$$"
   ]
  },
  {
   "attachments": {},
   "cell_type": "markdown",
   "metadata": {},
   "source": [
    "### Basic setup\n",
    "\n",
    "In a full model evolving all fluid variables we would include many spatial derivative terms. However, since we're only interested in the 0D effect of temperature isotropisation we can reduce the number of cells simulated as much as possible. Because we want to write the setup in a general way, using staggered grids, we need at least 2 cells."
   ]
  },
  {
   "cell_type": "code",
   "execution_count": 2,
   "metadata": {},
   "outputs": [],
   "source": [
    "#Wrapper initialization\n",
    "rk = RKWrapper()\n",
    "\n",
    "#I/O setuo\n",
    "rk.jsonFilepath = \"./config.json\" \n",
    "hdf5Filepath = \"./RMKOutput/day_2_4/\"\n",
    "rk.setHDF5Path(hdf5Filepath) \n",
    "\n",
    "#Grid initialization\n",
    "xGridWidths = np.ones(2)\n",
    "rk.grid = Grid(xGridWidths, interpretXGridAsWidths=True)"
   ]
  },
  {
   "attachments": {},
   "cell_type": "markdown",
   "metadata": {},
   "source": [
    "### Normalization\n",
    "Alongside the standard ReMKiT1D normalisation parameters that are employed, it is worthwhile specifying the electron mass."
   ]
  },
  {
   "cell_type": "code",
   "execution_count": 3,
   "metadata": {},
   "outputs": [],
   "source": [
    "elMass = 9.10938e-31 # electron mass\n",
    "amu = 1.6605390666e-27  # atomic mass unit\n",
    "\n",
    "rk.setNormDensity(1.0e19)\n",
    "rk.setNormTemperature(10.0)\n",
    "rk.setNormRefZ(1.0)"
   ]
  },
  {
   "attachments": {},
   "cell_type": "markdown",
   "metadata": {},
   "source": [
    "### Handling particle species data\n",
    "As covered in workshop session 2.3, some built in models require knowledge of the species they are being constructed for. This is the case for the `implicitTemperatures()` model that is used in this notebook. As such, let us declare an electron species that will contain all of the associated implicit variables."
   ]
  },
  {
   "cell_type": "code",
   "execution_count": 4,
   "metadata": {},
   "outputs": [],
   "source": [
    "rk.addSpecies(\"e\", speciesID=0, atomicA=elMass/amu, charge=-1.0, associatedVars=[\"ne\", \"Ge\", \"WePar\", \"WePerp\"])\n",
    "\n",
    "electronSpecies = rk.getSpecies(\"e\")"
   ]
  },
  {
   "attachments": {},
   "cell_type": "markdown",
   "metadata": {},
   "source": [
    "### Base variables\n",
    "With the species now declared, it is time to introduce the base variables of the system. These are the implicit variables upon which the models and their respective derived terms are built upon. Before adding the variables to the wrapper, we shall create some initial conditions that will be assigned to the different variables. \n",
    "\n",
    "**NOTE** In an isotropic system the internal energy of an ideal gas can be written as $W = \\frac32 n T$ (in normalised units). But due to the anisotropic nature of this system we must separate the degrees of freedom, hence $W_\\perp = n T_\\perp$ and $W_\\parallel = \\frac12 n T_\\parallel$."
   ]
  },
  {
   "cell_type": "code",
   "execution_count": 5,
   "metadata": {},
   "outputs": [],
   "source": [
    "# Set conserved variables in container\n",
    "TePar = 2*np.ones(2)\n",
    "TePerp = 5*np.ones(2)\n",
    "\n",
    "ne = np.ones(2)\n",
    "\n",
    "WePar = ne*TePar/2\n",
    "WePerp = ne*TePerp"
   ]
  },
  {
   "attachments": {},
   "cell_type": "markdown",
   "metadata": {},
   "source": [
    "WIth these initial conditions declared, we can create variables for density, flux and internal energy:"
   ]
  },
  {
   "cell_type": "code",
   "execution_count": 6,
   "metadata": {},
   "outputs": [],
   "source": [
    "rk.addVarAndDual(\"ne\", ne, isCommunicated=True)\n",
    "rk.addVarAndDual(\"Ge\", primaryOnDualGrid=True, isCommunicated=True)  # Ge_dual is evolved, and Ge is derived\n",
    "rk.addVarAndDual(\"WePar\", WePar, isCommunicated=True)\n",
    "rk.addVarAndDual(\"WePerp\", WePerp, isCommunicated=True)"
   ]
  },
  {
   "attachments": {},
   "cell_type": "markdown",
   "metadata": {},
   "source": [
    "We would like to have the temperatures implicit, but they should be related to the corresponding energy densities. Hence we should label them as stationary variables, which can then be 'evolved' through the `implicitTemperatures()` model. Add the two temperature variables below"
   ]
  },
  {
   "cell_type": "code",
   "execution_count": 7,
   "metadata": {},
   "outputs": [],
   "source": [
    "# [YOUR CODE HERE]"
   ]
  },
  {
   "attachments": {},
   "cell_type": "markdown",
   "metadata": {},
   "source": [
    "### Anisotropic variables\n",
    "The anisotropic variables that are derived using the implicit variables declared above are: $\\nu$, $K_{200}$ & $K_{002}$. We can now add these to the ReMKiT1D wrapper. \n",
    "\n",
    "$K_{200}$ and $K_{002}$ can be added using the `K_LMN` function from `anisotropy.py`. This function expects the first argument to be $T_\\perp / T_\\parallel$. Complete the calls below"
   ]
  },
  {
   "cell_type": "code",
   "execution_count": 8,
   "metadata": {},
   "outputs": [],
   "source": [
    "rk.addVar(\"collFreq\", np.ones(2),isDerived=True) # Collision frequency set arbitrarily\n",
    "\n",
    "rk.addCustomDerivation(\"K200\", treeDerivation(aniso.K_LMN(,LMN=\"200\"))) #[YOUR CODE HERE]\n",
    "rk.addCustomDerivation(\"K002\", treeDerivation(aniso.K_LMN(,LMN=\"002\"))) #[YOUR CODE HERE]"
   ]
  },
  {
   "attachments": {},
   "cell_type": "markdown",
   "metadata": {},
   "source": [
    "There is one issue with these terms, namely as the system approaches isotropy, the value of $X$ will aproach zero. This is problematic as the numerical solver will break due to a divide by zero error. Hence, the terms $K_{200}$ and $K_{002}$ need to have a form that is used only when X approaches zero. This situation is a prime candidate to make use of ReMKiT1D's `rangeFilterDerivation()` function. \n",
    "\n",
    "To begin, let's create the variable $X$, which has the form:\n",
    "$$\n",
    "    X = \\frac{T_\\perp}{T_\\parallel} - 1\n",
    "$$\n",
    "Add this derived variable using calculation tree derivations below"
   ]
  },
  {
   "cell_type": "code",
   "execution_count": 9,
   "metadata": {},
   "outputs": [],
   "source": [
    "rk.addVarAndDual(\"X\",) # [YOUR CODE HERE]"
   ]
  },
  {
   "attachments": {},
   "cell_type": "markdown",
   "metadata": {},
   "source": [
    "Next we can create derivations for $K_{200}$ $K_{002}$ when $X$ is small. Look at the documentation of `K_LMN` and set the appropriate flags below."
   ]
  },
  {
   "cell_type": "code",
   "execution_count": 10,
   "metadata": {},
   "outputs": [],
   "source": [
    "rk.addCustomDerivation(\"K200Small\", treeDerivation(aniso.K_LMN())) # [YOUR CODE HERE]\n",
    "\n",
    "rk.addCustomDerivation(\"K002Small\", treeDerivation(aniso.K_LMN())) # [YOUR CODE HERE]"
   ]
  },
  {
   "attachments": {},
   "cell_type": "markdown",
   "metadata": {},
   "source": [
    "We can use the `rangeFilterDerivation()` function found in `simple_containers` to write what the values of $K_{200}$ and $K_{002}$ are in the different regimes. Since $-\\infty < X < \\infty$ we must assign three different ranges in which $K_{200}$ and $K_{002}$ must be calculated. These being:\n",
    "$$\n",
    "    \\begin{cases}\n",
    "        -1e16 < X < -0.01 \\\\\n",
    "        |X| << 0.01 \\\\\n",
    "        0.01 > X < 1e16 \\\\\n",
    "    \\end{cases}\n",
    "$$\n",
    "**Note** that the range is not actually $-\\infty < X < \\infty$, since the solver deals with floating point numbers we must give a large float as the range.\n",
    "\n",
    "The `rangeFilterDerivation()` is passed a list of variables that are required to create the derivation. Firstly the derivation that will be filtered by range is given. The control variable that is used to specify the range is provided, this is done by passing the index of the control variable from the list of variables passed to the `rangeFilterDerivation()`. Next the range of values that the control variable may have is specified. The variables that are required by the derivation are specified, this is done by providing the index of the variables used in the derivation.\n",
    "\n",
    "This is also explained in the docstring of the `rangeFilterDerivation()`:"
   ]
  },
  {
   "cell_type": "code",
   "execution_count": 11,
   "metadata": {},
   "outputs": [
    {
     "name": "stdout",
     "output_type": "stream",
     "text": [
      "Help on function rangeFilterDerivation in module RMK_support.simple_containers:\n",
      "\n",
      "rangeFilterDerivation(derivName: str, controlIndices: List[int], controlRanges: List[List[float]], derivIndices: Optional[List[int]] = None) -> dict\n",
      "    Return composite derivation object which wraps another derivation with range-based filtering, zeroing out all values where\n",
      "    passed variables corresponding to controlIndices are outside ranges specified by controlRanges. If derivIndices aren't present all\n",
      "    passed variables are passed to the derivation in that order.\n",
      "    \n",
      "    Args:\n",
      "        derivName (str): Name of the wrapped derivation\n",
      "        controlIndices (List[int]): Indices of passed variables corresponding to control variables\n",
      "        controlRanges (list[List[float]]): Ranges (all length 2) corresponding to each control variable\n",
      "        derivIndices (Union[None,List[int]], optional): Optional subset of passed variables passed to the wrapped derivation. Defaults to None, passing all variables.\n",
      "    \n",
      "    Returns:\n",
      "        dict: Derivation property dictionary\n",
      "\n"
     ]
    }
   ],
   "source": [
    "help(sc.rangeFilterDerivation)"
   ]
  },
  {
   "attachments": {},
   "cell_type": "markdown",
   "metadata": {},
   "source": [
    "We add a derivation for both $K_{200}$ and $K_{002}$ in all of the specified ranges. Making sure that for small values, the correct derivation is used.\n",
    "\n",
    "Complete the ranges below based on what is discussed above"
   ]
  },
  {
   "cell_type": "code",
   "execution_count": 12,
   "metadata": {},
   "outputs": [],
   "source": [
    "# K200\n",
    "rk.addCustomDerivation(\"filterSmallValsK200\", \n",
    "                       sc.rangeFilterDerivation(\"K200Small\",\n",
    "                                                controlIndices=[1], \n",
    "                                                controlRanges=[[-0.01,0.01]], \n",
    "                                                derivIndices=[2,3]\n",
    "                                                )\n",
    "                       )\n",
    "\n",
    "rk.addCustomDerivation(\"filterPlusLargeK200\", \n",
    "                       sc.rangeFilterDerivation(\"K200\", \n",
    "                                                controlIndices=[1],\n",
    "                                                controlRanges=[[]], # [YOUR CODE HERE]\n",
    "                                                derivIndices=[2,3]\n",
    "                                                )\n",
    "                       )\n",
    "\n",
    "rk.addCustomDerivation(\"filterMinusLargeK200\", \n",
    "                       sc.rangeFilterDerivation(\"K200\",\n",
    "                                                controlIndices=[1],\n",
    "                                                controlRanges=[[]], # [YOUR CODE HERE]\n",
    "                                                derivIndices=[2,3]\n",
    "                                                )\n",
    "                       )\n",
    "\n",
    "\n",
    "# K002\n",
    "rk.addCustomDerivation(\"filterSmallValsK002\", \n",
    "                       sc.rangeFilterDerivation(\"K002Small\",\n",
    "                                                controlIndices=[1],\n",
    "                                                controlRanges=[[]], # [YOUR CODE HERE]\n",
    "                                                derivIndices=[2,3]\n",
    "                                                )\n",
    "                       ) \n",
    "\n",
    "rk.addCustomDerivation(\"filterPlusLargeK002\", \n",
    "                       sc.rangeFilterDerivation(\"K002\",\n",
    "                                                controlIndices=[1],\n",
    "                                                controlRanges=[[]], # [YOUR CODE HERE]\n",
    "                                                derivIndices=[2,3]\n",
    "                                                )\n",
    "                       ) \n",
    "\n",
    "rk.addCustomDerivation(\"filterMinusLargeK002\", \n",
    "                       sc.rangeFilterDerivation(\"K002\",\n",
    "                                                controlIndices=[1],\n",
    "                                                controlRanges=[[]], # [YOUR CODE HERE]\n",
    "                                                derivIndices=[2,3]\n",
    "                                                )\n",
    "                       )"
   ]
  },
  {
   "attachments": {},
   "cell_type": "markdown",
   "metadata": {},
   "source": [
    "Since the ranges of the filtered functions do not overlap, we can simply combine them and store them as a single variable so that $K_{200}$ and $K_{002}$ exist over the range $-1e16 < X < 1e16$. This can be done using the `additiveDerivation()` function found in `simple_containers`.\n",
    "\n",
    "The `additiveDerivation()` requires a list of the derivations which are to be combined and stored as a single variable. The result can be raised to an arbitrary power. Similarly to the `rangeFilterDerivation()`, the `additiveDerivation()` is passed a list of variables that are used within the derivation. The indecies of the variables required for each derivation must be provided.\n",
    "\n",
    "This is also explained in the docstring of the `additiveDerivation()`:"
   ]
  },
  {
   "cell_type": "code",
   "execution_count": 13,
   "metadata": {},
   "outputs": [
    {
     "name": "stdout",
     "output_type": "stream",
     "text": [
      "Help on function additiveDerivation in module RMK_support.simple_containers:\n",
      "\n",
      "additiveDerivation(derivTags: List[str], resultPower: float, derivIndices: List[List[int]], linCoeffs: List[float] = []) -> dict\n",
      "    Returns property dictionary for additive composite derivation which sums up the results of each derivation in derivTags and\n",
      "    raises the corresponding result to resultPower.\n",
      "    \n",
      "    Args:\n",
      "        derivTags (List[str]): List of derivations whose output should be added\n",
      "        resultPower (float): Power to raise the result of the addition\n",
      "        derivIndices (List[List[int]]]): List of index lists corresponding to each derivation in derivTags.\n",
      "        linCoeffs (List[List[int]]]): List linear coefficients corresponding to each derivation in derivTags. Defaults to [] resulting in a list of ones.\n",
      "    \n",
      "    Returns:\n",
      "        dict: Dictionary representing derivation properties\n",
      "    \n",
      "    Usage:\n",
      "        Given a passed set of variables to the additive derivation object, each individual derivation in derivTags is passed a subset\n",
      "        of the variables determined by its entry in derivIndices. For example:\n",
      "    \n",
      "        Variables passed to additive derivation as required variables: [\"n\",\"T\",\"q\"]\n",
      "        derivTags: [\"deriv1\",\"deriv2\"] (assumes these derivations are already registered)\n",
      "        derivIndices: [[1,2],[1,3,2]]\n",
      "    \n",
      "        The above will result in deriv1 getting access to [\"n\",\"T\"] and \"deriv2\" to [\"n\",\"q\",\"T\"]. Note the order.\n",
      "\n"
     ]
    }
   ],
   "source": [
    "help(sc.additiveDerivation)"
   ]
  },
  {
   "attachments": {},
   "cell_type": "markdown",
   "metadata": {},
   "source": [
    "We can now add the variables $K_{200}$ and $K_{002}$ using an additive derivation with filtered values. \n",
    "\n",
    "The filtering variable is the first one passed to the derivation ($X$ in this case). \n",
    "\n",
    "Which variables are used in the original $K_{200}$ and $K_{002}$ derivations, which are being filtered? \n",
    "\n",
    "Complete the derivation rules below"
   ]
  },
  {
   "cell_type": "code",
   "execution_count": 14,
   "metadata": {},
   "outputs": [],
   "source": [
    "rk.addVarAndDual(\"K200\",\n",
    "                 isDerived=True,\n",
    "                 derivationRule=sc.derivationRule(\"filteredK200\",[]), # [YOUR CODE HERE]\n",
    "                 derivOptions=sc.additiveDerivation([\"filterSmallValsK200\",\"filterPlusLargeK200\",\"filterMinusLargeK200\"],\n",
    "                                                    resultPower=1., \n",
    "                                                    derivIndices=[[1,2,3]]*3\n",
    "                                                    )\n",
    "                 )\n",
    "\n",
    "rk.addVarAndDual(\"K002\",\n",
    "                 isDerived=True,\n",
    "                 derivationRule=sc.derivationRule(\"filteredK002\",[]), # [YOUR CODE HERE]\n",
    "                 derivOptions=sc.additiveDerivation([\"filterSmallValsK002\",\"filterPlusLargeK002\",\"filterMinusLargeK002\"],\n",
    "                                                    resultPower=1., \n",
    "                                                    derivIndices=[[1,2,3]]*3\n",
    "                                                    )\n",
    "                 )"
   ]
  },
  {
   "attachments": {},
   "cell_type": "markdown",
   "metadata": {},
   "source": [
    "### Implicit temperature derivation\n",
    "Fluid models in ReMKiT1D are mostly written in conservative form. As such, the temperature is considered a derived variable. However, we can make use of the `implicitTemperatures()` function found in `common_models` to derive the temperature from the implicit fluid variables such that temperature is also an implicit variable."
   ]
  },
  {
   "cell_type": "code",
   "execution_count": 15,
   "metadata": {},
   "outputs": [
    {
     "name": "stdout",
     "output_type": "stream",
     "text": [
      "Help on function implicitTemperatures in module RMK_support.common_models:\n",
      "\n",
      "implicitTemperatures(modelTag: str, speciesFluxes: List[str], speciesEnergies: List[str], speciesDensities: List[str], speciesTemperatures: List[str], species: List[RMK_support.simple_containers.Species], speciesDensitiesDual: Optional[List[str]] = None, evolvedXU2Cells: Optional[List[int]] = None, ignoreKineticContribution=False, degreesOfFreedom: int = 3) -> RMK_support.simple_containers.CustomModel\n",
      "    Generate implicit temperature derivation terms for each species\n",
      "    \n",
      "    Args:\n",
      "        speciesFluxes (List[str]): Names of evolved species fluxes\n",
      "        speciesEnergies (List[str]): Names of species energies\n",
      "        speciesDensities (List[str]): Names of species densities\n",
      "        speciesTemperatures (List[str]): Names of species temperature\n",
      "        species (list[sc.Species]): Species objects for each species\n",
      "        speciesDensitiesDual (Union[List[str],None], optional): Names of species densities on dual grid (use when fluxes are staggered). Defaults to None.\n",
      "        evolvedXU2Cells (Union[List[int],None], optional): Optional list of evolved X cells in kinetic energy term. Defaults to None, evolving all cells.\n",
      "        ignoreKineticContribution (bool, optional): Ignores all kinetic contributions to the temperature. Defaults to False.\n",
      "        degreesOfFreedom (int): Number of translational degrees of freedom going into temperature definition. Defaults to 3\n",
      "    Returns:\n",
      "        sc.CustomModel: CustomModel object ready for insertion into JSON config file\n",
      "\n"
     ]
    }
   ],
   "source": [
    "help(cm.implicitTemperatures)"
   ]
  },
  {
   "cell_type": "code",
   "execution_count": 16,
   "metadata": {},
   "outputs": [
    {
     "name": "stdout",
     "output_type": "stream",
     "text": [
      "Checking terms in model implicitTempElPar:\n",
      "   Checking term identityTermTePar\n",
      "   Checking term wTermTePar\n",
      "   Checking term u2TermTePar\n",
      "Checking terms in model implicitTempElPerp:\n",
      "   Checking term identityTermTePerp\n",
      "   Checking term wTermTePerp\n"
     ]
    }
   ],
   "source": [
    "# Initializing model\n",
    "implicitTempModelPar = cm.implicitTemperatures(modelTag=\"implicitTempElPar\",\n",
    "                                            speciesFluxes=[\"Ge_dual\"],\n",
    "                                            speciesDensities=[\"ne\"],\n",
    "                                            speciesEnergies=[\"WePar\"],\n",
    "                                            speciesTemperatures=[\"TePar\"],\n",
    "                                            species=[electronSpecies],\n",
    "                                            speciesDensitiesDual=[\"ne_dual\"],\n",
    "                                            degreesOfFreedom=1)\n",
    "\n",
    "rk.addModel(implicitTempModelPar)\n",
    "\n",
    "# Initializing model\n",
    "implicitTempModelPerp = cm.implicitTemperatures(modelTag=\"implicitTempElPerp\",\n",
    "                                            speciesFluxes=[\"Ge_dual\"],\n",
    "                                            speciesDensities=[\"ne\"],\n",
    "                                            speciesEnergies=[\"WePerp\"],\n",
    "                                            speciesTemperatures=[\"TePerp\"],\n",
    "                                            species=[electronSpecies],\n",
    "                                            speciesDensitiesDual=[\"ne_dual\"],\n",
    "                                            degreesOfFreedom=2,\n",
    "                                            ignoreKineticContribution=True)\n",
    "\n",
    "rk.addModel(implicitTempModelPerp)"
   ]
  },
  {
   "attachments": {},
   "cell_type": "markdown",
   "metadata": {},
   "source": [
    "### Temperature Isotropisation\n",
    "We have a small number of evolved variables, with many custom terms, all with diagonal stencils. This is a prime candidate for the use of the `addNodeMatrixTermModel()` function to nearly create the models in single lines. The Equations that need to be implemented are:\n",
    "$$\n",
    "    \\frac{\\partial W_\\perp}{\\partial t} = 2 n \\nu \\left[T_\\perp (K_{002} - K_{200}) \\right]\n",
    "$$\n",
    "$$\n",
    "    \\frac{\\partial W_\\parallel}{\\partial t} = 4 n \\nu \\left[ T_\\parallel (K_{200} - K_{002}) \\right]\n",
    "$$\n",
    "Add these models in the cell below."
   ]
  },
  {
   "cell_type": "code",
   "execution_count": 17,
   "metadata": {},
   "outputs": [
    {
     "name": "stdout",
     "output_type": "stream",
     "text": [
      "Checking terms in model perpIsoEl:\n",
      "   Checking term nodeTerm_0\n",
      "   Checking term nodeTerm_1\n",
      "Checking terms in model parIsoEl:\n",
      "   Checking term nodeTerm_0\n",
      "   Checking term nodeTerm_1\n"
     ]
    }
   ],
   "source": [
    "perpIsoEl = cm.addNodeMatrixTermModel() # [YOUR CODE HERE]\n",
    "\n",
    "parIsoEl = cm.addNodeMatrixTermModel() # [YOUR CODE HERE]"
   ]
  },
  {
   "attachments": {},
   "cell_type": "markdown",
   "metadata": {},
   "source": [
    "### Time integration"
   ]
  },
  {
   "cell_type": "code",
   "execution_count": 18,
   "metadata": {},
   "outputs": [],
   "source": [
    "rk.addIntegrator(\"BE\",sc.picardBDEIntegrator(nonlinTol=1e-12,absTol=10.0,convergenceVars=['TePerp','TePar']) ) # we want all evolved variables to converge\n",
    "\n",
    "rk.setIntegratorGlobalData(initialTimestep=0.1)\n",
    "\n",
    "rk.addTermDiagnosisForVars([\"WePar\",\"WePerp\"])\n",
    "\n",
    "bdeStep = sc.IntegrationStep(\"BE\")\n",
    "\n",
    "for tag in rk.modelTags():\n",
    "    bdeStep.addModel(tag)\n",
    "\n",
    "rk.addIntegrationStep(\"StepBDE\",bdeStep.dict())\n",
    "\n",
    "rk.setFixedNumTimesteps(2500)\n",
    "rk.setFixedStepOutput(50)"
   ]
  },
  {
   "attachments": {},
   "cell_type": "markdown",
   "metadata": {},
   "source": [
    "### Write config file"
   ]
  },
  {
   "cell_type": "code",
   "execution_count": 19,
   "metadata": {},
   "outputs": [],
   "source": [
    "rk.writeConfigFile()"
   ]
  },
  {
   "attachments": {},
   "cell_type": "markdown",
   "metadata": {},
   "source": [
    "### Data analysis"
   ]
  },
  {
   "cell_type": "code",
   "execution_count": null,
   "metadata": {},
   "outputs": [],
   "source": [
    "numFiles = 50\n",
    "loadFilenames = [hdf5Filepath+f'ReMKiT1DVarOutput_{i}.h5' for i in range(numFiles+1)]\n",
    "loadedData = io.loadFromHDF5(rk.varCont, filepaths=loadFilenames,\n",
    "                             isXinMeters=rk.grid.isLengthInMeters)\n",
    "loadedData"
   ]
  },
  {
   "cell_type": "code",
   "execution_count": null,
   "metadata": {},
   "outputs": [],
   "source": [
    "hv.extension('matplotlib')\n",
    "%matplotlib inline\n",
    "plt.rcParams['figure.dpi'] = 150\n",
    "hv.output(size=100, dpi=150)"
   ]
  },
  {
   "cell_type": "code",
   "execution_count": null,
   "metadata": {},
   "outputs": [],
   "source": [
    "pn.extension(comms=\"vscode\")  # change comms if not using VSCode\n",
    "dashboard = ds.ReMKiT1DDashboard(loadedData, rk.grid)\n",
    "\n",
    "dashboard.fluid2Comparison().show()\n"
   ]
  }
 ],
 "metadata": {
  "kernelspec": {
   "display_name": "base",
   "language": "python",
   "name": "python3"
  },
  "language_info": {
   "codemirror_mode": {
    "name": "ipython",
    "version": 3
   },
   "file_extension": ".py",
   "mimetype": "text/x-python",
   "name": "python",
   "nbconvert_exporter": "python",
   "pygments_lexer": "ipython3",
   "version": "3.11.4"
  },
  "orig_nbformat": 4,
  "vscode": {
   "interpreter": {
    "hash": "ff8f2428dc3eb188e2e216a6211ff44fd5bddad70cc91a3384bfdc9970f44622"
   }
  }
 },
 "nbformat": 4,
 "nbformat_minor": 2
}
