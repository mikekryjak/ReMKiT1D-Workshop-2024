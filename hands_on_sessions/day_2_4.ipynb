{
 "cells": [
  {
   "attachments": {},
   "cell_type": "markdown",
   "metadata": {},
   "source": [
    "## Hands on session 2.4 - highly composite derivations\n",
    "\n",
    "This session returns to the calculation tree derivations first shown in session 1.3, building on these tools and demonstrating a real use case for them.\n",
    "\n",
    "The file `anisotropy.py` is supplied which contains a collection of functions used in more complex derivations.\n",
    "\n",
    "Demonstrated concepts:\n",
    "\n",
    "- Building functions out of node calcu   lations\n",
    "- Appyling range filter cutoffs in derivations\n",
    "- Additive derivations\n",
    "- Implicit temperature derivations\n"
   ]
  },
  {
   "cell_type": "code",
   "execution_count": 18,
   "metadata": {},
   "outputs": [],
   "source": [
    "import numpy as np\n",
    "import xarray as xr\n",
    "import sys\n",
    "\n",
    "import holoviews as hv\n",
    "import matplotlib.pyplot as plt\n",
    "import matplotlib as mpl\n",
    "from holoviews import opts\n",
    "import panel as pn\n",
    "\n",
    "import anisotropy as aniso\n",
    "import RMK_support.simple_containers as sc\n",
    "import RMK_support.common_models as cm \n",
    "import RMK_support.IO_support as io\n",
    "from RMK_support import RKWrapper, Grid, treeDerivation, Node\n",
    "import RMK_support.dashboard_support as ds"
   ]
  },
  {
   "attachments": {},
   "cell_type": "markdown",
   "metadata": {},
   "source": [
    "### The system\n",
    "A true model of an anisotropic plasma would require a full set of fluid equations. For the sake of brevity this is not done here. Nonetheless, one integral part of an anisotropic plasma model is the isotropisation of temperatures. It is this process that is demonstrated here in this notebook.\n",
    "\n",
    "The equations shown here can be found in [Chodura et al.](link)\n",
    "\n",
    "We will look at the simplified one species case (for electrons) first. In this case, the anisotropy is quantified by the variable \n",
    "\n",
    "$$\n",
    "    X = \\frac{T_\\perp}{T_\\parallel} - 1\n",
    "$$\n",
    "\n",
    "With these variables defined, the equations that govern the system are:\n",
    "$$\n",
    "    \\frac{\\partial W_\\perp}{\\partial t} = 2 n \\nu \\left[T_\\perp (K_{002} - K_{200}) \\right]\n",
    "$$\n",
    "$$\n",
    "    \\frac{\\partial W_\\parallel}{\\partial t} = 4 n \\nu \\left[ T_\\parallel (K_{200} - K_{002}) \\right]\n",
    "$$\n",
    "where $\\nu$ is in our case an arbitrary collisionality.\n",
    "$K_{LMN}$ are results of taking moments of a bi-Maxwellian:\n",
    "$$\n",
    "    K_{200} = \\frac{1}{X} \\left[ -1 + (1 + X)\\varphi (X) \\right]\n",
    "$$\n",
    "$$\n",
    "    K_{002} = \\frac{2}{X} \\left[ 1 - \\varphi (X) \\right]\n",
    "$$\n",
    "where $\\varphi$ for $X>0$:\n",
    "$$\n",
    "    \\varphi = \\frac{\\arctan{(\\sqrt{X})}}{\\sqrt{X}}\n",
    "$$\n",
    "and for $X<0$:\n",
    "$$\n",
    "    \\varphi = \\frac{\\log{\\frac{1+\\sqrt{-X}}{1-\\sqrt{-X}}}}{2\\sqrt{-X}}\n",
    "$$"
   ]
  },
  {
   "attachments": {},
   "cell_type": "markdown",
   "metadata": {},
   "source": [
    "### Basic setup\n",
    "\n",
    "In a full model evolving all fluid variables we would include many spatial derivative terms. However, since we're only interested in the 0D effect of temperature isotropisation we can reduce the number of cells simulated as much as possible. Because we want to write the setup in a general way, using staggered grids, we need at least 2 cells."
   ]
  },
  {
   "cell_type": "code",
   "execution_count": 19,
   "metadata": {},
   "outputs": [],
   "source": [
    "#Wrapper initialization\n",
    "rk = RKWrapper()\n",
    "\n",
    "#I/O setuo\n",
    "rk.jsonFilepath = \"./config.json\" \n",
    "hdf5Filepath = \"./RMKOutput/day_2_4/\"\n",
    "rk.setHDF5Path(hdf5Filepath) \n",
    "\n",
    "#Grid initialization\n",
    "xGridWidths = np.ones(2)\n",
    "rk.grid = Grid(xGridWidths, interpretXGridAsWidths=True)"
   ]
  },
  {
   "attachments": {},
   "cell_type": "markdown",
   "metadata": {},
   "source": [
    "### Normalization"
   ]
  },
  {
   "cell_type": "code",
   "execution_count": 20,
   "metadata": {},
   "outputs": [],
   "source": [
    "elMass = 9.10938e-31 # electron mass\n",
    "amu = 1.6605390666e-27  # atomic mass unit\n",
    "\n",
    "rk.setNormDensity(1.0e19)\n",
    "rk.setNormTemperature(10.0)\n",
    "rk.setNormRefZ(1.0)"
   ]
  },
  {
   "attachments": {},
   "cell_type": "markdown",
   "metadata": {},
   "source": [
    "### Handling particle species data"
   ]
  },
  {
   "cell_type": "code",
   "execution_count": 21,
   "metadata": {},
   "outputs": [],
   "source": [
    "rk.addSpecies(\"e\", 0, atomicA=elMass/amu, charge=-1.0, associatedVars=[\"ne\", \"Ge\", \"WePar\", \"WePerp\"])\n",
    "\n",
    "electronSpecies = rk.getSpecies(\"e\")"
   ]
  },
  {
   "attachments": {},
   "cell_type": "markdown",
   "metadata": {},
   "source": [
    "### Base variables"
   ]
  },
  {
   "cell_type": "code",
   "execution_count": 22,
   "metadata": {},
   "outputs": [],
   "source": [
    "# Set conserved variables in container\n",
    "TePar = 2*np.ones(2)\n",
    "TePerp = 5*np.ones(2)\n",
    "\n",
    "ne = np.ones(2)\n",
    "\n",
    "WePar = ne*TePar/2\n",
    "WePerp = ne*TePerp\n",
    "\n",
    "# Units are not used by ReMKiT1D, but are useful to specify for later plotting\n",
    "rk.addVarAndDual(\"ne\", ne, units='$10^{19} m^{-3}$', isCommunicated=True)\n",
    "rk.addVarAndDual(\"Ge\", primaryOnDualGrid=True, isCommunicated=True)  # Ge_dual is evolved, and Ge is derived\n",
    "rk.addVarAndDual(\"WePar\", WePar, units='$10^{20} eV m^{-3}$', isCommunicated=True)\n",
    "rk.addVarAndDual(\"WePerp\", WePerp, units='$10^{20} eV m^{-3}$', isCommunicated=True)\n",
    "\n",
    "# Temperatures\n",
    "rk.addVarAndDual(\"TePar\", TePar, isStationary=True, units='$10eV$', isCommunicated=True)\n",
    "rk.addVarAndDual(\"TePerp\", TePerp, isStationary=True, units='$10eV$', isCommunicated=True)"
   ]
  },
  {
   "attachments": {},
   "cell_type": "markdown",
   "metadata": {},
   "source": [
    "### Anisotropic variables\n",
    "Let us begin by declaring the necessary derived variables used in this workbook: $\\nu$, $K_{200}$ & $K_{002}$."
   ]
  },
  {
   "cell_type": "code",
   "execution_count": 23,
   "metadata": {},
   "outputs": [],
   "source": [
    "rk.addVar(\"collFreq\", np.ones(2),isDerived=True)\n",
    "\n",
    "rk.addCustomDerivation(\"K200\", treeDerivation(aniso.K_LMN(Node(\"TePerp\")/Node(\"TePar\"),\"200\")))\n",
    "rk.addCustomDerivation(\"K002\", treeDerivation(aniso.K_LMN(Node(\"TePerp\")/Node(\"TePar\"),\"002\")))"
   ]
  },
  {
   "attachments": {},
   "cell_type": "markdown",
   "metadata": {},
   "source": [
    "There is one issue with these terms, namely as the system approaches isotropy, the value of $X$ will aproach zero. This is problematic as the numerical solver will break due to a divide by zero error. Hence, the terms $K_{200}$ and $K_{002}$ need to have a form that is used only when X approaches zero. This situation is a prime candidate to make use of ReMKiT1D's `rangeFilterDerivation()` function. \n",
    "\n",
    "To begin, let's create the variable $X$ as well as derivations for $K_{200}$ $K_{002}$ when $X$ is small:"
   ]
  },
  {
   "cell_type": "code",
   "execution_count": 24,
   "metadata": {},
   "outputs": [],
   "source": [
    "rk.addVarAndDual(\"X\",\n",
    "                 isDerived=True,\n",
    "                 derivationRule=sc.derivationRule(\"XDeriv\", (\"TePar\",\"TePerp\")),\n",
    "                 derivOptions=treeDerivation(Node(\"TePerp\")/Node(\"TePar\") - 1))\n",
    "\n",
    "rk.addCustomDerivation(\"K200Small\", treeDerivation(aniso.K_LMN(Node(\"TePerp\")/Node(\"TePar\"),\"200\",smallX=True)))\n",
    "\n",
    "rk.addCustomDerivation(\"K002Small\", treeDerivation(aniso.K_LMN(Node(\"TePerp\")/Node(\"TePar\"),\"002\",smallX=True)))"
   ]
  },
  {
   "attachments": {},
   "cell_type": "markdown",
   "metadata": {},
   "source": [
    "Let us take a look at how the `rangeFilterDerivation()` function works:"
   ]
  },
  {
   "cell_type": "code",
   "execution_count": 25,
   "metadata": {},
   "outputs": [
    {
     "name": "stdout",
     "output_type": "stream",
     "text": [
      "Help on function rangeFilterDerivation in module RMK_support.simple_containers:\n",
      "\n",
      "rangeFilterDerivation(derivName: str, controlIndices: List[int], controlRanges: List[List[float]], derivIndices: Optional[List[int]] = None) -> dict\n",
      "    Return composite derivation object which wraps another derivation with range-based filtering, zeroing out all values where\n",
      "    passed variables corresponding to controlIndices are outside ranges specified by controlRanges. If derivIndices aren't present all\n",
      "    passed variables are passed to the derivation in that order.\n",
      "    \n",
      "    Args:\n",
      "        derivName (str): Name of the wrapped derivation\n",
      "        controlIndices (List[int]): Indices of passed variables corresponding to control variables\n",
      "        controlRanges (list[List[float]]): Ranges (all length 2) corresponding to each control variable\n",
      "        derivIndices (Union[None,List[int]], optional): Optional subset of passed variables passed to the wrapped derivation. Defaults to None, passing all variables.\n",
      "    \n",
      "    Returns:\n",
      "        dict: Derivation property dictionary\n",
      "\n"
     ]
    }
   ],
   "source": [
    "help(sc.rangeFilterDerivation)"
   ]
  },
  {
   "attachments": {},
   "cell_type": "markdown",
   "metadata": {},
   "source": [
    "We can use the `rangeFilterDerivation()` function found in `simple_containers` to write what the value of $K_{200}$ and $K_{002}$ in the different regimes. Since $-\\infty < X < \\infty$ we must assign three different ranges in which $K_{200}$ and $K_{002}$ must be calculated. These being:\n",
    "$$\n",
    "    \\begin{cases}\n",
    "        -1e16 < X < -0.01 \\\\\n",
    "        |X| << 0.01 \\\\\n",
    "        0.01 > X < 1e16 \\\\\n",
    "    \\end{cases}\n",
    "$$\n",
    "Note that the range is not actually $-\\infty < X < \\infty$, since the solver deals with floating point numbers we must give a large float as the range."
   ]
  },
  {
   "cell_type": "code",
   "execution_count": 26,
   "metadata": {},
   "outputs": [],
   "source": [
    "rk.addCustomDerivation(\"filterSmallValsK200\", sc.rangeFilterDerivation(\"K200Small\",controlIndices=[1],controlRanges=[[-0.01,0.01]],derivIndices=[2,3]))\n",
    "rk.addCustomDerivation(\"filterPlusLargeK200\", sc.rangeFilterDerivation(\"K200\",controlIndices=[1],controlRanges=[[0.01,1e16]],derivIndices=[2,3]))\n",
    "rk.addCustomDerivation(\"filterMinusLargeK200\", sc.rangeFilterDerivation(\"K200\",controlIndices=[1],controlRanges=[[-1e16,-0.01]],derivIndices=[2,3]))\n",
    "\n",
    "rk.addCustomDerivation(\"filterSmallValsK002\", sc.rangeFilterDerivation(\"K002Small\",controlIndices=[1],controlRanges=[[-0.01,0.01]],derivIndices=[2,3]))\n",
    "rk.addCustomDerivation(\"filterPlusLargeK002\", sc.rangeFilterDerivation(\"K002\",controlIndices=[1],controlRanges=[[0.01,1e16]],derivIndices=[2,3]))\n",
    "rk.addCustomDerivation(\"filterMinusLargeK002\", sc.rangeFilterDerivation(\"K002\",controlIndices=[1],controlRanges=[[-1e16,-0.01]],derivIndices=[2,3]))"
   ]
  },
  {
   "attachments": {},
   "cell_type": "markdown",
   "metadata": {},
   "source": [
    "Since the ranges of the filtered functions do not overlap, we can simply sum them up and store them as a single variable so that $K_{200}$ and $K_{002}$ exist over the range $-1e16 < X < 1e16$. This can be done using the `additiveDerivation()` function found in `simple_containers`.\n",
    "\n",
    "Let us take a look at how the function `additiveDerivation()` function works:"
   ]
  },
  {
   "cell_type": "code",
   "execution_count": 27,
   "metadata": {},
   "outputs": [
    {
     "name": "stdout",
     "output_type": "stream",
     "text": [
      "Help on function additiveDerivation in module RMK_support.simple_containers:\n",
      "\n",
      "additiveDerivation(derivTags: List[str], resultPower: float, derivIndices: List[List[int]], linCoeffs: List[float] = []) -> dict\n",
      "    Returns property dictionary for additive composite derivation which sums up the results of each derivation in derivTags and\n",
      "    raises the corresponding result to resultPower.\n",
      "    \n",
      "    Args:\n",
      "        derivTags (List[str]): List of derivations whose output should be added\n",
      "        resultPower (float): Power to raise the result of the addition\n",
      "        derivIndices (List[List[int]]]): List of index lists corresponding to each derivation in derivTags.\n",
      "        linCoeffs (List[List[int]]]): List linear coefficients corresponding to each derivation in derivTags. Defaults to [] resulting in a list of ones.\n",
      "    \n",
      "    Returns:\n",
      "        dict: Dictionary representing derivation properties\n",
      "    \n",
      "    Usage:\n",
      "        Given a passed set of variables to the additive derivation object, each individual derivation in derivTags is passed a subset\n",
      "        of the variables determined by its entry in derivIndices. For example:\n",
      "    \n",
      "        Variables passed to additive derivation as required variables: [\"n\",\"T\",\"q\"]\n",
      "        derivTags: [\"deriv1\",\"deriv2\"] (assumes these derivations are already registered)\n",
      "        derivIndices: [[1,2],[1,3,2]]\n",
      "    \n",
      "        The above will result in deriv1 getting access to [\"n\",\"T\"] and \"deriv2\" to [\"n\",\"q\",\"T\"]. Note the order.\n",
      "\n"
     ]
    }
   ],
   "source": [
    "help(sc.additiveDerivation)"
   ]
  },
  {
   "cell_type": "code",
   "execution_count": 28,
   "metadata": {},
   "outputs": [],
   "source": [
    "rk.addVarAndDual(\"K200\",\n",
    "                 isDerived=True,\n",
    "                 derivationRule=sc.derivationRule(\"filteredK200\",[\"X\",\"TePar\",\"TePerp\"]),\n",
    "                 derivOptions=sc.additiveDerivation([\"filterSmallValsK200\",\"filterPlusLargeK200\",\"filterMinusLargeK200\"],resultPower=1., derivIndices=[[1,2,3]]*3))\n",
    "\n",
    "rk.addVarAndDual(\"K002\",\n",
    "                 isDerived=True,\n",
    "                 derivationRule=sc.derivationRule(\"filteredK002\",[\"X\",\"TePar\",\"TePerp\"]),\n",
    "                 derivOptions=sc.additiveDerivation([\"filterSmallValsK002\",\"filterPlusLargeK002\",\"filterMinusLargeK002\"],resultPower=1., derivIndices=[[1,2,3]]*3))"
   ]
  },
  {
   "attachments": {},
   "cell_type": "markdown",
   "metadata": {},
   "source": [
    "### Implicit temperature derivation\n",
    "Fluid models in ReMKiT1D are written in conservative form. As such, the temperature is considered a derived variable. However, we can make use of the `implicitTemperatures()` function found in `common_models` to derive the temperature from the implicit fluid variables such that temperature is also an implicit variable."
   ]
  },
  {
   "cell_type": "code",
   "execution_count": 29,
   "metadata": {},
   "outputs": [
    {
     "name": "stdout",
     "output_type": "stream",
     "text": [
      "Help on function implicitTemperatures in module RMK_support.common_models:\n",
      "\n",
      "implicitTemperatures(modelTag: str, speciesFluxes: List[str], speciesEnergies: List[str], speciesDensities: List[str], speciesTemperatures: List[str], species: List[RMK_support.simple_containers.Species], speciesDensitiesDual: Optional[List[str]] = None, evolvedXU2Cells: Optional[List[int]] = None, ignoreKineticContribution=False, degreesOfFreedom: int = 3) -> RMK_support.simple_containers.CustomModel\n",
      "    Generate implicit temperature derivation terms for each species\n",
      "    \n",
      "    Args:\n",
      "        speciesFluxes (List[str]): Names of evolved species fluxes\n",
      "        speciesEnergies (List[str]): Names of species energies\n",
      "        speciesDensities (List[str]): Names of species densities\n",
      "        speciesTemperatures (List[str]): Names of species temperature\n",
      "        species (list[sc.Species]): Species objects for each species\n",
      "        speciesDensitiesDual (Union[List[str],None], optional): Names of species densities on dual grid (use when fluxes are staggered). Defaults to None.\n",
      "        evolvedXU2Cells (Union[List[int],None], optional): Optional list of evolved X cells in kinetic energy term. Defaults to None, evolving all cells.\n",
      "        ignoreKineticContribution (bool, optional): Ignores all kinetic contributions to the temperature. Defaults to False.\n",
      "        degreesOfFreedom (int): Number of translational degrees of freedom going into temperature definition. Defaults to 3\n",
      "    Returns:\n",
      "        sc.CustomModel: CustomModel object ready for insertion into JSON config file\n",
      "\n"
     ]
    }
   ],
   "source": [
    "help(cm.implicitTemperatures)"
   ]
  },
  {
   "cell_type": "code",
   "execution_count": 30,
   "metadata": {},
   "outputs": [
    {
     "name": "stdout",
     "output_type": "stream",
     "text": [
      "Checking terms in model implicitTempElPar:\n",
      "   Checking term identityTermTePar\n",
      "   Checking term wTermTePar\n",
      "   Checking term u2TermTePar\n",
      "Checking terms in model implicitTempElPerp:\n",
      "   Checking term identityTermTePerp\n",
      "   Checking term wTermTePerp\n"
     ]
    }
   ],
   "source": [
    "# Initializing model\n",
    "implicitTempModelPar = cm.implicitTemperatures(modelTag=\"implicitTempElPar\",\n",
    "                                            speciesFluxes=[\"Ge_dual\"],\n",
    "                                            speciesDensities=[\"ne\"],\n",
    "                                            speciesEnergies=[\"WePar\"],\n",
    "                                            speciesTemperatures=[\"TePar\"],\n",
    "                                            species=[electronSpecies],\n",
    "                                            speciesDensitiesDual=[\"ne_dual\"],\n",
    "                                            degreesOfFreedom=1)\n",
    "\n",
    "rk.addModel(implicitTempModelPar)\n",
    "\n",
    "# Initializing model\n",
    "implicitTempModelPerp = cm.implicitTemperatures(modelTag=\"implicitTempElPerp\",\n",
    "                                            speciesFluxes=[\"Ge_dual\"],\n",
    "                                            speciesDensities=[\"ne\"],\n",
    "                                            speciesEnergies=[\"WePerp\"],\n",
    "                                            speciesTemperatures=[\"TePerp\"],\n",
    "                                            species=[electronSpecies],\n",
    "                                            speciesDensitiesDual=[\"ne_dual\"],\n",
    "                                            degreesOfFreedom=2,\n",
    "                                            ignoreKineticContribution=True)\n",
    "\n",
    "rk.addModel(implicitTempModelPerp)"
   ]
  },
  {
   "attachments": {},
   "cell_type": "markdown",
   "metadata": {},
   "source": [
    "### Temperature Isotropisation\n",
    "We have a small number of evolved variables, with many custom terms, all with diagonal stencils. This is a prime candidate for the use of the `addNodeMatrixTermModel()` function to nearly create the models in single lines."
   ]
  },
  {
   "cell_type": "code",
   "execution_count": 31,
   "metadata": {},
   "outputs": [
    {
     "name": "stdout",
     "output_type": "stream",
     "text": [
      "Checking terms in model perpIsoEl:\n",
      "   Checking term nodeTerm_0\n",
      "   Checking term nodeTerm_1\n",
      "Checking terms in model parIsoEl:\n",
      "   Checking term nodeTerm_0\n",
      "   Checking term nodeTerm_1\n"
     ]
    }
   ],
   "source": [
    "perpIsoEl = cm.addNodeMatrixTermModel(rk,\n",
    "                                      modelTag=\"perpIsoEl\", \n",
    "                                      evolvedVar=\"WePerp\",\n",
    "                                      termDefs=[(2*Node(\"collFreq\")*Node(\"K002\")/Node(\"TePerp\"),\"ne\"),\n",
    "                                                (-2*Node(\"collFreq\")*Node(\"K200\")/Node(\"TePerp\"),\"ne\")])\n",
    "\n",
    "parIsoEl = cm.addNodeMatrixTermModel(rk,\n",
    "                                      modelTag=\"parIsoEl\", \n",
    "                                      evolvedVar=\"WePar\",\n",
    "                                      termDefs=[(4*Node(\"collFreq\")*Node(\"TePerp\")*Node(\"K200\")/(Node(\"TePar\")**2),\"ne\"),\n",
    "                                                (-4*Node(\"collFreq\")*Node(\"TePerp\")*Node(\"K002\")/(Node(\"TePar\")**2),\"ne\")])"
   ]
  },
  {
   "attachments": {},
   "cell_type": "markdown",
   "metadata": {},
   "source": [
    "### Time loop options"
   ]
  },
  {
   "cell_type": "code",
   "execution_count": 32,
   "metadata": {},
   "outputs": [],
   "source": [
    "rk.addIntegrator(\"BE\",sc.picardBDEIntegrator(nonlinTol=1e-12,absTol=10.0,convergenceVars=['TePerp','TePar']) ) # we want all evolved variables to converge\n",
    "\n",
    "rk.setIntegratorGlobalData(initialTimestep=0.1)\n",
    "\n",
    "rk.addTermDiagnosisForVars([\"K200\",\"K002\"])\n",
    "\n",
    "bdeStep = sc.IntegrationStep(\"BE\")\n",
    "\n",
    "for tag in rk.modelTags():\n",
    "    bdeStep.addModel(tag)\n",
    "\n",
    "rk.addIntegrationStep(\"StepBDE\",bdeStep.dict())\n",
    "\n",
    "rk.setFixedNumTimesteps(2500)\n",
    "rk.setFixedStepOutput(50)"
   ]
  },
  {
   "attachments": {},
   "cell_type": "markdown",
   "metadata": {},
   "source": [
    "### Write config file"
   ]
  },
  {
   "cell_type": "code",
   "execution_count": 33,
   "metadata": {},
   "outputs": [],
   "source": [
    "rk.writeConfigFile()"
   ]
  },
  {
   "attachments": {},
   "cell_type": "markdown",
   "metadata": {},
   "source": [
    "### Data analysis"
   ]
  },
  {
   "cell_type": "code",
   "execution_count": null,
   "metadata": {},
   "outputs": [],
   "source": [
    "numFiles = 50\n",
    "loadFilenames = [hdf5Filepath+f'ReMKiT1DVarOutput_{i}.h5' for i in range(numFiles+1)]\n",
    "loadedData = io.loadFromHDF5(rk.varCont, filepaths=loadFilenames,\n",
    "                             isXinMeters=gridObj.isLengthInMeters)\n",
    "loadedData"
   ]
  },
  {
   "cell_type": "code",
   "execution_count": null,
   "metadata": {},
   "outputs": [],
   "source": [
    "hv.extension('matplotlib')\n",
    "%matplotlib inline\n",
    "plt.rcParams['figure.dpi'] = 150\n",
    "hv.output(size=100, dpi=150)"
   ]
  },
  {
   "cell_type": "code",
   "execution_count": null,
   "metadata": {},
   "outputs": [],
   "source": [
    "pn.extension(comms=\"vscode\")  # change comms if not using VSCode\n",
    "dashboard = ds.ReMKiT1DDashboard(loadedData, gridObj)\n",
    "\n",
    "dashboard.fluid2Comparison().show()\n"
   ]
  }
 ],
 "metadata": {
  "kernelspec": {
   "display_name": "base",
   "language": "python",
   "name": "python3"
  },
  "language_info": {
   "codemirror_mode": {
    "name": "ipython",
    "version": 3
   },
   "file_extension": ".py",
   "mimetype": "text/x-python",
   "name": "python",
   "nbconvert_exporter": "python",
   "pygments_lexer": "ipython3",
   "version": "3.11.4"
  },
  "orig_nbformat": 4,
  "vscode": {
   "interpreter": {
    "hash": "ff8f2428dc3eb188e2e216a6211ff44fd5bddad70cc91a3384bfdc9970f44622"
   }
  }
 },
 "nbformat": 4,
 "nbformat_minor": 2
}
