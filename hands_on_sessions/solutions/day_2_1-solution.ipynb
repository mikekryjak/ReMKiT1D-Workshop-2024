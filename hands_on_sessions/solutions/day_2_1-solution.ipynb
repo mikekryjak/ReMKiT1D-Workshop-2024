{
 "cells": [
  {
   "cell_type": "markdown",
   "metadata": {},
   "source": [
    "## Hands-on session 2.1 - working with kinetic simulations: Epperlein-Short test\n",
    "\n",
    "This session covers basic electron kinetics features in ReMKiT1D. It is not meant to guide the reader through detailed model construction, and most of the model is prebuilt. \n",
    "\n",
    "A companion file `es_models.py` is supplied that creates the necessary kinetic models/terms using `common_models`. \n",
    "\n",
    "The reader is required to complete the setup of the grid and the variables.\n",
    "\n",
    "Demonstrated concepts:\n",
    "\n",
    "- Setting up a full ReMKiT1D grid (x,h,v)\n",
    "- Parallelization in harmonics\n",
    "- Distribution variables\n",
    "- Moments and related derivations\n",
    "- More prebuilt derivations\n",
    "- Inspecting kinetic data "
   ]
  },
  {
   "cell_type": "code",
   "execution_count": null,
   "metadata": {},
   "outputs": [],
   "source": [
    "from RMK_support import RKWrapper ,Grid, Node, treeDerivation\n",
    "import RMK_support.simple_containers as sc\n",
    "import RMK_support.IO_support as io\n",
    "import RMK_support.dashboard_support as ds\n",
    "\n",
    "from es_models import addESModels,kappa0\n",
    "import numpy as np\n",
    "import holoviews as hv \n",
    "import panel as pn\n",
    "import matplotlib.pyplot as plt\n"
   ]
  },
  {
   "cell_type": "markdown",
   "metadata": {},
   "source": [
    "### Wrapper initialization"
   ]
  },
  {
   "cell_type": "code",
   "execution_count": null,
   "metadata": {},
   "outputs": [],
   "source": [
    "rk = RKWrapper()"
   ]
  },
  {
   "cell_type": "markdown",
   "metadata": {},
   "source": [
    "### Global parameters for writing the files"
   ]
  },
  {
   "cell_type": "code",
   "execution_count": null,
   "metadata": {},
   "outputs": [],
   "source": [
    "rk.jsonFilepath = \"./config.json\" # Default value\n",
    "hdf5Filepath = \"./RMKOutput/day_2_1/\"\n",
    "rk.setHDF5Path(hdf5Filepath) "
   ]
  },
  {
   "cell_type": "markdown",
   "metadata": {},
   "source": [
    "### MPI\n",
    "\n",
    "In kinetic simulations, we have the additional option to add processors in the harmonic direction. If you use 4 or more harmonics (`lMax>2`) try increasing numProcsH (keep in mind that the total number of harmonics should be divisible by numProcsH!)\n",
    "\n",
    "The total number of MPI processes ReMKiT1D will expect then will be `numProcsX*numProcsH`."
   ]
  },
  {
   "cell_type": "code",
   "execution_count": null,
   "metadata": {},
   "outputs": [],
   "source": [
    "rk.setMPIData(numProcsX=4,numProcsH=1) # use numProcsH to change the number of harmonic direction processes"
   ]
  },
  {
   "cell_type": "markdown",
   "metadata": {},
   "source": [
    "### Normalization\n",
    "\n",
    "Let's set a higher normalization temperature than usual"
   ]
  },
  {
   "cell_type": "code",
   "execution_count": null,
   "metadata": {},
   "outputs": [],
   "source": [
    "rk.setNormDensity(1.0e19) #n_0\n",
    "rk.setNormTemperature(100.0) #T_0\n",
    "rk.setNormRefZ(1.0) # reference ion charge for e-i collision time"
   ]
  },
  {
   "cell_type": "markdown",
   "metadata": {},
   "source": [
    "### Grid initialization\n",
    "\n",
    "We now initialize the full grid, where we need to specify the spatial and velocity grids, as well as the number of distribution function harmonics"
   ]
  },
  {
   "cell_type": "code",
   "execution_count": null,
   "metadata": {},
   "outputs": [],
   "source": [
    "dx = 150.0 # Cell width in reference e-i collision mfps (use this to control the perturbation wavelength in the ES test - larger numbers are more collisional) \n",
    "\n",
    "xGrid = dx*np.ones(64)\n",
    "\n",
    "# Velocity grid setup \n",
    "vGrid = [0.0307]\n",
    "for i in range(1,80):\n",
    "    vGrid.append(vGrid[i-1]*1.025)\n",
    "vGrid = np.array(vGrid)\n",
    "\n",
    "lMax = 1 # Highest used l harmonic (the total number of harmonics is lMax+1, including l=0)\n",
    "\n",
    "gridObj = Grid(xGrid, vGrid, lMax, interpretXGridAsWidths=True, interpretVGridAsWidths=True, isPeriodic=True)\n",
    "L = sum(xGrid) # Length of the spatial grid\n",
    "\n",
    "rk.grid = gridObj"
   ]
  },
  {
   "cell_type": "markdown",
   "metadata": {},
   "source": [
    "### Variables\n",
    "\n",
    "We will need the following variables for the Epperlein-Short test:\n",
    "\n",
    "- The electron distribution function variable\n",
    "- The density and the temperature of our electrons \n",
    "- An electric field variable\n",
    "\n",
    "Let's start by setting the initial values of our variables. \n",
    "\n",
    "**Note**: Here we use the fact that the distribution function is normalized to $n_0/v_{th}^3$ by default, and that $eT_0=m_ev_{th}^2/2$."
   ]
  },
  {
   "cell_type": "code",
   "execution_count": null,
   "metadata": {},
   "outputs": [],
   "source": [
    "n = np.ones(gridObj.numX())\n",
    "T = 1.0 + 0.001*np.sin(2*np.pi*gridObj.xGrid/L) # A small temperature perturbation around the reference value T_0=100eV\n",
    "\n",
    "# A Maxwellian with the above n and T for the l=0 harmonic and 0 for all the others\n",
    "f = np.zeros([gridObj.numX(),gridObj.numH(),gridObj.numV()])\n",
    "for i in range(gridObj.numX()):\n",
    "    f[i,gridObj.getH(0)-1,:] = np.pi**(-1.5) * T[i] ** (-1.5) * n[i] * np.exp(-gridObj.vGrid**2/T[i])"
   ]
  },
  {
   "cell_type": "markdown",
   "metadata": {},
   "source": [
    "##### Some numerical considerations\n",
    "\n",
    "We have calculated the discretized values of our analytical Maxwellian on the velocity grid we supplied. Let's check whether the numerical integration in ReMKiT1D will have the correct density. We can do this using the `velocityMoment` function of the `Grid` class."
   ]
  },
  {
   "cell_type": "code",
   "execution_count": null,
   "metadata": {},
   "outputs": [],
   "source": [
    "numerical_dens = gridObj.velocityMoment(distFun=f,momentOrder=0,momentHarmonic=1) # Note, we use the Fortran indexing here (the first harmonic is the l=0 harmonic)\n",
    "numerical_dens[0]"
   ]
  },
  {
   "cell_type": "markdown",
   "metadata": {},
   "source": [
    "As you can see, and might expect, this is not equal to the density we requested. Some discretization errors can be corrected easily by rescaling the distribution function:"
   ]
  },
  {
   "cell_type": "code",
   "execution_count": null,
   "metadata": {},
   "outputs": [],
   "source": [
    "for i in range(gridObj.numX()):\n",
    "    f[i,gridObj.getH(0)-1,:] = n[i] *f[i,gridObj.getH(0)-1,:]/numerical_dens[i]"
   ]
  },
  {
   "cell_type": "markdown",
   "metadata": {},
   "source": [
    "We can now confirm that the numerical integration will give us the correct density"
   ]
  },
  {
   "cell_type": "code",
   "execution_count": null,
   "metadata": {},
   "outputs": [],
   "source": [
    "gridObj.velocityMoment(distFun=f,momentOrder=0,momentHarmonic=1)[0]"
   ]
  },
  {
   "cell_type": "markdown",
   "metadata": {},
   "source": [
    "We can now proceed to add the distribution function to the wrapper"
   ]
  },
  {
   "cell_type": "code",
   "execution_count": null,
   "metadata": {},
   "outputs": [],
   "source": [
    "rk.addVarAndDual(\"f\",f,isDistribution=True,isCommunicated=True)"
   ]
  },
  {
   "cell_type": "markdown",
   "metadata": {},
   "source": [
    "**NOTE**: Distribution variables on staggered grids are treated the following way:\n",
    "\n",
    "- The even harmonics of \"f\" live on cell centers, and the odd live on cell edges\n",
    "- The opposite is true for \"f_dual\" - even harmonics are interpolated onto cell edges, odd harmonics are interpolated into cell centers  "
   ]
  },
  {
   "cell_type": "markdown",
   "metadata": {},
   "source": [
    "We also need to use a number of [built-in derivations](https://remkit1d-python.readthedocs.io/en/latest/custom_fluid.html#Textbook-objects-and-derivations). In particular we want to be able do derive the electron temperature. For this we pass the electron species index (more on Species in the next hands-on session) to the setup of the standard textbook object:"
   ]
  },
  {
   "cell_type": "code",
   "execution_count": null,
   "metadata": {},
   "outputs": [],
   "source": [
    "rk.setStandardTextbookOptions(tempDerivSpeciesIDs=[0]) # This will enable us to use the temperature derivation for electrons directly"
   ]
  },
  {
   "cell_type": "markdown",
   "metadata": {},
   "source": [
    "We'll use the built-in moment derivations to get the density and energy density of the electrons"
   ]
  },
  {
   "cell_type": "code",
   "execution_count": null,
   "metadata": {},
   "outputs": [],
   "source": [
    "rk.addVarAndDual(\"n\",n,units='$10^{19} m^{-3}$',isDerived=True,derivationRule=sc.derivationRule(\"densityMoment\",[\"f\"]))\n",
    "rk.addVar(\"W\",isDerived=True,derivationRule=sc.derivationRule(\"energyMoment\",[\"f\"])) # we only need the energy density at cell centers to get the temperature"
   ]
  },
  {
   "cell_type": "markdown",
   "metadata": {},
   "source": [
    "The temperature derivation for the electrons will be generated with the name `tempFromEnergye`, and will require three variables passed to it, the energy density, particle density, as well as a particle flux. Since our problem setup has no flows, we can use a dummy variable instead of the flux."
   ]
  },
  {
   "cell_type": "code",
   "execution_count": null,
   "metadata": {},
   "outputs": [],
   "source": [
    "rk.addVar(\"zeroVar\",isDerived=True,outputVar=False) # We can suppress the outputting of a variable using the outputVar flag\n",
    "rk.addVarAndDual(\"T\",T,units='$100eV$',isDerived=True,derivationRule=sc.derivationRule(\"tempFromEnergye\",[\"W\",\"n\",\"zeroVar\"]),isCommunicated=True)"
   ]
  },
  {
   "cell_type": "markdown",
   "metadata": {},
   "source": [
    "Finally, we add the electric field and time variables"
   ]
  },
  {
   "cell_type": "code",
   "execution_count": null,
   "metadata": {},
   "outputs": [],
   "source": [
    "rk.addVarAndDual(\"E\",primaryOnDualGrid=True,isCommunicated=True)\n",
    "rk.addVar(\"time\",isScalar=True,isDerived=True)"
   ]
  },
  {
   "cell_type": "markdown",
   "metadata": {},
   "source": [
    "### Adding the required models"
   ]
  },
  {
   "cell_type": "markdown",
   "metadata": {},
   "source": [
    "The `addESModels` function can be used to add all the relevant terms and models for this example"
   ]
  },
  {
   "cell_type": "code",
   "execution_count": null,
   "metadata": {},
   "outputs": [],
   "source": [
    "addESModels(wrapper=rk,\n",
    "            lMax=lMax,\n",
    "            distFunName=\"f\",\n",
    "            eFieldName=\"E\",\n",
    "            elTempName=\"T\",\n",
    "            elDensName=\"n\");"
   ]
  },
  {
   "cell_type": "markdown",
   "metadata": {},
   "source": [
    "### Adding heat flux diagnostics\n",
    "\n",
    "We want to be able to inspect the deviation of the heat flux obtained from the electron distribution function with that predicted by the classical Braginskii model. \n",
    "\n",
    "Let's first add a variable for the heat flux using one of the pre-built moment derivations "
   ]
  },
  {
   "cell_type": "code",
   "execution_count": null,
   "metadata": {},
   "outputs": [],
   "source": [
    "rk.addVarAndDual(\"q\",isDerived=True,primaryOnDualGrid=True,derivationRule=sc.derivationRule(\"heatFluxMoment\",[\"f\"]))"
   ]
  },
  {
   "cell_type": "markdown",
   "metadata": {},
   "source": [
    "Let's get ReMKiT1D to calculate the Braginskii heat flux at each step. We will need the Coulomb logarithm, the conductivity, and the temperature gradient. Let's use a combination of built-in derivations and tree derivations to calculate this.\n",
    "\n",
    "First, we need the Coulomb logarithm. An e-i Coulomb logarithm derivation is added for each ion species in a ReMKiT1D simulation. The `addESModels` function adds a species named `D+`, so we use the derivation name `logLeiD+`. "
   ]
  },
  {
   "cell_type": "code",
   "execution_count": null,
   "metadata": {},
   "outputs": [],
   "source": [
    "rk.addVar(\"logLei\",isDerived=True,derivationRule=sc.derivationRule(\"logLeiD+\",[\"T\",\"n\"]))"
   ]
  },
  {
   "cell_type": "markdown",
   "metadata": {},
   "source": [
    "The conductivity $\\kappa$ will be proportional to $T^{5/2}/\\text{logL}$. For convenience, the constant of proportionality can be obtained using the `kappa0` function from `es_models.py`. We can use this to add a variable to calculate the heat Braginskii conductivity"
   ]
  },
  {
   "cell_type": "code",
   "execution_count": null,
   "metadata": {},
   "outputs": [],
   "source": [
    "rk.addVar(\"kappa\",isDerived=True,derivationRule=sc.derivationRule(\"kappa\",[\"T\",\"logLei\"]),derivOptions=treeDerivation(kappa0(rk)*Node(\"T\")**2.5/Node(\"logLei\")))"
   ]
  },
  {
   "cell_type": "markdown",
   "metadata": {},
   "source": [
    "To construct the heatflux $q=-\\kappa \\nabla T$, we need the temperature gradient. One way of doing this is using the built-in gradient derivation `gradDeriv`, passing it the variable we want to calculate the gradient of, which should live on the regular grid."
   ]
  },
  {
   "cell_type": "code",
   "execution_count": null,
   "metadata": {},
   "outputs": [],
   "source": [
    "rk.addVar(\"gradT\",isDerived=True,derivationRule=sc.derivationRule(\"gradDeriv\",[\"T\"]))"
   ]
  },
  {
   "cell_type": "markdown",
   "metadata": {},
   "source": [
    "Finally we can assemble the heat flux using the two added variables `kappa` and `gradT` using the calculation tree approach."
   ]
  },
  {
   "cell_type": "code",
   "execution_count": null,
   "metadata": {},
   "outputs": [],
   "source": [
    "rk.addVar(\"qT\",isDerived=True,derivationRule=sc.derivationRule(\"qT\",[\"kappa\",\"gradT\"]),derivOptions=treeDerivation(-Node(\"kappa\")*Node(\"gradT\")))"
   ]
  },
  {
   "cell_type": "markdown",
   "metadata": {},
   "source": [
    "### Setting up the time integration options\n",
    "\n",
    "Below is a standard setup for the Epperlein-Short test time integration with ReMKiT1D."
   ]
  },
  {
   "cell_type": "code",
   "execution_count": null,
   "metadata": {},
   "outputs": [],
   "source": [
    "integrator = sc.picardBDEIntegrator(absTol=10.0, convergenceVars=[\"f\"])\n",
    "\n",
    "rk.addIntegrator(\"BE\", integrator)\n",
    "\n",
    "rk.setIntegratorGlobalData(initialTimestep=0.05)\n",
    "\n",
    "bdeStep = sc.IntegrationStep(\"BE\")\n",
    "\n",
    "for tag in rk.modelTags():\n",
    "    bdeStep.addModel(tag)\n",
    "\n",
    "rk.addIntegrationStep(\"BE1\", bdeStep.dict())\n",
    "\n",
    "Nt = 300\n",
    "rk.setFixedNumTimesteps(Nt)\n",
    "rk.setFixedStepOutput(Nt/30)\n",
    "\n",
    "rk.setPETScOptions(cliOpts=\"-pc_type bjacobi -sub_pc_factor_shift_type nonzero\",kspSolverType=\"gmres\")"
   ]
  },
  {
   "cell_type": "markdown",
   "metadata": {},
   "source": [
    "### Create config "
   ]
  },
  {
   "cell_type": "code",
   "execution_count": null,
   "metadata": {},
   "outputs": [],
   "source": [
    "rk.writeConfigFile()"
   ]
  },
  {
   "cell_type": "markdown",
   "metadata": {},
   "source": [
    "### Data analysis"
   ]
  },
  {
   "cell_type": "code",
   "execution_count": null,
   "metadata": {},
   "outputs": [],
   "source": [
    "hv.extension('matplotlib')\n",
    "%matplotlib inline \n",
    "plt.rcParams['figure.dpi'] = 150\n",
    "hv.output(size=100,dpi=150)\n",
    "\n",
    "numFiles=30\n",
    "loadpath = rk.hdf5Filepath\n",
    "loadFilenames = [loadpath+f'ReMKiT1DVarOutput_{i}.h5' for i in range(numFiles+1)]\n",
    "loadedData = io.loadFromHDF5(rk.varCont, filepaths=loadFilenames, varsToIgnore=[\"zeroVar\"]) # Ignore the variables that aren't in the output\n",
    "loadedData\n"
   ]
  },
  {
   "cell_type": "markdown",
   "metadata": {},
   "source": [
    "We can inspect fluid variables using the standard dashboard tool"
   ]
  },
  {
   "cell_type": "code",
   "execution_count": null,
   "metadata": {},
   "outputs": [],
   "source": [
    "pn.extension(comms=\"vscode\") # change comms if not using VSCode\n",
    "dashboard = ds.ReMKiT1DDashboard(loadedData,rk.grid)\n",
    "\n",
    "dashboard.fluid2Comparison().show()"
   ]
  },
  {
   "cell_type": "markdown",
   "metadata": {},
   "source": [
    "A way to explore distribution variables is available using the `distDynMap` function"
   ]
  },
  {
   "cell_type": "code",
   "execution_count": null,
   "metadata": {},
   "outputs": [],
   "source": [
    "dashboard.distDynMap().show()"
   ]
  },
  {
   "cell_type": "markdown",
   "metadata": {},
   "source": [
    "Finally, we can compare the simulated and classical values of the heat flux"
   ]
  },
  {
   "cell_type": "code",
   "execution_count": null,
   "metadata": {},
   "outputs": [],
   "source": [
    "dashboard.fluidMultiComparison([\"q\",\"qT\"])"
   ]
  }
 ],
 "metadata": {
  "kernelspec": {
   "display_name": "Python 3",
   "language": "python",
   "name": "python3"
  },
  "language_info": {
   "codemirror_mode": {
    "name": "ipython",
    "version": 3
   },
   "file_extension": ".py",
   "mimetype": "text/x-python",
   "name": "python",
   "nbconvert_exporter": "python",
   "pygments_lexer": "ipython3",
   "version": "3.8.10"
  }
 },
 "nbformat": 4,
 "nbformat_minor": 2
}
