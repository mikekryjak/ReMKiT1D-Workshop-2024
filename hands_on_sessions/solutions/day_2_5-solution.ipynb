{
 "cells": [
  {
   "cell_type": "markdown",
   "metadata": {},
   "source": [
    "## Hands-on session 2.5 - working with pre-built models\n",
    "\n",
    "In this session we cover an example of a full workflow for ReMKiT1D. We will generate a partially built wrapper, extend it, and use it to produce physically relevant fluid simulations of a simplified Scrape-Off Layer. \n",
    "\n",
    "Demonstrated concepts: \n",
    "\n",
    "- Pre-built wrappers \n",
    "- Integration for finding equilibria\n",
    "- Restarting runs\n",
    "- Time-dependent terms "
   ]
  },
  {
   "cell_type": "code",
   "execution_count": null,
   "metadata": {},
   "outputs": [],
   "source": [
    "import RMK_support.simple_containers as sc\n",
    "import RMK_support.IO_support as io\n",
    "import RMK_support.dashboard_support as ds \n",
    "import RMK_support.common_models as cm\n",
    "import RMK_support.sk_normalization as skn\n",
    "\n",
    "from simple_fluid import generatorSimpleFluid\n",
    "\n",
    "import numpy as np\n",
    "import holoviews as hv \n",
    "import panel as pn\n",
    "import matplotlib.pyplot as plt"
   ]
  },
  {
   "cell_type": "markdown",
   "metadata": {},
   "source": [
    "### The physical model \n",
    "\n",
    "We will look to model a 1D 2-fluid system with electrons and ions. We solve the following set of equations for both species\n",
    "\n",
    "$$ \\frac{\\partial n_b}{\\partial t} + \\nabla (\\Gamma_b) = S_b$$\n",
    "\n",
    "$$ m_b\\frac{\\partial \\Gamma_b}{\\partial t} + \\nabla (m_b \\Gamma_b u_b) + q_b n_b E= R_{bb'} $$\n",
    "\n",
    "$$ \\frac{\\partial W_b}{\\partial t} + \\nabla \\left[(W_b + p_b)u_b + q_b \\right] + j_b E= Q_b$$\n",
    "\n",
    "where $S_b$ is the particle source (here due to implied ionization due to recycling), $R_{bb'}$ is the friction due to Coulomb collision between the two species, and $q_b$ is the Braginskii heat flux. $Q_b$ is the energy source due to any external sources and due to electron-ion thermal equilibration.\n",
    "\n",
    "The electric field $E$ is obtained from what is effectively a current constraint $j_e+j_i = 0$ (by solving a degenerate Ampere-Maxwell equation). \n",
    "\n",
    "The boundary conditions are as follows:\n",
    "\n",
    "- The upstream boundary (x=0) is reflective, meaning that all fluxes are set to 0 there\n",
    "- The downstream sheath boundary has an outflow Bohm boundary condition on the particles $u_{b,sh} \\ge c_s$, where $c_s$ is the ion acoustic speed.\n",
    "- At the sheath, any outflow is converted into a recycling particle source $S_{rec} \\propto \\exp(-(L-x)/\\lambda_{ion})$ where $\\lambda_{ion}$ is an externally set ionization mean free path. The proportionality constant in front of the source is set so that it balances the flux of particles leaving the system - $\\Gamma_{sh}$ (calculated from the Bohm condition above). A corresponding energy sink $Q = -\\epsilon_{ion} S$ is added to the electron equation, mimicking the cooling of electrons due to ionization, with $\\epsilon_{ion}$ being the user-set energy cost per ionization event.\n",
    "- The energy outflow boundary condition is given as $q_{b,sh} = \\gamma_b \\Gamma_{sh} k T_{sh}$\n",
    "\n",
    "The built-in energy source is given by some upstream energy flux $q_h$, spread uniformly over a number of cells upstream.\n",
    "\n",
    "The initial conditions are specified by setting the upstream and downstream temperatures, as well as the upstream density. The profiles are then generated using the simple Two Point Model."
   ]
  },
  {
   "cell_type": "markdown",
   "metadata": {},
   "source": [
    "### Using pre-built wrapper generators \n",
    "\n",
    "In order to facilitate code sharing and flexibility, we encourage users to package their wrappers into parameterized generator functions using Python's kwargs feature. An example of a partial wrapper initialization is given in `simple_fluid.py`, and we will use this to generate the starting wrapper for this session"
   ]
  },
  {
   "cell_type": "code",
   "execution_count": null,
   "metadata": {},
   "outputs": [],
   "source": [
    "rk = generatorSimpleFluid(hdf5OutputFolder = \"day_2_5\",\n",
    "                          mpiProcsX = 8,\n",
    "                          Nx = 64, # Number of spatial cells - the grid is uniform\n",
    "                          domainLength = 10.0, # Length of the domain in meters\n",
    "                          Tu = 20.0, # Upstream initial temperature in eV\n",
    "                          Td = 5.0, # Downstream initial temperature in eV\n",
    "                          nu = 0.8, # Upstream initial density in 1e19m^-3\n",
    "                          Nh = 1, # heating a single cell - this is the same as just setting an upstream inflow heat flux\n",
    "                          heatingPower = 5.0, # Effective heating flux in MW/m^2\n",
    "                          ionMFP = 0.5, # Ionization mfp in meters,\n",
    "                          ionCost = 20.0 # Ionization cost in eV\n",
    "                          );"
   ]
  },
  {
   "cell_type": "markdown",
   "metadata": {},
   "source": [
    "The generator above intentionally does not include time integration setups in order to allow extensions. "
   ]
  },
  {
   "cell_type": "markdown",
   "metadata": {},
   "source": [
    "### Time integration for finding equilibria\n",
    "\n",
    "Let's assume we are only interested in the equilibrium solution of the above system, and do not care too much about the accuracy of time evolution. This is common in practice when looking for good equilibria for launching transients, which we shall examine later in this session. \n",
    "\n",
    "A way to reach the equilibrium relatively quickly is to employ an implicit time integration algorithm. In theory, a Backwards Euler step with infinite length is equivalent to solving the equilibrium problem. In practice, the solver has a maximum time step length after which it will (for one reason or another) break. To work around this, the `picardBDEIntegrator` has the `internalStepControl` option, which will instruct the integrator to reduce it's step length when it detects an integration failure, while periodically attempting to return to a single internal step. \n",
    "\n",
    "Let's choose a relatively long time step and set the internal step control option."
   ]
  },
  {
   "cell_type": "code",
   "execution_count": null,
   "metadata": {},
   "outputs": [],
   "source": [
    "integrator = sc.picardBDEIntegrator(absTol=10.0, convergenceVars=[\"ne\", \"ni\", \"Ge_dual\", \"Gi_dual\", \"We\", \"Wi\"], internalStepControl=True)\n",
    "\n",
    "rk.addIntegrator(\"BE\", integrator)\n",
    "\n",
    "initialTimestep=101.0\n",
    "rk.setIntegratorGlobalData(initialTimestep=initialTimestep)\n",
    "\n",
    "bdeStep = sc.IntegrationStep(\"BE\")\n",
    "\n",
    "for tag in rk.modelTags():\n",
    "    bdeStep.addModel(tag)\n",
    "\n",
    "rk.addIntegrationStep(\"StepBDE\", bdeStep.dict())"
   ]
  },
  {
   "cell_type": "markdown",
   "metadata": {},
   "source": [
    "Since we're going for something close to equilibrium, let's ask the simulation to run for a relatively long time of 20000 normalized times (around 1.5ms in this case)."
   ]
  },
  {
   "cell_type": "code",
   "execution_count": null,
   "metadata": {},
   "outputs": [],
   "source": [
    "rk.setTimeTargetTimestepping(20000)\n",
    "rk.setMinimumIntervalOutput(1000)"
   ]
  },
  {
   "cell_type": "markdown",
   "metadata": {},
   "source": [
    "We want to be able to restart the simulation, so let's ask the wrapper to keep a checkpoint every 50 steps"
   ]
  },
  {
   "cell_type": "code",
   "execution_count": null,
   "metadata": {},
   "outputs": [],
   "source": [
    "rk.setRestartOptions(save=True, # Save restart data\n",
    "                     load=False, # Start from initial conditions and not from a saved restart file\n",
    "                     frequency=50) # Save restart data every 50 steps"
   ]
  },
  {
   "cell_type": "markdown",
   "metadata": {},
   "source": [
    "### Create config \n",
    "\n",
    "To run the above, use the command \n",
    "\n",
    "```\n",
    "mpirun -np 8 /home/stefan/SMijin/ReMKiT1D/build/src/executables/ReMKiT1D/ReMKiT1D | grep -E \"Out|Int|Dump\"\n",
    "```\n",
    "\n",
    "This will trim the output so we can see only the finished integration calls, when variable data is written to file, as well as when restart data is dumped. \n",
    "\n",
    "You will notice that the solver speeds up after a slow start."
   ]
  },
  {
   "cell_type": "code",
   "execution_count": null,
   "metadata": {},
   "outputs": [],
   "source": [
    "rk.writeConfigFile()"
   ]
  },
  {
   "cell_type": "markdown",
   "metadata": {},
   "source": [
    "### Data analysis "
   ]
  },
  {
   "cell_type": "code",
   "execution_count": null,
   "metadata": {},
   "outputs": [],
   "source": [
    "hv.extension('matplotlib')\n",
    "%matplotlib inline \n",
    "plt.rcParams['figure.dpi'] = 150\n",
    "hv.output(size=100,dpi=150)\n",
    "\n",
    "numFiles=20\n",
    "loadpath = rk.hdf5Filepath\n",
    "loadFilenames = [loadpath+f'ReMKiT1DVarOutput_{i}.h5' for i in range(numFiles+1)]\n",
    "loadedData = io.loadFromHDF5(rk.varCont, filepaths=loadFilenames,varsToIgnore=[\"ionGamma\"])\n",
    "loadedData"
   ]
  },
  {
   "cell_type": "markdown",
   "metadata": {},
   "source": [
    "We can have a quick look to see that the simulation is converging"
   ]
  },
  {
   "cell_type": "code",
   "execution_count": null,
   "metadata": {},
   "outputs": [],
   "source": [
    "pn.extension(comms=\"vscode\") # change comms if not using VSCode\n",
    "dashboard = ds.ReMKiT1DDashboard(loadedData,rk.grid)\n",
    "dashboard.fluid2Comparison().show()"
   ]
  },
  {
   "cell_type": "markdown",
   "metadata": {},
   "source": [
    "### Adding a time-dependent perturbation \n",
    "\n",
    "Let's assume we're happy with how close the above simulation is to equilibrium, and that we now wish to perturb the heating power. \n",
    "\n",
    "One way of doing this would be changing the input power into the system and restarting the simulation. However, we might want a periodic perturbation. We will see how to add a periodic perturbation to our heating source, but first we must rebuild the wrapper."
   ]
  },
  {
   "cell_type": "code",
   "execution_count": null,
   "metadata": {},
   "outputs": [],
   "source": [
    "rk = generatorSimpleFluid(hdf5OutputFolder = \"day_2_5\",\n",
    "                          mpiProcsX = 8,\n",
    "                          Nx = 64, # Number of spatial cells - the grid is uniform\n",
    "                          domainLength = 10.0, # Length of the domain in meters\n",
    "                          Tu = 20.0, # Upstream initial temperature in eV\n",
    "                          Td = 5.0, # Downstream initial temperature in eV\n",
    "                          nu = 0.8, # Upstream initial density in 1e19m^-3\n",
    "                          Nh = 1, # heating a single cell - this is the same as just setting an upstream inflow heat flux\n",
    "                          heatingPower = 5.0, # Effective heating flux in MW/m^2\n",
    "                          ionMFP = 0.5, # Ionization mfp in meters,\n",
    "                          ionCost = 20.0 # Ionization cost in eV\n",
    "                          );"
   ]
  },
  {
   "cell_type": "markdown",
   "metadata": {},
   "source": [
    "### Time signal data\n",
    "\n",
    "While it is possible to add explicit time dependence by composing different derivation objects, ReMKiT1D offers a built-in way of adding periodic time dependence to matrix terms by using the `TimeSignalData` class. \n",
    "\n",
    "The documentation covers the two currently available signal forms (a hat funcion and a cut sine). See the Usage section below"
   ]
  },
  {
   "cell_type": "code",
   "execution_count": null,
   "metadata": {},
   "outputs": [],
   "source": [
    "sc.TimeSignalData?"
   ]
  },
  {
   "cell_type": "markdown",
   "metadata": {},
   "source": [
    "Let us create a `TimeSignalData` object with a \"cutSine\" profile, and a $100\\mu \\text{s}$ period, with the signal active over a 30% of the period, and with a starting delay of $20\\mu \\text{s}$."
   ]
  },
  {
   "cell_type": "code",
   "execution_count": null,
   "metadata": {},
   "outputs": [],
   "source": [
    "timeSignal = sc.TimeSignalData(signalType=\"cutSine\",period=1e-4,params=[0.2,0.5],realPeriod=True)"
   ]
  },
  {
   "cell_type": "markdown",
   "metadata": {},
   "source": [
    "We will use the `simpleSourceTerm` from `common_models` to add a heating perturbation with the above time dependence"
   ]
  },
  {
   "cell_type": "code",
   "execution_count": null,
   "metadata": {},
   "outputs": [],
   "source": [
    "cm.simpleSourceTerm?"
   ]
  },
  {
   "cell_type": "markdown",
   "metadata": {},
   "source": [
    "Let's add a fast perturbation to the electron heating. The electron energy density variable is \"We\", and we would like to add a term of the form\n",
    "\n",
    "$$ \\frac{\\partial W_e}{\\partial t} = Q(x,t) $$\n",
    "\n",
    "where we would like to have $$ Q(x,t) =   T(t)  X(t) q_{eff}/L_h$$, with $q_{eff}$ being the effective perturbation flux amplitude, $L_h$ the heating length, and $X$ and $T$ dimensionless spatial and temporal profiles.\n",
    "\n",
    "The `spatialProfile` argument to `simpleSourceTerm` should be set to the normalized value of $X(x)q_{eff}/L_h$. \n",
    "\n",
    "This example uses the default normalization, where energy density is normalized to $n_0 eT_0$, and time is normalized to $t_0$. \n",
    "\n",
    "We can use the `sk_normalization` module (specifically the `calculateNorms` function) to get the time normalization by first querying the wrapper about its normalization values."
   ]
  },
  {
   "cell_type": "code",
   "execution_count": null,
   "metadata": {},
   "outputs": [],
   "source": [
    "rk.normalization"
   ]
  },
  {
   "cell_type": "code",
   "execution_count": null,
   "metadata": {},
   "outputs": [],
   "source": [
    "densNorm = rk.normalization[\"density\"]\n",
    "tempNorm = rk. normalization[\"eVTemperature\"]"
   ]
  },
  {
   "cell_type": "code",
   "execution_count": null,
   "metadata": {},
   "outputs": [],
   "source": [
    "timeNorm=skn.calculateNorms(10.0,1e19,1.0)['time']"
   ]
  },
  {
   "cell_type": "markdown",
   "metadata": {},
   "source": [
    "Assuming that we want $q_{eff}$ to be in units of MW/$\\text{m}^2$ and that $L_h$ is in meters, the equation with normalization taken out will look like \n",
    "\n",
    "$$ \\frac{n_0 eT_0}{t_0}\\frac{\\partial W_e}{\\partial t} = X(x) T(t) \\frac{q_{eff}}{L_h}\\times 10^6$$\n",
    "\n",
    "Moving all of the normalization values to one side, we get that the `spatialProfile` after normalization should be \n",
    "\n",
    "$$ \\frac{t_0 \\times 10^6}{n_0 eT_0} X(x) \\frac{q_{eff}}{L_h} $$ \n",
    "\n",
    "Assuming we want to heat only the first cell (as in the equilibrium case), we can calculate $L_h$ as"
   ]
  },
  {
   "cell_type": "code",
   "execution_count": null,
   "metadata": {},
   "outputs": [],
   "source": [
    "L = sum(rk.grid.xWidths) # this should be equal to the domain length we set\n",
    "Nx = len(rk.grid.xWidths)\n",
    "Lh = L/Nx"
   ]
  },
  {
   "cell_type": "markdown",
   "metadata": {},
   "source": [
    "We can then create a numpy array for the spatial profile of the source"
   ]
  },
  {
   "cell_type": "code",
   "execution_count": null,
   "metadata": {},
   "outputs": [],
   "source": [
    "elCharge = 1.60218e-19 # electron charge for convenience\n",
    "\n",
    "q_eff = 10.0 # Effective heating perturbation flux in MW/m^2\n",
    "\n",
    "spatialProf = np.zeros(Nx)\n",
    "spatialProf[0] = timeNorm * q_eff * 1e6 /(Lh*densNorm*elCharge*tempNorm)"
   ]
  },
  {
   "cell_type": "markdown",
   "metadata": {},
   "source": [
    "Finally, we can add a model with the required source term"
   ]
  },
  {
   "cell_type": "code",
   "execution_count": null,
   "metadata": {},
   "outputs": [],
   "source": [
    "newModel = sc.CustomModel(\"perturbation\")\n",
    "\n",
    "newModel.addTerm(\"source\",cm.simpleSourceTerm(evolvedVar=\"We\",\n",
    "                                              sourceProfile=spatialProf,\n",
    "                                              timeSignal=timeSignal\n",
    "                                              )\n",
    "                 )\n",
    "\n",
    "rk.addModel(newModel)"
   ]
  },
  {
   "cell_type": "markdown",
   "metadata": {},
   "source": [
    "### Time integration resolving the perturbation\n",
    "\n",
    "We now want to resolve a few periods of the perturbation, while also resolving electron conductive time scales."
   ]
  },
  {
   "cell_type": "code",
   "execution_count": null,
   "metadata": {},
   "outputs": [],
   "source": [
    "integrator = sc.picardBDEIntegrator(absTol=10.0, convergenceVars=[\"ne\", \"ni\", \"Ge_dual\", \"Gi_dual\", \"We\", \"Wi\"], internalStepControl=True)\n",
    "\n",
    "rk.addIntegrator(\"BE\", integrator)\n",
    "\n",
    "initialTimestep=0.5\n",
    "rk.setIntegratorGlobalData(initialTimestep=initialTimestep)\n",
    "\n",
    "bdeStep = sc.IntegrationStep(\"BE\")\n",
    "\n",
    "for tag in rk.modelTags():\n",
    "    bdeStep.addModel(tag)\n",
    "\n",
    "rk.addIntegrationStep(\"StepBDE\", bdeStep.dict())"
   ]
  },
  {
   "cell_type": "markdown",
   "metadata": {},
   "source": [
    "We use `scalingTimestepController` to scale the time step so we always resolve the collisional time scales"
   ]
  },
  {
   "cell_type": "code",
   "execution_count": null,
   "metadata": {},
   "outputs": [],
   "source": [
    "rk.setTimestepController(sc.scalingTimestepController(reqVarNames=[\"ne\", \"Te\"],reqVarPowers=[-1.0, 1.5]))"
   ]
  },
  {
   "cell_type": "markdown",
   "metadata": {},
   "source": [
    "Let's assume that, for whatever reason, we wish to run 3 periods of the perturbation. We can do this by setting a real time target for the integration"
   ]
  },
  {
   "cell_type": "code",
   "execution_count": null,
   "metadata": {},
   "outputs": [],
   "source": [
    "rk.setTimeTargetTimestepping(3e-4,realTimeTarget=True)\n",
    "rk.setMinimumIntervalOutput(100)"
   ]
  },
  {
   "cell_type": "markdown",
   "metadata": {},
   "source": [
    "We also set the code to restart from the previous simulation, while resetting the value of the time variable to mimic starting from different initial conditions."
   ]
  },
  {
   "cell_type": "code",
   "execution_count": null,
   "metadata": {},
   "outputs": [],
   "source": [
    "rk.setRestartOptions(save=False, # Save restart data\n",
    "                     load=True, # Start from initial conditions and not from a saved restart file\n",
    "                     resetTime=True) # Reset value of the time variable"
   ]
  },
  {
   "cell_type": "markdown",
   "metadata": {},
   "source": [
    "It would have also been possible to directly restart from an hdf5 file using the `setHDF5FileInitialData` method of the wrapper. This is beyond the scope of this workshop, but it allows more flexibility since the number of MPI ranks can be changed, and variables can be added or removed from the simulation, which is particularly useful when adding diagnostics to already completed runs."
   ]
  },
  {
   "cell_type": "markdown",
   "metadata": {},
   "source": [
    "### Create config "
   ]
  },
  {
   "cell_type": "code",
   "execution_count": null,
   "metadata": {},
   "outputs": [],
   "source": [
    "rk.writeConfigFile()"
   ]
  },
  {
   "cell_type": "markdown",
   "metadata": {},
   "source": [
    "### Data analysis"
   ]
  },
  {
   "cell_type": "code",
   "execution_count": null,
   "metadata": {},
   "outputs": [],
   "source": [
    "hv.extension('matplotlib')\n",
    "%matplotlib inline \n",
    "plt.rcParams['figure.dpi'] = 150\n",
    "hv.output(size=100,dpi=150)\n",
    "\n",
    "numFiles=42\n",
    "loadpath = rk.hdf5Filepath\n",
    "loadFilenames = [loadpath+f'ReMKiT1DVarOutput_{i}.h5' for i in range(numFiles+1)]\n",
    "loadedDataPert = io.loadFromHDF5(rk.varCont, filepaths=loadFilenames,varsToIgnore=[\"ionGamma\"])\n",
    "loadedDataPert"
   ]
  },
  {
   "cell_type": "markdown",
   "metadata": {},
   "source": [
    "Let's look at how the perturbation has affected the temperatures"
   ]
  },
  {
   "cell_type": "code",
   "execution_count": null,
   "metadata": {},
   "outputs": [],
   "source": [
    "pn.extension(comms=\"vscode\") # change comms if not using VSCode\n",
    "dashboard = ds.ReMKiT1DDashboard(loadedDataPert,rk.grid)\n",
    "dashboard.fluid2Comparison().show()"
   ]
  },
  {
   "cell_type": "code",
   "execution_count": null,
   "metadata": {},
   "outputs": [],
   "source": [
    "dashboard.fluidMultiComparison([\"Te\",\"Ti\"])"
   ]
  },
  {
   "cell_type": "code",
   "execution_count": null,
   "metadata": {},
   "outputs": [],
   "source": [
    "dashboard.fluidMultiComparison([\"Te\",\"Ti\"],fixedPosition=True)"
   ]
  },
  {
   "cell_type": "markdown",
   "metadata": {},
   "source": []
  }
 ],
 "metadata": {
  "kernelspec": {
   "display_name": "Python 3",
   "language": "python",
   "name": "python3"
  },
  "language_info": {
   "codemirror_mode": {
    "name": "ipython",
    "version": 3
   },
   "file_extension": ".py",
   "mimetype": "text/x-python",
   "name": "python",
   "nbconvert_exporter": "python",
   "pygments_lexer": "ipython3",
   "version": "3.8.10"
  }
 },
 "nbformat": 4,
 "nbformat_minor": 2
}
