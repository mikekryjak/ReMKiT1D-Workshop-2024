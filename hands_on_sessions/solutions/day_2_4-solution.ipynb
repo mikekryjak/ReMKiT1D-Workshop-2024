{
 "cells": [
  {
   "attachments": {},
   "cell_type": "markdown",
   "metadata": {},
   "source": [
    "## Hands on session 2.4 - highly composite derivations\n",
    "\n",
    "This session returns to the calculation tree derivations first shown in session 1.3, building on these tools and demonstrating a real use case for them.\n",
    "\n",
    "The file `anisotropy.py` is supplied which contains a collection of functions used in more complex derivations.\n",
    "\n",
    "Demonstrated concepts:\n",
    "\n",
    "- Building functions out of node calculations\n",
    "- Applying range filter cutoffs in derivations\n",
    "- Additive derivations\n",
    "- Implicit temperature derivations\n"
   ]
  },
  {
   "cell_type": "code",
   "execution_count": 1,
   "metadata": {},
   "outputs": [
    {
     "name": "stderr",
     "output_type": "stream",
     "text": [
      "/Users/aca22/Library/Python/3.9/lib/python/site-packages/urllib3/__init__.py:34: NotOpenSSLWarning: urllib3 v2.0 only supports OpenSSL 1.1.1+, currently the 'ssl' module is compiled with 'LibreSSL 2.8.3'. See: https://github.com/urllib3/urllib3/issues/3020\n",
      "  warnings.warn(\n"
     ]
    },
    {
     "ename": "ModuleNotFoundError",
     "evalue": "No module named 'anisotropy'",
     "output_type": "error",
     "traceback": [
      "\u001b[0;31m---------------------------------------------------------------------------\u001b[0m",
      "\u001b[0;31mModuleNotFoundError\u001b[0m                       Traceback (most recent call last)",
      "Cell \u001b[0;32mIn[1], line 7\u001b[0m\n\u001b[1;32m      4\u001b[0m \u001b[39mimport\u001b[39;00m \u001b[39mmatplotlib\u001b[39;00m\u001b[39m.\u001b[39;00m\u001b[39mpyplot\u001b[39;00m \u001b[39mas\u001b[39;00m \u001b[39mplt\u001b[39;00m\n\u001b[1;32m      5\u001b[0m \u001b[39mimport\u001b[39;00m \u001b[39mpanel\u001b[39;00m \u001b[39mas\u001b[39;00m \u001b[39mpn\u001b[39;00m\n\u001b[0;32m----> 7\u001b[0m \u001b[39mimport\u001b[39;00m \u001b[39manisotropy\u001b[39;00m \u001b[39mas\u001b[39;00m \u001b[39maniso\u001b[39;00m\n\u001b[1;32m      8\u001b[0m \u001b[39mimport\u001b[39;00m \u001b[39mRMK_support\u001b[39;00m\u001b[39m.\u001b[39;00m\u001b[39msimple_containers\u001b[39;00m \u001b[39mas\u001b[39;00m \u001b[39msc\u001b[39;00m\n\u001b[1;32m      9\u001b[0m \u001b[39mimport\u001b[39;00m \u001b[39mRMK_support\u001b[39;00m\u001b[39m.\u001b[39;00m\u001b[39mcommon_models\u001b[39;00m \u001b[39mas\u001b[39;00m \u001b[39mcm\u001b[39;00m\n",
      "\u001b[0;31mModuleNotFoundError\u001b[0m: No module named 'anisotropy'"
     ]
    }
   ],
   "source": [
    "import numpy as np\n",
    "\n",
    "import holoviews as hv\n",
    "import matplotlib.pyplot as plt\n",
    "import panel as pn\n",
    "\n",
    "import anisotropy as aniso\n",
    "import RMK_support.simple_containers as sc\n",
    "import RMK_support.common_models as cm\n",
    "import RMK_support.IO_support as io\n",
    "from RMK_support import RKWrapper, Grid, treeDerivation, Node\n",
    "import RMK_support.dashboard_support as ds"
   ]
  },
  {
   "attachments": {},
   "cell_type": "markdown",
   "metadata": {},
   "source": [
    "### The system\n",
    "A true model of an anisotropic plasma would require a full set of fluid equations. For the sake of brevity this is not done here. Nonetheless, one integral part of an anisotropic plasma model is the isotropisation of temperatures. It is this process that is demonstrated here in this notebook.\n",
    "\n",
    "The equations shown here can be found in [Chodura et al.](link)\n",
    "\n",
    "We will look at the simplified one species case (for electrons) first. In this case, the anisotropy is quantified by the variable \n",
    "\n",
    "$$\n",
    "    X = \\frac{T_\\perp}{T_\\parallel} - 1\n",
    "$$\n",
    "\n",
    "With these variables defined, the equations that govern the system are:\n",
    "$$\n",
    "    \\frac{\\partial W_\\perp}{\\partial t} = 2 n \\nu \\left[T_\\perp (K_{002} - K_{200}) \\right]\n",
    "$$\n",
    "$$\n",
    "    \\frac{\\partial W_\\parallel}{\\partial t} = 4 n \\nu \\left[ T_\\parallel (K_{200} - K_{002}) \\right]\n",
    "$$\n",
    "where $\\nu$ is in our case an arbitrary collisionality.\n",
    "$K_{LMN}$ are results of taking moments of a bi-Maxwellian:\n",
    "$$\n",
    "    K_{200} = \\frac{1}{X} \\left[ -1 + (1 + X)\\varphi (X) \\right]\n",
    "$$\n",
    "$$\n",
    "    K_{002} = \\frac{2}{X} \\left[ 1 - \\varphi (X) \\right]\n",
    "$$\n",
    "where $\\varphi$ for $X>0$:\n",
    "$$\n",
    "    \\varphi = \\frac{\\arctan{(\\sqrt{X})}}{\\sqrt{X}}\n",
    "$$\n",
    "and for $X<0$:\n",
    "$$\n",
    "    \\varphi = \\frac{\\log{\\frac{1+\\sqrt{-X}}{1-\\sqrt{-X}}}}{2\\sqrt{-X}}\n",
    "$$"
   ]
  },
  {
   "attachments": {},
   "cell_type": "markdown",
   "metadata": {},
   "source": [
    "### Basic setup\n",
    "\n",
    "In a full model evolving all fluid variables we would include many spatial derivative terms. However, since we're only interested in the 0D effect of temperature isotropisation we can reduce the number of cells simulated as much as possible. Because we want to write the setup in a general way, using staggered grids, we need at least 2 cells."
   ]
  },
  {
   "cell_type": "code",
   "execution_count": null,
   "metadata": {},
   "outputs": [],
   "source": [
    "#Wrapper initialization\n",
    "rk = RKWrapper()\n",
    "\n",
    "#I/O setuo\n",
    "rk.jsonFilepath = \"./config.json\" \n",
    "hdf5Filepath = \"./RMKOutput/day_2_4/\"\n",
    "rk.setHDF5Path(hdf5Filepath) \n",
    "\n",
    "#Grid initialization\n",
    "xGridWidths = np.ones(2)\n",
    "rk.grid = Grid(xGridWidths, interpretXGridAsWidths=True)"
   ]
  },
  {
   "attachments": {},
   "cell_type": "markdown",
   "metadata": {},
   "source": [
    "### Normalization\n",
    "Alongside the standard ReMKiT1D normalisation parameters that are employed, it is worthwhile specifying the electron mass."
   ]
  },
  {
   "cell_type": "code",
   "execution_count": null,
   "metadata": {},
   "outputs": [],
   "source": [
    "elMass = 9.10938e-31 # electron mass\n",
    "amu = 1.6605390666e-27  # atomic mass unit\n",
    "\n",
    "rk.setNormDensity(1.0e19)\n",
    "rk.setNormTemperature(10.0)\n",
    "rk.setNormRefZ(1.0)"
   ]
  },
  {
   "attachments": {},
   "cell_type": "markdown",
   "metadata": {},
   "source": [
    "### Handling particle species data\n",
    "As covered in workshop session 2.3, some built in models require knowledge of the species they are being constructed for. This is the case for the `implicitTemperatures()` model that is used in this notebook. As such, let us declare an electron species that will contain all of the associated implicit variables."
   ]
  },
  {
   "cell_type": "code",
   "execution_count": null,
   "metadata": {},
   "outputs": [],
   "source": [
    "rk.addSpecies(\"e\", speciesID=0, atomicA=elMass/amu, charge=-1.0, associatedVars=[\"ne\", \"Ge\", \"WePar\", \"WePerp\"])\n",
    "\n",
    "electronSpecies = rk.getSpecies(\"e\")"
   ]
  },
  {
   "attachments": {},
   "cell_type": "markdown",
   "metadata": {},
   "source": [
    "### Base variables\n",
    "With the species now declared, it is time to introduce the base variables of the system. These are the implicit variables upon which the models and their respective derived terms are built upon. Before adding the variables to the wrapper, we shall create some initial conditions that will be assigned to the different variables. \n",
    "\n",
    "**NOTE** In an isotropic system the internal energy of an ideal gas can be written as $W = \\frac32 n T$ (in normalised units). But due to the anisotropic nature of this system we must separate the degrees of freedom, hence $W_\\perp = n T_\\perp$ and $W_\\parallel = \\frac12 n T_\\parallel$."
   ]
  },
  {
   "cell_type": "code",
   "execution_count": null,
   "metadata": {},
   "outputs": [],
   "source": [
    "# Set conserved variables in container\n",
    "TePar = 2*np.ones(2)\n",
    "TePerp = 5*np.ones(2)\n",
    "\n",
    "ne = np.ones(2)\n",
    "\n",
    "WePar = ne*TePar/2\n",
    "WePerp = ne*TePerp"
   ]
  },
  {
   "attachments": {},
   "cell_type": "markdown",
   "metadata": {},
   "source": [
    "WIth these initial conditions declared, we can create variables for density, flux and internal energy:"
   ]
  },
  {
   "cell_type": "code",
   "execution_count": null,
   "metadata": {},
   "outputs": [],
   "source": [
    "rk.addVarAndDual(\"ne\", ne, isCommunicated=True)\n",
    "rk.addVarAndDual(\"Ge\", primaryOnDualGrid=True, isCommunicated=True)  # Ge_dual is evolved, and Ge is derived\n",
    "rk.addVarAndDual(\"WePar\", WePar, isCommunicated=True)\n",
    "rk.addVarAndDual(\"WePerp\", WePerp, isCommunicated=True)"
   ]
  },
  {
   "attachments": {},
   "cell_type": "markdown",
   "metadata": {},
   "source": [
    "We would like to have the temperatures implicit, but they should be related to the corresponding energy densities. Hence we label them as stationary variables, which can then be 'evolved' through the `implicitTemperatures()` model."
   ]
  },
  {
   "cell_type": "code",
   "execution_count": null,
   "metadata": {},
   "outputs": [],
   "source": [
    "rk.addVarAndDual(\"TePar\", TePar, isStationary=True, isCommunicated=True)\n",
    "rk.addVarAndDual(\"TePerp\", TePerp, isStationary=True, isCommunicated=True)"
   ]
  },
  {
   "attachments": {},
   "cell_type": "markdown",
   "metadata": {},
   "source": [
    "### Anisotropic variables\n",
    "The anisotropic variables that are derived using the implicit variables declared above are: $\\nu$, $K_{200}$ & $K_{002}$. We can now add these to the ReMKiT1D wrapper:"
   ]
  },
  {
   "cell_type": "code",
   "execution_count": null,
   "metadata": {},
   "outputs": [],
   "source": [
    "rk.addVar(\"collFreq\", np.ones(2),isDerived=True) # Collision frequency set arbitrarily\n",
    "\n",
    "rk.addCustomDerivation(\"K200\", treeDerivation(aniso.K_LMN(Node(\"TePerp\")/Node(\"TePar\"),LMN=\"200\")))\n",
    "rk.addCustomDerivation(\"K002\", treeDerivation(aniso.K_LMN(Node(\"TePerp\")/Node(\"TePar\"),LMN=\"002\")))"
   ]
  },
  {
   "attachments": {},
   "cell_type": "markdown",
   "metadata": {},
   "source": [
    "There is one issue with these terms, namely as the system approaches isotropy, the value of $X$ will aproach zero. This is problematic as the numerical solver will break due to a divide by zero error. Hence, the terms $K_{200}$ and $K_{002}$ need to have a form that is used only when X approaches zero. This situation is a prime candidate to make use of ReMKiT1D's `rangeFilterDerivation()` function. \n",
    "\n",
    "To begin, let's create the variable $X$ as well as derivations for $K_{200}$ $K_{002}$ when $X$ is small:"
   ]
  },
  {
   "cell_type": "code",
   "execution_count": null,
   "metadata": {},
   "outputs": [],
   "source": [
    "rk.addVarAndDual(\"X\",\n",
    "                 isDerived=True,\n",
    "                 derivationRule=sc.derivationRule(\"XDeriv\", (\"TePar\",\"TePerp\")),\n",
    "                 derivOptions=treeDerivation(Node(\"TePerp\")/Node(\"TePar\") - 1)) # YOUR CODE HERE?\n",
    "\n",
    "rk.addCustomDerivation(\"K200Small\", treeDerivation(aniso.K_LMN(Node(\"TePerp\")/Node(\"TePar\"),LMN=\"200\",smallX=True)))\n",
    "\n",
    "rk.addCustomDerivation(\"K002Small\", treeDerivation(aniso.K_LMN(Node(\"TePerp\")/Node(\"TePar\"),LMN=\"002\",smallX=True)))"
   ]
  },
  {
   "attachments": {},
   "cell_type": "markdown",
   "metadata": {},
   "source": [
    "We can use the `rangeFilterDerivation()` function found in `simple_containers` to write what the values of $K_{200}$ and $K_{002}$ are in the different regimes. Since $-\\infty < X < \\infty$ we must assign three different ranges in which $K_{200}$ and $K_{002}$ must be calculated. These being:\n",
    "$$\n",
    "    \\begin{cases}\n",
    "        -1e16 < X < -0.01 \\\\\n",
    "        |X| << 0.01 \\\\\n",
    "        0.01 > X < 1e16 \\\\\n",
    "    \\end{cases}\n",
    "$$\n",
    "**Note** that the range is not actually $-\\infty < X < \\infty$, since the solver deals with floating point numbers we must give a large float as the range.\n",
    "\n",
    "The `rangeFilterDerivation()` is passed a list of variables that are required to create the derivation. Firstly the derivation that will be filtered by range is given. The control variable that is used to specify the range is provided, this is done by passing the index of the control variable from the list of variables passed to the `rangeFilterDerivation()`. Next the range of values that the control variable may have is specified. The variables that are required by the derivation are specified, this is done by providing the index of the variables used in the derivation.\n",
    "\n",
    "This is also explained in the docstring of the `rangeFilterDerivation()`:"
   ]
  },
  {
   "cell_type": "code",
   "execution_count": null,
   "metadata": {},
   "outputs": [],
   "source": [
    "help(sc.rangeFilterDerivation)"
   ]
  },
  {
   "attachments": {},
   "cell_type": "markdown",
   "metadata": {},
   "source": [
    "We add a derivation for both $K_{200}$ and $K_{002}$ in all of the specified ranges. Making sure that for small values, the correct derivation is used."
   ]
  },
  {
   "cell_type": "code",
   "execution_count": null,
   "metadata": {},
   "outputs": [],
   "source": [
    "rk.addCustomDerivation(\"filterSmallValsK200\", sc.rangeFilterDerivation(\"K200Small\",controlIndices=[1],controlRanges=[[-0.01,0.01]],derivIndices=[2,3]))\n",
    "rk.addCustomDerivation(\"filterPlusLargeK200\", sc.rangeFilterDerivation(\"K200\",controlIndices=[1],controlRanges=[[0.01,1e16]],derivIndices=[2,3]))\n",
    "rk.addCustomDerivation(\"filterMinusLargeK200\", sc.rangeFilterDerivation(\"K200\",controlIndices=[1],controlRanges=[[-1e16,-0.01]],derivIndices=[2,3]))\n",
    "\n",
    "rk.addCustomDerivation(\"filterSmallValsK002\", sc.rangeFilterDerivation(\"K002Small\",controlIndices=[1],controlRanges=[[-0.01,0.01]],derivIndices=[2,3]))\n",
    "rk.addCustomDerivation(\"filterPlusLargeK002\", sc.rangeFilterDerivation(\"K002\",controlIndices=[1],controlRanges=[[0.01,1e16]],derivIndices=[2,3]))\n",
    "rk.addCustomDerivation(\"filterMinusLargeK002\", sc.rangeFilterDerivation(\"K002\",controlIndices=[1],controlRanges=[[-1e16,-0.01]],derivIndices=[2,3]))"
   ]
  },
  {
   "attachments": {},
   "cell_type": "markdown",
   "metadata": {},
   "source": [
    "Since the ranges of the filtered functions do not overlap, we can simply sum them up and store them as a single variable so that $K_{200}$ and $K_{002}$ exist over the range $-1e16 < X < 1e16$. This can be done using the `additiveDerivation()` function found in `simple_containers`.\n",
    "\n",
    "The `additiveDerivation()` requires a list of the derivations which are to be summed and stored as a single variable. The result can be raised to an arbitrary power. Similarly to the `rangeFilterDerivation()`, the `additiveDerivation()` is passed a list of variables that are used within the derivation. The indecies of the variables required for each derivation must be provided.\n",
    "\n",
    "This is also explained in the docstring of the `additiveDerivation()`:"
   ]
  },
  {
   "cell_type": "code",
   "execution_count": null,
   "metadata": {},
   "outputs": [],
   "source": [
    "help(sc.additiveDerivation)"
   ]
  },
  {
   "attachments": {},
   "cell_type": "markdown",
   "metadata": {},
   "source": [
    "We can now add the variables $K_{200}$ and $K_{002}$:"
   ]
  },
  {
   "cell_type": "code",
   "execution_count": null,
   "metadata": {},
   "outputs": [],
   "source": [
    "rk.addVarAndDual(\"K200\",\n",
    "                 isDerived=True,\n",
    "                 derivationRule=sc.derivationRule(\"filteredK200\",[\"X\",\"TePar\",\"TePerp\"]),\n",
    "                 derivOptions=sc.additiveDerivation([\"filterSmallValsK200\",\"filterPlusLargeK200\",\"filterMinusLargeK200\"],resultPower=1., derivIndices=[[1,2,3]]*3))\n",
    "\n",
    "rk.addVarAndDual(\"K002\",\n",
    "                 isDerived=True,\n",
    "                 derivationRule=sc.derivationRule(\"filteredK002\",[\"X\",\"TePar\",\"TePerp\"]),\n",
    "                 derivOptions=sc.additiveDerivation([\"filterSmallValsK002\",\"filterPlusLargeK002\",\"filterMinusLargeK002\"],resultPower=1., derivIndices=[[1,2,3]]*3))"
   ]
  },
  {
   "attachments": {},
   "cell_type": "markdown",
   "metadata": {},
   "source": [
    "### Implicit temperature derivation\n",
    "Fluid models in ReMKiT1D are mostly written in conservative form. As such, the temperature is considered a derived variable. However, we can make use of the `implicitTemperatures()` function found in `common_models` to derive the temperature from the implicit fluid variables such that temperature is also an implicit variable."
   ]
  },
  {
   "cell_type": "code",
   "execution_count": null,
   "metadata": {},
   "outputs": [],
   "source": [
    "help(cm.implicitTemperatures)"
   ]
  },
  {
   "cell_type": "code",
   "execution_count": null,
   "metadata": {},
   "outputs": [],
   "source": [
    "# Initializing model\n",
    "implicitTempModelPar = cm.implicitTemperatures(modelTag=\"implicitTempElPar\",\n",
    "                                            speciesFluxes=[\"Ge_dual\"],\n",
    "                                            speciesDensities=[\"ne\"],\n",
    "                                            speciesEnergies=[\"WePar\"],\n",
    "                                            speciesTemperatures=[\"TePar\"],\n",
    "                                            species=[electronSpecies],\n",
    "                                            speciesDensitiesDual=[\"ne_dual\"],\n",
    "                                            degreesOfFreedom=1)\n",
    "\n",
    "rk.addModel(implicitTempModelPar)\n",
    "\n",
    "# Initializing model\n",
    "implicitTempModelPerp = cm.implicitTemperatures(modelTag=\"implicitTempElPerp\",\n",
    "                                            speciesFluxes=[\"Ge_dual\"],\n",
    "                                            speciesDensities=[\"ne\"],\n",
    "                                            speciesEnergies=[\"WePerp\"],\n",
    "                                            speciesTemperatures=[\"TePerp\"],\n",
    "                                            species=[electronSpecies],\n",
    "                                            speciesDensitiesDual=[\"ne_dual\"],\n",
    "                                            degreesOfFreedom=2,\n",
    "                                            ignoreKineticContribution=True)\n",
    "\n",
    "rk.addModel(implicitTempModelPerp)"
   ]
  },
  {
   "attachments": {},
   "cell_type": "markdown",
   "metadata": {},
   "source": [
    "### Temperature Isotropisation\n",
    "We have a small number of evolved variables, with many custom terms, all with diagonal stencils. This is a prime candidate for the use of the `addNodeMatrixTermModel()` function to nearly create the models in single lines."
   ]
  },
  {
   "cell_type": "code",
   "execution_count": null,
   "metadata": {},
   "outputs": [],
   "source": [
    "perpIsoEl = cm.addNodeMatrixTermModel(rk,\n",
    "                                      modelTag=\"perpIsoEl\", \n",
    "                                      evolvedVar=\"WePerp\",\n",
    "                                      termDefs=[(2*Node(\"collFreq\")*Node(\"K002\")/Node(\"TePerp\"),\"ne\"),\n",
    "                                                (-2*Node(\"collFreq\")*Node(\"K200\")/Node(\"TePerp\"),\"ne\")]) # YOUR CODE HERE?\n",
    "\n",
    "parIsoEl = cm.addNodeMatrixTermModel(rk,\n",
    "                                      modelTag=\"parIsoEl\", \n",
    "                                      evolvedVar=\"WePar\",\n",
    "                                      termDefs=[(4*Node(\"collFreq\")*Node(\"TePerp\")*Node(\"K200\")/(Node(\"TePar\")**2),\"ne\"),\n",
    "                                                (-4*Node(\"collFreq\")*Node(\"TePerp\")*Node(\"K002\")/(Node(\"TePar\")**2),\"ne\")]) # YOUR CODE HERE?"
   ]
  },
  {
   "attachments": {},
   "cell_type": "markdown",
   "metadata": {},
   "source": [
    "### Time integration"
   ]
  },
  {
   "cell_type": "code",
   "execution_count": null,
   "metadata": {},
   "outputs": [],
   "source": [
    "rk.addIntegrator(\"BE\",sc.picardBDEIntegrator(nonlinTol=1e-12,absTol=10.0,convergenceVars=['TePerp','TePar']) ) # we want all evolved variables to converge\n",
    "\n",
    "rk.setIntegratorGlobalData(initialTimestep=0.1)\n",
    "\n",
    "rk.addTermDiagnosisForVars([\"WePar\",\"WePerp\"])\n",
    "\n",
    "bdeStep = sc.IntegrationStep(\"BE\")\n",
    "\n",
    "for tag in rk.modelTags():\n",
    "    bdeStep.addModel(tag)\n",
    "\n",
    "rk.addIntegrationStep(\"StepBDE\",bdeStep.dict())\n",
    "\n",
    "rk.setFixedNumTimesteps(2500)\n",
    "rk.setFixedStepOutput(50)"
   ]
  },
  {
   "attachments": {},
   "cell_type": "markdown",
   "metadata": {},
   "source": [
    "### Write config file"
   ]
  },
  {
   "cell_type": "code",
   "execution_count": null,
   "metadata": {},
   "outputs": [],
   "source": [
    "rk.writeConfigFile()"
   ]
  },
  {
   "attachments": {},
   "cell_type": "markdown",
   "metadata": {},
   "source": [
    "### Data analysis"
   ]
  },
  {
   "cell_type": "code",
   "execution_count": null,
   "metadata": {},
   "outputs": [],
   "source": [
    "numFiles = 50\n",
    "loadFilenames = [hdf5Filepath+f'ReMKiT1DVarOutput_{i}.h5' for i in range(numFiles+1)]\n",
    "loadedData = io.loadFromHDF5(rk.varCont, filepaths=loadFilenames,\n",
    "                             isXinMeters=rk.grid.isLengthInMeters)\n",
    "loadedData"
   ]
  },
  {
   "cell_type": "code",
   "execution_count": null,
   "metadata": {},
   "outputs": [],
   "source": [
    "hv.extension('matplotlib')\n",
    "%matplotlib inline\n",
    "plt.rcParams['figure.dpi'] = 150\n",
    "hv.output(size=100, dpi=150)"
   ]
  },
  {
   "cell_type": "code",
   "execution_count": null,
   "metadata": {},
   "outputs": [],
   "source": [
    "pn.extension(comms=\"vscode\")  # change comms if not using VSCode\n",
    "dashboard = ds.ReMKiT1DDashboard(loadedData, rk.grid)\n",
    "\n",
    "dashboard.fluid2Comparison().show()\n"
   ]
  }
 ],
 "metadata": {
  "kernelspec": {
   "display_name": "Python 3",
   "language": "python",
   "name": "python3"
  },
  "language_info": {
   "codemirror_mode": {
    "name": "ipython",
    "version": 3
   },
   "file_extension": ".py",
   "mimetype": "text/x-python",
   "name": "python",
   "nbconvert_exporter": "python",
   "pygments_lexer": "ipython3",
   "version": "3.9.6"
  },
  "orig_nbformat": 4,
  "vscode": {
   "interpreter": {
    "hash": "31f2aee4e71d21fbe5cf8b01ff0e069b9275f58929596ceb00d14d90e3e16cd6"
   }
  }
 },
 "nbformat": 4,
 "nbformat_minor": 2
}
