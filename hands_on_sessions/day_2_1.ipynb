{
 "cells": [
  {
   "cell_type": "markdown",
   "metadata": {},
   "source": [
    "## Hands-on session 2.1 - working with kinetic simulations: Epperlein-Short test\n",
    "\n",
    "This session covers basic electron kinetics features in ReMKiT1D. It is not meant to guide the reader through detailed model construction, and most of the model is prebuilt. \n",
    "\n",
    "A companion file `es_models.py` is supplied that creates the necessary kinetic models/terms using `common_models`. \n",
    "\n",
    "The reader is required to complete the setup of the grid and the variables.\n",
    "\n",
    "Demonstrated concepts:\n",
    "\n",
    "- Setting up a full ReMKiT1D grid (x,h,v)\n",
    "- Parallelization in harmonics\n",
    "- Distribution variables\n",
    "- Moments and related derivations\n",
    "- More prebuilt derivations\n",
    "- Inspecting kinetic data "
   ]
  },
  {
   "cell_type": "code",
   "execution_count": 1,
   "metadata": {},
   "outputs": [],
   "source": [
    "from RMK_support import RKWrapper ,Grid, Node, treeDerivation\n",
    "import RMK_support.simple_containers as sc\n",
    "import RMK_support.IO_support as io\n",
    "import RMK_support.dashboard_support as ds\n",
    "\n",
    "from es_models import addESModels,kappa0\n",
    "import numpy as np\n",
    "import holoviews as hv \n",
    "import panel as pn\n",
    "import matplotlib.pyplot as plt\n"
   ]
  },
  {
   "cell_type": "markdown",
   "metadata": {},
   "source": [
    "### Wrapper initialization"
   ]
  },
  {
   "cell_type": "code",
   "execution_count": 2,
   "metadata": {},
   "outputs": [],
   "source": [
    "rk = RKWrapper()"
   ]
  },
  {
   "cell_type": "markdown",
   "metadata": {},
   "source": [
    "### Global parameters for writing the files"
   ]
  },
  {
   "cell_type": "code",
   "execution_count": 3,
   "metadata": {},
   "outputs": [],
   "source": [
    "rk.jsonFilepath = \"./config.json\" # Default value\n",
    "hdf5Filepath = \"./RMKOutput/day_2_1/\"\n",
    "rk.setHDF5Path(hdf5Filepath) "
   ]
  },
  {
   "cell_type": "markdown",
   "metadata": {},
   "source": [
    "### MPI\n",
    "\n",
    "In kinetic simulations, we have the additional option to add processors in the harmonic direction. If you use 4 or more harmonics (`lMax>2`) try increasing numProcsH (keep in mind that the total number of harmonics should be divisible by numProcsH!)\n",
    "\n",
    "The total number of MPI processes ReMKiT1D will expect then will be `numProcsX*numProcsH`."
   ]
  },
  {
   "cell_type": "code",
   "execution_count": 4,
   "metadata": {},
   "outputs": [],
   "source": [
    "rk.setMPIData(numProcsX=4,numProcsH=1) # use numProcsH to change the number of harmonic direction processes"
   ]
  },
  {
   "cell_type": "markdown",
   "metadata": {},
   "source": [
    "### Normalization\n",
    "\n",
    "Let's set a higher normalization temperature than usual"
   ]
  },
  {
   "cell_type": "code",
   "execution_count": 5,
   "metadata": {},
   "outputs": [],
   "source": [
    "rk.setNormDensity(1.0e19) #n_0\n",
    "rk.setNormTemperature(100.0) #T_0\n",
    "rk.setNormRefZ(1.0) # reference ion charge for e-i collision time"
   ]
  },
  {
   "cell_type": "markdown",
   "metadata": {},
   "source": [
    "### Grid initialization\n",
    "\n",
    "We now initialize the full grid, where we need to specify the spatial and velocity grids, as well as the number of distribution function harmonics\n",
    "\n",
    "Complete the initialization of the grid. Make sure it is periodic."
   ]
  },
  {
   "cell_type": "code",
   "execution_count": 6,
   "metadata": {},
   "outputs": [
    {
     "name": "stdout",
     "output_type": "stream",
     "text": [
      "\u001b[0;31mInit signature:\u001b[0m\n",
      "\u001b[0mGrid\u001b[0m\u001b[0;34m(\u001b[0m\u001b[0;34m\u001b[0m\n",
      "\u001b[0;34m\u001b[0m    \u001b[0mxGrid\u001b[0m\u001b[0;34m:\u001b[0m \u001b[0mnumpy\u001b[0m\u001b[0;34m.\u001b[0m\u001b[0mndarray\u001b[0m\u001b[0;34m,\u001b[0m\u001b[0;34m\u001b[0m\n",
      "\u001b[0;34m\u001b[0m    \u001b[0mvGrid\u001b[0m\u001b[0;34m:\u001b[0m \u001b[0mnumpy\u001b[0m\u001b[0;34m.\u001b[0m\u001b[0mndarray\u001b[0m \u001b[0;34m=\u001b[0m \u001b[0marray\u001b[0m\u001b[0;34m(\u001b[0m\u001b[0;34m[\u001b[0m\u001b[0;36m1.\u001b[0m\u001b[0;34m]\u001b[0m\u001b[0;34m)\u001b[0m\u001b[0;34m,\u001b[0m\u001b[0;34m\u001b[0m\n",
      "\u001b[0;34m\u001b[0m    \u001b[0mlMax\u001b[0m\u001b[0;34m=\u001b[0m\u001b[0;36m0\u001b[0m\u001b[0;34m,\u001b[0m\u001b[0;34m\u001b[0m\n",
      "\u001b[0;34m\u001b[0m    \u001b[0mmMax\u001b[0m\u001b[0;34m=\u001b[0m\u001b[0;36m0\u001b[0m\u001b[0;34m,\u001b[0m\u001b[0;34m\u001b[0m\n",
      "\u001b[0;34m\u001b[0m    \u001b[0minterpretXGridAsWidths\u001b[0m\u001b[0;34m=\u001b[0m\u001b[0;32mFalse\u001b[0m\u001b[0;34m,\u001b[0m\u001b[0;34m\u001b[0m\n",
      "\u001b[0;34m\u001b[0m    \u001b[0minterpretVGridAsWidths\u001b[0m\u001b[0;34m=\u001b[0m\u001b[0;32mFalse\u001b[0m\u001b[0;34m,\u001b[0m\u001b[0;34m\u001b[0m\n",
      "\u001b[0;34m\u001b[0m    \u001b[0misPeriodic\u001b[0m\u001b[0;34m=\u001b[0m\u001b[0;32mFalse\u001b[0m\u001b[0;34m,\u001b[0m\u001b[0;34m\u001b[0m\n",
      "\u001b[0;34m\u001b[0m    \u001b[0misLengthInMeters\u001b[0m\u001b[0;34m=\u001b[0m\u001b[0;32mFalse\u001b[0m\u001b[0;34m,\u001b[0m\u001b[0;34m\u001b[0m\n",
      "\u001b[0;34m\u001b[0m\u001b[0;34m)\u001b[0m\u001b[0;34m\u001b[0m\u001b[0;34m\u001b[0m\u001b[0m\n",
      "\u001b[0;31mDocstring:\u001b[0m      Class containing x and v-grid data\n",
      "\u001b[0;31mInit docstring:\u001b[0m\n",
      "Grid constructor\n",
      "\n",
      "Args:\n",
      "    xGrid (numpy.ndarray): x coordinates of each spatial grid cell or their widths\n",
      "    vGrid (numpy.ndarray): v coordinates of each velocity grid cell or their widths. Defaults to a single cell (effectively no v-grid)\n",
      "    lMax (int): Maximum l harmonic number. Defaults to 0.\n",
      "    mMax (int, optional): Maximum m harmonic number. Defaults to 0.\n",
      "    interpretXGridAsWidths (bool, optional): If True interprets xGrid as cell widths. Defaults to False.\n",
      "    interpretVGridAsWidths (bool, optional): If True interprets vGrid as cell widths. Defaults to False.\n",
      "\u001b[0;31mFile:\u001b[0m           /usr/local/lib/python3.8/dist-packages/RMK_support/grid.py\n",
      "\u001b[0;31mType:\u001b[0m           type\n",
      "\u001b[0;31mSubclasses:\u001b[0m     "
     ]
    }
   ],
   "source": [
    "Grid?"
   ]
  },
  {
   "cell_type": "code",
   "execution_count": 7,
   "metadata": {},
   "outputs": [],
   "source": [
    "dx = 150.0 # Cell width in reference e-i collision mfps (use this to control the perturbation wavelength in the ES test - larger numbers are more collisional) \n",
    "\n",
    "xGrid = dx*np.ones(64)\n",
    "\n",
    "# Velocity grid setup \n",
    "vGrid = [0.0307]\n",
    "for i in range(1,80):\n",
    "    vGrid.append(vGrid[i-1]*1.025)\n",
    "vGrid = np.array(vGrid)\n",
    "\n",
    "lMax = 1 # Highest used l harmonic (the total number of harmonics is lMax+1, including l=0)\n",
    "\n",
    "gridObj = Grid(\n",
    "    xGrid, vGrid, \n",
    "    interpretXGridAsWidths=True,\n",
    "    interpretVGridAsWidths=True,\n",
    "    lMax = lMax, isPeriodic=True\n",
    "    ) # YOUR CODE HERE [Ignore mMax - it is unused in ReMKiT1D currently]\n",
    "\n",
    "L = sum(xGrid) # Length of the spatial grid\n",
    "\n",
    "rk.grid = gridObj"
   ]
  },
  {
   "cell_type": "markdown",
   "metadata": {},
   "source": [
    "### Variables\n",
    "\n",
    "We will need the following variables for the Epperlein-Short test:\n",
    "\n",
    "- The electron distribution function variable\n",
    "- The density and the temperature of our electrons \n",
    "- An electric field variable\n",
    "\n",
    "Let's start by setting the initial values of our variables. \n",
    "\n",
    "**Note**: Here we use the fact that the distribution function is normalized to $n_0/v_{th}^3$ by default, and that $eT_0=m_ev_{th}^2/2$."
   ]
  },
  {
   "cell_type": "code",
   "execution_count": 8,
   "metadata": {},
   "outputs": [],
   "source": [
    "n = np.ones(gridObj.numX())\n",
    "T = 1.0 + 0.001*np.sin(2*np.pi*gridObj.xGrid/L) # A small temperature perturbation around the reference value T_0=100eV\n",
    "\n",
    "# A Maxwellian with the above n and T for the l=0 harmonic and 0 for all the others\n",
    "f = np.zeros([gridObj.numX(),gridObj.numH(),gridObj.numV()])\n",
    "for i in range(gridObj.numX()):\n",
    "    f[i,gridObj.getH(0)-1,:] = np.pi**(-1.5) * T[i] ** (-1.5) * n[i] * np.exp(-gridObj.vGrid**2/T[i])\n",
    "    \n",
    "# f is [cell index, harmonic index, distribution]"
   ]
  },
  {
   "cell_type": "code",
   "execution_count": 9,
   "metadata": {},
   "outputs": [
    {
     "data": {
      "text/plain": [
       "(64, 2, 80)"
      ]
     },
     "execution_count": 9,
     "metadata": {},
     "output_type": "execute_result"
    }
   ],
   "source": [
    "f.shape"
   ]
  },
  {
   "cell_type": "markdown",
   "metadata": {},
   "source": [
    "##### Some numerical considerations\n",
    "\n",
    "We have calculated the discretized values of our analytical Maxwellian on the velocity grid we supplied. Let's check whether the numerical integration in ReMKiT1D will have the correct density. We can do this using the `velocityMoment` function of the `Grid` class."
   ]
  },
  {
   "cell_type": "code",
   "execution_count": 10,
   "metadata": {},
   "outputs": [
    {
     "name": "stdout",
     "output_type": "stream",
     "text": [
      "\u001b[0;31mSignature:\u001b[0m\n",
      "\u001b[0mgridObj\u001b[0m\u001b[0;34m.\u001b[0m\u001b[0mvelocityMoment\u001b[0m\u001b[0;34m(\u001b[0m\u001b[0;34m\u001b[0m\n",
      "\u001b[0;34m\u001b[0m    \u001b[0mdistFun\u001b[0m\u001b[0;34m:\u001b[0m \u001b[0mnumpy\u001b[0m\u001b[0;34m.\u001b[0m\u001b[0mndarray\u001b[0m\u001b[0;34m,\u001b[0m\u001b[0;34m\u001b[0m\n",
      "\u001b[0;34m\u001b[0m    \u001b[0mmomentOrder\u001b[0m\u001b[0;34m:\u001b[0m \u001b[0mint\u001b[0m\u001b[0;34m,\u001b[0m\u001b[0;34m\u001b[0m\n",
      "\u001b[0;34m\u001b[0m    \u001b[0mmomentHarmonic\u001b[0m\u001b[0;34m=\u001b[0m\u001b[0;36m1\u001b[0m\u001b[0;34m,\u001b[0m\u001b[0;34m\u001b[0m\n",
      "\u001b[0;34m\u001b[0m\u001b[0;34m)\u001b[0m \u001b[0;34m->\u001b[0m \u001b[0mnumpy\u001b[0m\u001b[0;34m.\u001b[0m\u001b[0mndarray\u001b[0m\u001b[0;34m\u001b[0m\u001b[0;34m\u001b[0m\u001b[0m\n",
      "\u001b[0;31mDocstring:\u001b[0m\n",
      "Return velocity moment of distribution function or single harmonic variable\n",
      "\n",
      "Args:\n",
      "    distFun (np.ndarray): Distribution or single harmonic variable values\n",
      "    momentOrder (int): Moment order\n",
      "    momentHarmonic (int, optional): Harmonic index (Fortran 1 indexing) to take moment of in case of distribution variable. Defaults to 1.\n",
      "\n",
      "Returns:\n",
      "    np.ndarray: Moment represented as a contracted array\n",
      "\u001b[0;31mFile:\u001b[0m      /usr/local/lib/python3.8/dist-packages/RMK_support/grid.py\n",
      "\u001b[0;31mType:\u001b[0m      method"
     ]
    }
   ],
   "source": [
    "gridObj.velocityMoment?"
   ]
  },
  {
   "cell_type": "code",
   "execution_count": 11,
   "metadata": {},
   "outputs": [
    {
     "data": {
      "text/plain": [
       "0.9999491861884808"
      ]
     },
     "execution_count": 11,
     "metadata": {},
     "output_type": "execute_result"
    }
   ],
   "source": [
    "# I guess here we pick the order and the harmonic index (starting from 1 because of Fortran indexing)\n",
    "numerical_dens = gridObj.velocityMoment(distFun=f,momentOrder=0,momentHarmonic=1) # Note, we use the Fortran indexing here (the first harmonic is the l=0 harmonic)\n",
    "numerical_dens[0]"
   ]
  },
  {
   "cell_type": "markdown",
   "metadata": {},
   "source": [
    "As you can see, and might expect, this is not equal to the density we requested. Some discretization errors can be corrected easily by rescaling the distribution function:"
   ]
  },
  {
   "cell_type": "code",
   "execution_count": 12,
   "metadata": {},
   "outputs": [],
   "source": [
    "# Fortran indexes from 1, which is why there has to be a -1 near getH\n",
    "\n",
    "for i in range(gridObj.numX()):\n",
    "    f[i,gridObj.getH(0)-1,:] = n[i] *f[i,gridObj.getH(0)-1,:]/numerical_dens[i]"
   ]
  },
  {
   "cell_type": "markdown",
   "metadata": {},
   "source": [
    "Check that the 0-th moment of the first (l=0) harmonic of f now has the correct value"
   ]
  },
  {
   "cell_type": "code",
   "execution_count": 13,
   "metadata": {},
   "outputs": [
    {
     "data": {
      "text/plain": [
       "array([1., 1., 1., 1., 1., 1., 1., 1., 1., 1., 1., 1., 1., 1., 1., 1., 1.,\n",
       "       1., 1., 1., 1., 1., 1., 1., 1., 1., 1., 1., 1., 1., 1., 1., 1., 1.,\n",
       "       1., 1., 1., 1., 1., 1., 1., 1., 1., 1., 1., 1., 1., 1., 1., 1., 1.,\n",
       "       1., 1., 1., 1., 1., 1., 1., 1., 1., 1., 1., 1., 1.])"
      ]
     },
     "execution_count": 13,
     "metadata": {},
     "output_type": "execute_result"
    }
   ],
   "source": [
    "gridObj.velocityMoment(distFun=f,momentOrder=0,momentHarmonic=1) # Note, we use the Fortran indexing here (the first harmonic is the l=0 harmonic)\n"
   ]
  },
  {
   "cell_type": "markdown",
   "metadata": {},
   "source": [
    "We can now proceed to add the distribution function to the wrapper. Add the distribution function \"f\" and its dual variable."
   ]
  },
  {
   "cell_type": "code",
   "execution_count": 14,
   "metadata": {},
   "outputs": [],
   "source": [
    "# Make sure to indicate f is a distribution.\n",
    "rk.addVarAndDual(\"f\", f, isDistribution = True, isCommunicated = True)"
   ]
  },
  {
   "cell_type": "markdown",
   "metadata": {},
   "source": [
    "**NOTE**: Distribution variables on staggered grids are treated the following way:\n",
    "\n",
    "- The even harmonics of \"f\" live on cell centers, and the odd live on cell edges\n",
    "- The opposite is true for \"f_dual\" - even harmonics are interpolated onto cell edges, odd harmonics are interpolated into cell centers  "
   ]
  },
  {
   "cell_type": "markdown",
   "metadata": {},
   "source": [
    "We also need to use a number of [built-in derivations](https://remkit1d-python.readthedocs.io/en/latest/custom_fluid.html#Textbook-objects-and-derivations). In particular we want to be able do derive the electron temperature. For this we pass the electron species index (more on Species in the next hands-on session) to the setup of the standard textbook object:"
   ]
  },
  {
   "cell_type": "code",
   "execution_count": 15,
   "metadata": {},
   "outputs": [],
   "source": [
    "# Electrons are zeroth species by convention. They haven't been defined yet so here is where you put in the index.\n",
    "rk.setStandardTextbookOptions(tempDerivSpeciesIDs=[0]) # This will enable us to use the temperature derivation for electrons directly"
   ]
  },
  {
   "cell_type": "markdown",
   "metadata": {},
   "source": [
    "We'll use the built-in moment derivations to get the density and energy density of the electrons\n",
    "\n",
    "Use the `densityMoment` and `energyMoment` derivations to calculate the n and W below. Both derivations require a single distribution variable passed to them"
   ]
  },
  {
   "cell_type": "code",
   "execution_count": 16,
   "metadata": {},
   "outputs": [],
   "source": [
    "# n is Var and Dual but the derivation will automatically interpolate from cell centre f\n",
    "# For derived variables you don't specify an initial value - it's calculated from the derivation based on some variables which already have\n",
    "# an initial condition set. However, for post-processing this will mean the variable starts from zero as the first output step is done before\n",
    "# any calculation. Because of this you may want to insert some kind of initial value so the plots look nicer.\n",
    "rk.addVarAndDual(\"n\",n, units='$10^{19} m^{-3}$',isDerived=True,derivationRule=sc.derivationRule(\"densityMoment\",[\"f\"])) # [YOUR CODE HERE]\n",
    "rk.addVar(\"W\",isDerived=True,derivationRule=sc.derivationRule(\"energyMoment\",[\"f\"])) # [YOUR CODE HERE] we only need the energy density at cell centers to get the temperature"
   ]
  },
  {
   "cell_type": "markdown",
   "metadata": {},
   "source": [
    "The temperature derivation for the electrons will be generated with the name `tempFromEnergye`, and will require three variables passed to it, the energy density, particle density, as well as a particle flux. Since our problem setup has no flows, we can use a dummy variable instead of the flux."
   ]
  },
  {
   "cell_type": "code",
   "execution_count": 17,
   "metadata": {},
   "outputs": [],
   "source": [
    "# We have no flows and no flow variable but we have to tell this to the derivation. Here\n",
    "# we create a a dummy variable that just contains a bunch of zeros.\n",
    "# Units are used for post-processing only and not used in the code.\n",
    "rk.addVar(\"zeroVar\",isDerived=True,outputVar=False) # We can suppress the outputting of a variable using the outputVar flag\n",
    "rk.addVarAndDual(\"T\",units='$100eV$',isDerived=True,derivationRule=sc.derivationRule(\"tempFromEnergye\",[\"W\",\"n\",\"zeroVar\"]),isCommunicated=True) #[YOUR CODE HERE]"
   ]
  },
  {
   "cell_type": "markdown",
   "metadata": {},
   "source": [
    "Finally, we add the electric field and time variables"
   ]
  },
  {
   "cell_type": "code",
   "execution_count": 18,
   "metadata": {},
   "outputs": [],
   "source": [
    "rk.addVarAndDual(\"E\",primaryOnDualGrid=True,isCommunicated=True)\n",
    "rk.addVar(\"time\",isScalar=True,isDerived=True)"
   ]
  },
  {
   "cell_type": "markdown",
   "metadata": {},
   "source": [
    "### Adding the required models"
   ]
  },
  {
   "cell_type": "markdown",
   "metadata": {},
   "source": [
    "The `addESModels` function can be used to add all the relevant terms and models for this example"
   ]
  },
  {
   "cell_type": "code",
   "execution_count": 19,
   "metadata": {},
   "outputs": [
    {
     "name": "stdout",
     "output_type": "stream",
     "text": [
      "Checking terms in model adv:\n",
      "   Checking term adv_plus1\n",
      "   Checking term adv_minus2\n",
      "Checking terms in model E-adv:\n",
      "   Checking term eAdv_H1\n",
      "   Checking term eAdv_G2\n",
      "Checking terms in model AM:\n",
      "   Checking term eTerm\n",
      "Checking terms in model e-e0:\n",
      "   Checking term dragTerm\n",
      "   Checking term diffTerm\n",
      "Checking terms in model e-i_odd:\n",
      "   Checking term eiCollStationaryIons\n",
      "Checking terms in model e-e_odd:\n",
      "   Checking term 8pi*f0*fl\n",
      "   Checking term diffTermI2\n",
      "   Checking term diffTermJ2\n",
      "   Checking term dfdv2\n",
      "   Checking term termLL\n",
      "   Checking term C1Il+2_h=2\n",
      "   Checking term C1J-l-1_h=2\n",
      "   Checking term C2Il_h=2\n",
      "   Checking term C2J1-l_h=2\n",
      "   Checking term C3Il+2_h=2\n",
      "   Checking term C4J-l-1_h=2\n",
      "   Checking term C5Il_h=2\n",
      "   Checking term C6J1-l_h=2\n"
     ]
    }
   ],
   "source": [
    "# This just wraps a bunch of stuff to set up the Epperlein-Short problem.\n",
    "addESModels(wrapper=rk,\n",
    "            lMax=lMax,\n",
    "            distFunName=\"f\",\n",
    "            eFieldName=\"E\",\n",
    "            elTempName=\"T\",\n",
    "            elDensName=\"n\");"
   ]
  },
  {
   "cell_type": "code",
   "execution_count": 20,
   "metadata": {},
   "outputs": [
    {
     "name": "stdout",
     "output_type": "stream",
     "text": [
      "\u001b[0;31mSignature:\u001b[0m\n",
      "\u001b[0maddESModels\u001b[0m\u001b[0;34m(\u001b[0m\u001b[0;34m\u001b[0m\n",
      "\u001b[0;34m\u001b[0m    \u001b[0mwrapper\u001b[0m\u001b[0;34m:\u001b[0m \u001b[0mRMK_support\u001b[0m\u001b[0;34m.\u001b[0m\u001b[0mrk_wrapper\u001b[0m\u001b[0;34m.\u001b[0m\u001b[0mRKWrapper\u001b[0m\u001b[0;34m,\u001b[0m\u001b[0;34m\u001b[0m\n",
      "\u001b[0;34m\u001b[0m    \u001b[0mlMax\u001b[0m\u001b[0;34m:\u001b[0m \u001b[0mint\u001b[0m\u001b[0;34m,\u001b[0m\u001b[0;34m\u001b[0m\n",
      "\u001b[0;34m\u001b[0m    \u001b[0mdistFunName\u001b[0m\u001b[0;34m:\u001b[0m \u001b[0mstr\u001b[0m\u001b[0;34m,\u001b[0m\u001b[0;34m\u001b[0m\n",
      "\u001b[0;34m\u001b[0m    \u001b[0meFieldName\u001b[0m\u001b[0;34m:\u001b[0m \u001b[0mstr\u001b[0m\u001b[0;34m,\u001b[0m\u001b[0;34m\u001b[0m\n",
      "\u001b[0;34m\u001b[0m    \u001b[0melTempName\u001b[0m\u001b[0;34m:\u001b[0m \u001b[0mstr\u001b[0m\u001b[0;34m,\u001b[0m\u001b[0;34m\u001b[0m\n",
      "\u001b[0;34m\u001b[0m    \u001b[0melDensName\u001b[0m\u001b[0;34m:\u001b[0m \u001b[0mstr\u001b[0m\u001b[0;34m,\u001b[0m\u001b[0;34m\u001b[0m\n",
      "\u001b[0;34m\u001b[0m\u001b[0;34m)\u001b[0m \u001b[0;34m->\u001b[0m \u001b[0;32mNone\u001b[0m\u001b[0;34m\u001b[0m\u001b[0;34m\u001b[0m\u001b[0m\n",
      "\u001b[0;31mDocstring:\u001b[0m\n",
      "Adds the terms and models needed for the Epperlein-Short problem\n",
      "\n",
      "Args:\n",
      "    wrapper (RKWrapper): Wrapper to add the models to\n",
      "    lMax (int): Higest present l harmonic\n",
      "    distFunName (str): Name of the electron distribution function \n",
      "    eFieldName (str): Name of the electric field variable\n",
      "    elTempName (str): Name of the electron temperature variable\n",
      "    elDensName (str): Name of the electron density variable\n",
      "\u001b[0;31mFile:\u001b[0m      /home/ReMKiT1D-Workshop-2024/hands_on_sessions/es_models.py\n",
      "\u001b[0;31mType:\u001b[0m      function"
     ]
    }
   ],
   "source": [
    "addESModels?"
   ]
  },
  {
   "cell_type": "markdown",
   "metadata": {},
   "source": [
    "### Adding heat flux diagnostics\n",
    "\n",
    "We want to be able to inspect the deviation of the heat flux obtained from the electron distribution function with that predicted by the classical Braginskii model. \n",
    "\n",
    "Let's first add a variable for the heat flux using one of the pre-built moment derivations "
   ]
  },
  {
   "cell_type": "code",
   "execution_count": 21,
   "metadata": {},
   "outputs": [],
   "source": [
    "# Remember that fluxes live on  edges so you must set primaryOnDualGrid=True\n",
    "rk.addVarAndDual(\"q\",isDerived=True,primaryOnDualGrid=True,derivationRule=sc.derivationRule(\"heatFluxMoment\",[\"f\"]),isCommunicated=True) #[YOUR CODE HERE]"
   ]
  },
  {
   "cell_type": "markdown",
   "metadata": {},
   "source": [
    "Let's get ReMKiT1D to calculate the Braginskii heat flux at each step. We will need the Coulomb logarithm, the conductivity, and the temperature gradient. Let's use a combination of built-in derivations and tree derivations to calculate this.\n",
    "\n",
    "First, we need the Coulomb logarithm. An e-i Coulomb logarithm derivation is added for each ion species in a ReMKiT1D simulation. The `addESModels` function adds a species named `D+`, so we use the derivation name `logLeiD+`. It requires the electron temperature and density."
   ]
  },
  {
   "cell_type": "code",
   "execution_count": 22,
   "metadata": {},
   "outputs": [],
   "source": [
    "# We are putting this on cell centres cause we're using a centre grad later\n",
    "rk.addVar(\"logLei\",isDerived=True,derivationRule=sc.derivationRule(\"logLeiD+\",[\"T\",\"n\"])) # [YOUR CODE HERE]"
   ]
  },
  {
   "cell_type": "markdown",
   "metadata": {},
   "source": [
    "The conductivity $\\kappa$ will be proportional to $T^{5/2}/\\text{logL}$. For convenience, the constant of proportionality can be obtained using the `kappa0` function from `es_models.py`. We can use this to add a variable to calculate the heat Braginskii conductivity"
   ]
  },
  {
   "cell_type": "code",
   "execution_count": 23,
   "metadata": {},
   "outputs": [],
   "source": [
    "\n",
    "rk.addVar(\"kappa\",isDerived=True,derivationRule=sc.derivationRule(\"kappa\",[\"T\",\"logLei\"]),derivOptions=treeDerivation(kappa0(rk)*Node(\"T\")**(5/2)/Node(\"logLei\"))) # [YOUR CODE HERE]"
   ]
  },
  {
   "cell_type": "markdown",
   "metadata": {},
   "source": [
    "To construct the heatflux $q=-\\kappa \\nabla T$, we need the temperature gradient. One way of doing this is using the built-in gradient derivation `gradDeriv`, passing it the variable we want to calculate the gradient of, which should live on the regular grid."
   ]
  },
  {
   "cell_type": "code",
   "execution_count": 24,
   "metadata": {},
   "outputs": [],
   "source": [
    "# This one is on centres\n",
    "rk.addVar(\"gradT\",isDerived=True,derivationRule=sc.derivationRule(\"gradDeriv\",[\"T\"])) # [YOUR CODE HERE]"
   ]
  },
  {
   "cell_type": "markdown",
   "metadata": {},
   "source": [
    "Finally we can assemble the heat flux using the two added variables `kappa` and `gradT` using the calculation tree approach."
   ]
  },
  {
   "cell_type": "code",
   "execution_count": 25,
   "metadata": {},
   "outputs": [],
   "source": [
    "rk.addVar(\"qT\",isDerived=True,derivationRule=sc.derivationRule(\"qT\",[\"kappa\",\"gradT\"]),derivOptions=treeDerivation(\n",
    "    -Node(\"kappa\")*Node(\"gradT\"))) # [YOUR CODE HERE]"
   ]
  },
  {
   "cell_type": "markdown",
   "metadata": {},
   "source": [
    "### Setting up the time integration options\n",
    "\n",
    "Below is a standard setup for the Epperlein-Short test time integration with ReMKiT1D."
   ]
  },
  {
   "cell_type": "code",
   "execution_count": 26,
   "metadata": {},
   "outputs": [],
   "source": [
    "integrator = sc.picardBDEIntegrator(absTol=10.0, convergenceVars=[\"f\"])\n",
    "\n",
    "rk.addIntegrator(\"BE\", integrator)\n",
    "\n",
    "rk.setIntegratorGlobalData(initialTimestep=0.05)\n",
    "\n",
    "bdeStep = sc.IntegrationStep(\"BE\")\n",
    "\n",
    "for tag in rk.modelTags():\n",
    "    bdeStep.addModel(tag)\n",
    "\n",
    "rk.addIntegrationStep(\"BE1\", bdeStep.dict())\n",
    "\n",
    "Nt = 300\n",
    "rk.setFixedNumTimesteps(Nt)\n",
    "rk.setFixedStepOutput(Nt/30)\n",
    "\n",
    "rk.setPETScOptions(cliOpts=\"-pc_type bjacobi -sub_pc_factor_shift_type nonzero\",kspSolverType=\"gmres\")"
   ]
  },
  {
   "cell_type": "markdown",
   "metadata": {},
   "source": [
    "### Create config "
   ]
  },
  {
   "cell_type": "code",
   "execution_count": 24,
   "metadata": {},
   "outputs": [],
   "source": [
    "rk.writeConfigFile()"
   ]
  },
  {
   "cell_type": "code",
   "execution_count": null,
   "metadata": {},
   "outputs": [],
   "source": [
    "# NOTE: to debug, you can change the \"build\" directory to \"debug\" to access the debug build"
   ]
  },
  {
   "cell_type": "markdown",
   "metadata": {},
   "source": [
    "### Data analysis"
   ]
  },
  {
   "cell_type": "code",
   "execution_count": null,
   "metadata": {},
   "outputs": [],
   "source": [
    "hv.extension('matplotlib')\n",
    "%matplotlib inline \n",
    "plt.rcParams['figure.dpi'] = 150\n",
    "hv.output(size=100,dpi=150)\n",
    "\n",
    "numFiles=30\n",
    "loadpath = rk.hdf5Filepath\n",
    "loadFilenames = [loadpath+f'ReMKiT1DVarOutput_{i}.h5' for i in range(numFiles+1)]\n",
    "loadedData = io.loadFromHDF5(rk.varCont, filepaths=loadFilenames, varsToIgnore=[\"zeroVar\"]) # Ignore the variables that aren't in the output\n",
    "loadedData\n"
   ]
  },
  {
   "cell_type": "markdown",
   "metadata": {},
   "source": [
    "We can inspect fluid variables using the standard dashboard tool"
   ]
  },
  {
   "cell_type": "code",
   "execution_count": null,
   "metadata": {},
   "outputs": [],
   "source": [
    "pn.extension(comms=\"vscode\") # change comms if not using VSCode\n",
    "dashboard = ds.ReMKiT1DDashboard(loadedData,rk.grid)\n",
    "\n",
    "dashboard.fluid2Comparison().show()"
   ]
  },
  {
   "cell_type": "markdown",
   "metadata": {},
   "source": [
    "A way to explore distribution variables is available using the `distDynMap` function"
   ]
  },
  {
   "cell_type": "code",
   "execution_count": null,
   "metadata": {},
   "outputs": [],
   "source": [
    "dashboard.distDynMap().show()"
   ]
  },
  {
   "cell_type": "markdown",
   "metadata": {},
   "source": [
    "Finally, we can compare the simulated and classical values of the heat flux"
   ]
  },
  {
   "cell_type": "code",
   "execution_count": null,
   "metadata": {},
   "outputs": [],
   "source": [
    "dashboard.fluidMultiComparison([\"q\",\"qT\"])"
   ]
  }
 ],
 "metadata": {
  "kernelspec": {
   "display_name": "Python 3",
   "language": "python",
   "name": "python3"
  },
  "language_info": {
   "codemirror_mode": {
    "name": "ipython",
    "version": 3
   },
   "file_extension": ".py",
   "mimetype": "text/x-python",
   "name": "python",
   "nbconvert_exporter": "python",
   "pygments_lexer": "ipython3",
   "version": "3.8.10"
  }
 },
 "nbformat": 4,
 "nbformat_minor": 2
}
