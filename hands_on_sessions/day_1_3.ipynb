{
 "cells": [
  {
   "cell_type": "markdown",
   "metadata": {},
   "source": [
    "## Hands-on session 1.3 - Fourier heat law\n",
    "\n",
    "This notebook aims to familiarise you with several important features used often in constructing ReMKiT1D simulations. \n",
    "\n",
    "A number of cells are left blank or unfinished as an exercise.\n",
    "\n",
    "Demonstrated concepts:\n",
    "\n",
    "- Stationary variables\n",
    "- Setting Dirichlet boundary conditions by excluding cells from operators\n",
    "- Using the diffusion stencil for variables on the regular grid\n",
    "- Calculation tree derivations\n",
    "- Dashboard function for comparing multiple fluid variables"
   ]
  },
  {
   "cell_type": "code",
   "execution_count": null,
   "metadata": {},
   "outputs": [],
   "source": [
    "from RMK_support import RKWrapper ,Grid, Node, treeDerivation\n",
    "import RMK_support.simple_containers as sc\n",
    "import RMK_support.IO_support as io\n",
    "\n",
    "import numpy as np\n",
    "import holoviews as hv\n",
    "import matplotlib.pyplot as plt"
   ]
  },
  {
   "cell_type": "markdown",
   "metadata": {},
   "source": [
    "### Basic setup"
   ]
  },
  {
   "cell_type": "code",
   "execution_count": null,
   "metadata": {},
   "outputs": [],
   "source": [
    "#Wrapper initialization\n",
    "rk = RKWrapper()\n",
    "\n",
    "#I/O setuo\n",
    "rk.jsonFilepath = \"./config.json\" \n",
    "hdf5Filepath = \"./RMKOutput/day_1_3/\"\n",
    "rk.setHDF5Path(hdf5Filepath) \n",
    "\n",
    "#MPI setup\n",
    "rk.setMPIData(numProcsX=4)\n",
    "\n",
    "#Grid initialization\n",
    "xGridWidths = 0.025*np.ones(512)\n",
    "gridObj = Grid(xGridWidths, interpretXGridAsWidths=True)\n",
    "rk.grid = gridObj"
   ]
  },
  {
   "cell_type": "markdown",
   "metadata": {},
   "source": [
    "### The equations\n",
    "\n",
    "We wish to solve the following well known equation\n",
    "\n",
    "$$\\frac{\\partial T}{\\partial t} = - \\frac{\\partial q}{\\partial x}$$\n",
    "\n",
    "$$q = -\\kappa \\frac{\\partial T}{\\partial x}$$\n",
    "\n",
    "With some boundary conditions $T(x=x_0)=T_1$ and $T(x=x_N)=T_2$\n",
    "\n",
    "Here we ignore any normalization issues and simply work in arbitrary units."
   ]
  },
  {
   "cell_type": "markdown",
   "metadata": {},
   "source": [
    "### Variables\n",
    "\n",
    "We seem to have 2 equations, but only one time derivative. We could substitute $q$ into the equation for $T$ and get a second order equation, or we could have two first order equations. \n",
    "\n",
    "Add the variables (and their dual variables) for two evolved temperatures \"T_diff\" and \"T_q\", to be used for the two approaches mentioned above. \n",
    "\n",
    "The initial value of the temperature is supplied below"
   ]
  },
  {
   "cell_type": "code",
   "execution_count": null,
   "metadata": {},
   "outputs": [],
   "source": [
    "# Initial values, as well as the two boundary values for temperature\n",
    "T = np.ones(512)\n",
    "T[0] = 10 \n",
    "T[-1] = 5\n",
    "\n",
    "# [YOUR CODE HERE]"
   ]
  },
  {
   "cell_type": "markdown",
   "metadata": {},
   "source": [
    "To add a variable that does not have a time derivative in its equation, we simply mark it as `stationary` by setting the `isStationary` argument to `addVar` or `addVarAndDual`.\n",
    "\n",
    "Add a stationary variable for the heat flux 'q'. Since we are still working on a staggered grid, and 'q' represents a flux, we should make sure that `primaryOnDualGrid` is set to `True`:"
   ]
  },
  {
   "cell_type": "code",
   "execution_count": null,
   "metadata": {},
   "outputs": [],
   "source": [
    "#[YOUR CODE HERE]"
   ]
  },
  {
   "cell_type": "markdown",
   "metadata": {},
   "source": [
    "And finally the `time` variable"
   ]
  },
  {
   "cell_type": "code",
   "execution_count": null,
   "metadata": {},
   "outputs": [],
   "source": [
    "rk.addVar(\"time\",isScalar=True,isDerived=True)"
   ]
  },
  {
   "cell_type": "markdown",
   "metadata": {},
   "source": [
    "### Calculation tree derivations\n",
    "\n",
    "A particularly convenient way of producing derivation rules for ReMKiT1D, which is applicable in many situations, is to translate Python-like expressions into a tree represenation. \n",
    "\n",
    "In order to generate one such object, we first need to declare any variables we wish to use as Nodes. At the beginning of this notebook `Node` has been imported directly from ReMKiT1D. \n",
    "\n",
    "Let's suppose we have the following familiar expression for the conductivity $\\kappa= \\kappa_0 T^{3/2}$. Which grid do you think this should be evaluated on?\n",
    "\n",
    "Add the appropriate variable name ('T_diff' or 'T_diff_dual') to the Node constructor below"
   ]
  },
  {
   "cell_type": "code",
   "execution_count": null,
   "metadata": {},
   "outputs": [],
   "source": [
    "nodeT = Node(\"\") # <- YOUR CODE HERE\n",
    "\n",
    "kappa0 = 0.01\n",
    "nodeKappa = kappa0 * nodeT**(3/2)"
   ]
  },
  {
   "cell_type": "markdown",
   "metadata": {},
   "source": [
    "We can then manually add this derivation to the wrapper (we will need it for the diffusion stencil!)"
   ]
  },
  {
   "cell_type": "code",
   "execution_count": null,
   "metadata": {},
   "outputs": [],
   "source": [
    "rk.addCustomDerivation(\"kappa_diff\",treeDerivation(nodeKappa)) "
   ]
  },
  {
   "cell_type": "markdown",
   "metadata": {},
   "source": [
    "Let's also add a variable for $\\kappa$, but using the other temperature 'T_q'. We can do it in an elegant 'one-liner', defining the corresponding derivation rule as the variable is added"
   ]
  },
  {
   "cell_type": "code",
   "execution_count": null,
   "metadata": {},
   "outputs": [],
   "source": [
    "# Uncomment the one you think is correct!\n",
    "\n",
    "# kappaOnDualGrid = True\n",
    "# kappaOnDualGrid = False\n",
    "\n",
    "rk.addVar(\"kappa_q\",\n",
    "          isDerived=True,\n",
    "          derivOptions=treeDerivation(kappa0*Node(\"\")**(3/2)), # <- YOUR CODE HERE (HINT: Which variable do we need to calculate kappa)\n",
    "          derivationRule=sc.derivationRule(\"kappa_q\",requiredVars=[\"\"]), # <- YOUR CODE HERE (HINT: Which variable do we need to calculate kappa)\n",
    "          isCommunicated=True,\n",
    "          isOnDualGrid=kappaOnDualGrid)"
   ]
  },
  {
   "cell_type": "markdown",
   "metadata": {},
   "source": [
    "The above will add the variable 'kappa_q', together with a derivation named \"kappa_q\" based on the `derivOptions` argument. \n",
    "\n",
    "The `requiredVars` argument to `derivationRule` is there to make sure that the needed temperature is calculated before 'kappa_q'."
   ]
  },
  {
   "cell_type": "markdown",
   "metadata": {},
   "source": [
    "### On Dirichlet boundary conditions\n",
    "\n",
    "ReMKiT1D by default does not use ghost cells to set Dirichlet boundary conditions. Instead, as the reader might have surmised, we have taken the first and the last cell in the domain and set them to some values. But how do we avoid evolving those cells?\n",
    "\n",
    "The answer is in the `spatialProfile` argument to the `GeneralMatrixTerm` construct:"
   ]
  },
  {
   "cell_type": "code",
   "execution_count": null,
   "metadata": {},
   "outputs": [],
   "source": [
    "help(sc.GeneralMatrixTerm)"
   ]
  },
  {
   "cell_type": "markdown",
   "metadata": {},
   "source": [
    "The default profile, if the user does not supply one, is simply all ones. We will however, replace it by the following:"
   ]
  },
  {
   "cell_type": "code",
   "execution_count": null,
   "metadata": {},
   "outputs": [],
   "source": [
    "spatialProfile = np.ones(512)\n",
    "spatialProfile[0] = spatialProfile[-1] = 0\n",
    "spatialProfile = spatialProfile.tolist() # Since the constructor requires a list! "
   ]
  },
  {
   "cell_type": "markdown",
   "metadata": {},
   "source": [
    "We will use this profile below for both models we're adding."
   ]
  },
  {
   "cell_type": "markdown",
   "metadata": {},
   "source": [
    "### The diffusion stencil approach"
   ]
  },
  {
   "cell_type": "markdown",
   "metadata": {},
   "source": [
    "A prebuilt diffusion stencil is available using the following function"
   ]
  },
  {
   "cell_type": "code",
   "execution_count": null,
   "metadata": {},
   "outputs": [],
   "source": [
    "sc.diffusionStencil?"
   ]
  },
  {
   "cell_type": "markdown",
   "metadata": {},
   "source": [
    "As it can be seen, we need a defined derivation rule in order to use it. Fortunately, we have already added the custom derivation 'kappa_diff'.\n",
    "\n",
    "The diffusion stencil corresponds to the operator $\\nabla \\kappa \\nabla$, with the $\\kappa$ associated with the derivation rule passed to the stencil.\n",
    "\n",
    "Note that the above documentation requires both the evolved and implicit variable to live on the regular grid for this stencil to be correct (This will be caught by the Fortran code)."
   ]
  },
  {
   "cell_type": "code",
   "execution_count": null,
   "metadata": {},
   "outputs": [],
   "source": [
    "newModel = sc.CustomModel(\"fourierDiff\")\n",
    "\n",
    "diffusionTerm = sc.GeneralMatrixTerm(evolvedVar=\"\", # <- YOUR CODE HERE (Which variable are we evolving?)\n",
    "                                     implicitVar=\"\", # <- YOUR CODE HERE (Which variable is the diffusion operator acting on?)\n",
    "                                     spatialProfile=spatialProfile,\n",
    "                                     stencilData=sc.diffusionStencil()) # YOUR CODE HERE (Complete the diffusion stencil call based on the documentation - HINT: Which variable(s) is/are required and where do they live?) \n",
    "\n",
    "newModel.addTerm(\"diffTerm\",diffusionTerm)\n",
    "\n",
    "rk.addModel(newModel)"
   ]
  },
  {
   "cell_type": "markdown",
   "metadata": {},
   "source": [
    "### Stationary $q$ approach\n",
    "\n",
    "Often the second order operator is not directly available, unlike with our diffusion example. In those situations we can either build a custom stencil, or resort to multiple first order equations. \n",
    "\n",
    "We begin by rewriting the $q$ equation so that all terms are on the RHS (further emphasizing the lack of a time derivative)\n",
    "\n",
    "$$0 = -q -\\kappa \\nabla T$$\n",
    "\n",
    "We see that we will need to add two terms for the q equation, including an identity term for $q$:"
   ]
  },
  {
   "cell_type": "code",
   "execution_count": null,
   "metadata": {},
   "outputs": [],
   "source": [
    "newModel = sc.CustomModel(\"fourierQ\")\n",
    "\n",
    "identityTerm = sc.GeneralMatrixTerm(evolvedVar=\"q_dual\", # When no implicit variable is supplied it defaults to the evolved variable\n",
    "                                    customNormConst=-1,\n",
    "                                    stencilData=sc.diagonalStencil()) # A diagonal stencil, effectively the Kronecker symbol\n",
    "\n",
    "newModel.addTerm(\"q_identity\",identityTerm)"
   ]
  },
  {
   "cell_type": "markdown",
   "metadata": {},
   "source": [
    "Let's add the temperature gradient term. We're evolving 'q_dual', which lives on the staggered grid. We want to take the gradient of a temperature variable. "
   ]
  },
  {
   "cell_type": "code",
   "execution_count": null,
   "metadata": {},
   "outputs": [],
   "source": [
    "gradTerm = sc.GeneralMatrixTerm(evolvedVar=\"q_dual\",\n",
    "                                implicitVar=\"\", # <- YOUR CODE HERE (Which variable are we applying the gradient to?)\n",
    "                                customNormConst=-1,\n",
    "                                varData=sc.VarData(reqRowVars=[\"kappa_q\"]),\n",
    "                                ) # <- YOUR CODE HERE (The stencilData argument is missing, which one should it be?)\n",
    "\n",
    "newModel.addTerm(\"gradT\",gradTerm)"
   ]
  },
  {
   "cell_type": "markdown",
   "metadata": {},
   "source": [
    "Finally, we need the divergence of the heat flux in the temperature equation (remember, we have equations for both the temperature and the heat flux!)"
   ]
  },
  {
   "cell_type": "code",
   "execution_count": null,
   "metadata": {},
   "outputs": [],
   "source": [
    "divQ = sc.GeneralMatrixTerm(evolvedVar=\"\", # <- YOUR CODE HERE (Which variable is this term evolving?)\n",
    "                            implicitVar=\"\", # <- YOUR CODE HERE (Which variable are we applying the divergence to? Which grid does it live on?)\n",
    "                            customNormConst=-1,\n",
    "                            spatialProfile=spatialProfile,# Applying the same spatial profile as in the diffusion stencil approach\n",
    "                            ) # <- YOUR CODE HERE (The stencilData argument is missing, which one should it be?) \n",
    "\n",
    "newModel.addTerm(\"divQ\",divQ)\n",
    "\n",
    "rk.addModel(newModel)"
   ]
  },
  {
   "cell_type": "markdown",
   "metadata": {},
   "source": [
    "### Time integration options\n",
    "\n",
    "Following the approach from the previous sessions, we set the following:"
   ]
  },
  {
   "cell_type": "code",
   "execution_count": null,
   "metadata": {},
   "outputs": [],
   "source": [
    "rk.addIntegrator(\"BE\",sc.picardBDEIntegrator(nonlinTol=1e-12,absTol=10.0,convergenceVars=[])) # <- YOUR CODE HERE (We want all evolved variables here, which ones are they?)\n",
    "\n",
    "rk.setIntegratorGlobalData(initialTimestep=0.1) \n",
    "\n",
    "bdeStep = sc.IntegrationStep(\"BE\")\n",
    "\n",
    "for tag in rk.modelTags():\n",
    "    bdeStep.addModel(tag)\n",
    "\n",
    "rk.addIntegrationStep(\"StepBDE\",bdeStep.dict())\n",
    "\n",
    "rk.setFixedNumTimesteps(10000)\n",
    "rk.setFixedStepOutput(200)"
   ]
  },
  {
   "cell_type": "markdown",
   "metadata": {},
   "source": [
    "### Write config file"
   ]
  },
  {
   "cell_type": "code",
   "execution_count": null,
   "metadata": {},
   "outputs": [],
   "source": [
    "rk.writeConfigFile()"
   ]
  },
  {
   "cell_type": "markdown",
   "metadata": {},
   "source": [
    "### Set global plotting options"
   ]
  },
  {
   "cell_type": "code",
   "execution_count": null,
   "metadata": {},
   "outputs": [],
   "source": [
    "hv.extension('matplotlib')\n",
    "%matplotlib inline \n",
    "plt.rcParams['figure.dpi'] = 150\n",
    "hv.output(size=150,dpi=150)"
   ]
  },
  {
   "cell_type": "markdown",
   "metadata": {},
   "source": [
    "### Load data from ReMKiT1D output files"
   ]
  },
  {
   "cell_type": "code",
   "execution_count": null,
   "metadata": {},
   "outputs": [],
   "source": [
    "numFiles = 50\n",
    "loadpath = hdf5Filepath\n",
    "loadFilenames = [loadpath+f'ReMKiT1DVarOutput_{i}.h5' for i in range(numFiles+1)]\n",
    "loadedData = io.loadFromHDF5(rk.varCont,filepaths=loadFilenames)\n",
    "loadedData"
   ]
  },
  {
   "cell_type": "markdown",
   "metadata": {},
   "source": [
    "### Explore data with built-in dashboard"
   ]
  },
  {
   "cell_type": "code",
   "execution_count": null,
   "metadata": {},
   "outputs": [],
   "source": [
    "import panel as pn \n",
    "import RMK_support.dashboard_support as ds\n",
    "\n",
    "pn.extension(comms=\"vscode\") # change comms if not using VSCode\n",
    "dashboard = ds.ReMKiT1DDashboard(loadedData,rk.grid)\n",
    "\n",
    "dashboard.fluid2Comparison().show() # Removing .show() should display the dashboard inline - this can be buggy in some situations\n"
   ]
  },
  {
   "cell_type": "markdown",
   "metadata": {},
   "source": [
    "We can also explore multiple fluid variables on a single graph using another dashboard function"
   ]
  },
  {
   "cell_type": "code",
   "execution_count": null,
   "metadata": {},
   "outputs": [],
   "source": [
    "dashboard.fluidMultiComparison([\"T_diff\",\"T_q\"]) #Note: this is a HoloMap object so doesn't have the same show() method as the dashboard above"
   ]
  }
 ],
 "metadata": {
  "kernelspec": {
   "display_name": "Python 3",
   "language": "python",
   "name": "python3"
  },
  "language_info": {
   "codemirror_mode": {
    "name": "ipython",
    "version": 3
   },
   "file_extension": ".py",
   "mimetype": "text/x-python",
   "name": "python",
   "nbconvert_exporter": "python",
   "pygments_lexer": "ipython3",
   "version": "3.8.10"
  }
 },
 "nbformat": 4,
 "nbformat_minor": 2
}
