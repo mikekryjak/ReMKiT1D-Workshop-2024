{
 "cells": [
  {
   "cell_type": "markdown",
   "metadata": {},
   "source": [
    "## Hands-on session 2.2 - Variable-like modelbound data\n",
    "\n",
    "This short sessions takes a break from plasma physics as we play around with the [predator-prey model](https://en.wikipedia.org/wiki/Lotka%E2%80%93Volterra_equations). \n",
    "\n",
    "Demonstrated concepts:\n",
    "\n",
    "- 0D simulations with ReMKiT1D\n",
    "- Variable-like modelbound data\n",
    "- Automatic generation of modelbound data using nodes\n",
    "- Setting time target integration\n",
    "- Using RK4 and setting term groups\n",
    "- Building a simple composite integrator"
   ]
  },
  {
   "cell_type": "code",
   "execution_count": null,
   "metadata": {},
   "outputs": [],
   "source": [
    "from RMK_support import RKWrapper ,Grid, Node, treeDerivation\n",
    "import RMK_support.simple_containers as sc\n",
    "import RMK_support.IO_support as io\n",
    "import RMK_support.dashboard_support as ds\n",
    "import RMK_support.common_models as cm\n",
    "\n",
    "import numpy as np\n",
    "import holoviews as hv \n",
    "import panel as pn\n",
    "import matplotlib.pyplot as plt\n"
   ]
  },
  {
   "cell_type": "markdown",
   "metadata": {},
   "source": [
    "### Wrapper initialization"
   ]
  },
  {
   "cell_type": "code",
   "execution_count": null,
   "metadata": {},
   "outputs": [],
   "source": [
    "rk = RKWrapper()"
   ]
  },
  {
   "cell_type": "markdown",
   "metadata": {},
   "source": [
    "### Global parameters for writing the files"
   ]
  },
  {
   "cell_type": "code",
   "execution_count": null,
   "metadata": {},
   "outputs": [],
   "source": [
    "rk.jsonFilepath = \"./config.json\" # Default value\n",
    "hdf5Filepath = \"./RMKOutput/day_2_2/\"\n",
    "rk.setHDF5Path(hdf5Filepath) "
   ]
  },
  {
   "cell_type": "markdown",
   "metadata": {},
   "source": [
    "### Grid initialization\n",
    "\n",
    "We initialize a trivial 0D grid"
   ]
  },
  {
   "cell_type": "code",
   "execution_count": null,
   "metadata": {},
   "outputs": [],
   "source": [
    "rk.grid = Grid(np.zeros(1))"
   ]
  },
  {
   "cell_type": "markdown",
   "metadata": {},
   "source": [
    "### The equations\n",
    "\n",
    "The predator-prey system can be written as follows:\n",
    "\n",
    "$$ \\frac{dx}{dt} = (\\alpha - \\beta y)x $$\n",
    "$$ \\frac{dy}{dt} = (\\delta x - \\gamma)y $$\n",
    "\n",
    "where $\\alpha$ and $\\beta$ are the prey growth and death factors, and $\\delta$ and $\\gamma$ are the predator growth and death factors. $x$ and $y$ are prey and predator numbers in arbitrary units."
   ]
  },
  {
   "cell_type": "markdown",
   "metadata": {},
   "source": [
    "### Variables\n",
    "\n",
    "We just need the implicit predator and prey variables, and can also set the 4 constants while we're at it. Let's also set two more copies of x and y so we can build the model in two ways.\n",
    "\n",
    "**NOTE**: The `x` name is reserved for the grid, so we do not use it for variables. Use x1,y1,x2,y2.\n",
    "\n",
    "Initialize both of the x variables to 10, and both the y variables to 2 (remember, they should be numpy arrays with the length of the grid!)\n",
    "\n",
    "Do not forget to add the `time` derived scalar variable. We will explicitly need it in this session."
   ]
  },
  {
   "cell_type": "code",
   "execution_count": null,
   "metadata": {},
   "outputs": [],
   "source": [
    "# [YOUR CODE HERE]\n",
    "\n",
    "alpha = 1.1\n",
    "beta = 0.4\n",
    "delta = 0.1\n",
    "gamma = 0.4"
   ]
  },
  {
   "cell_type": "markdown",
   "metadata": {},
   "source": [
    "### The model - general\n",
    "\n",
    "We can build the model in two ways because of its structure. The general way comes first, where we introduce modelbound data by hand.\n",
    "\n",
    "Let's first add the derivations we need to the wrapper. These should evaluate to the bracketed values in the equations.\n",
    "\n",
    "Use the `addCustomDerivation` method on the wrapper to add the two derivations, and add the derivations using the `treeDerivation` function and using `Node` where necessary. Use the first two variables here (x1,y1)!"
   ]
  },
  {
   "cell_type": "code",
   "execution_count": null,
   "metadata": {},
   "outputs": [],
   "source": [
    "#[YOUR CODE HERE]"
   ]
  },
  {
   "cell_type": "markdown",
   "metadata": {},
   "source": [
    "Let's then build a model for the predator-prey equations and add create the modelbound data that goes with it\n",
    "\n",
    "Use `sc.VarlikeModelboundData` and the corresponding `add.Variable` methods. Do not forget to call `setModelboundData` (you'll need to call `dict()` on the modelbound data object before passing it to the wrapper)"
   ]
  },
  {
   "cell_type": "code",
   "execution_count": null,
   "metadata": {},
   "outputs": [],
   "source": [
    "predPreyModel = sc.CustomModel(\"predatorPrey\")\n",
    "\n",
    "# [YOUR CODE HERE]\n"
   ]
  },
  {
   "cell_type": "markdown",
   "metadata": {},
   "source": [
    "Let's now add the two simple terms by hand\n",
    "\n",
    "Take the modelbound variables you added and use them as `reqMBRowVars`"
   ]
  },
  {
   "cell_type": "code",
   "execution_count": null,
   "metadata": {},
   "outputs": [],
   "source": [
    "xTerm = sc.GeneralMatrixTerm(\"x1\",\n",
    "                             varData=sc.VarData(reqMBRowVars=[\"\"]),\n",
    "                             stencilData=sc.diagonalStencil())\n",
    "\n",
    "predPreyModel.addTerm(\"xTerm\",xTerm)\n",
    "\n",
    "yTerm = sc.GeneralMatrixTerm(\"y1\",\n",
    "                             varData=sc.VarData(reqMBRowVars=[\"\"]),\n",
    "                             stencilData=sc.diagonalStencil(),\n",
    "                             implicitGroups=[2]) # See note below\n",
    "\n",
    "predPreyModel.addTerm(\"yTerm\",yTerm)\n",
    "\n",
    "rk.addModel(predPreyModel)"
   ]
  },
  {
   "cell_type": "markdown",
   "metadata": {},
   "source": [
    "**NOTE**: \n",
    "\n",
    "Term groups: We can have finer control over time integration by setting term groups. This is particularly important when using the explicit RK integrators, as they will skip any mixed term groups - groups of terms with different evolved variables. A way to avoid worrying about this is not to have models which evolve more than 1 variable."
   ]
  },
  {
   "cell_type": "markdown",
   "metadata": {},
   "source": [
    "### The model - a faster way\n",
    "\n",
    "As noted above, because the structure of our equations looks like rowVariable * implicitVariable, we can use the `addNodeMatrixTermModel` function from `common_models` to automatically add the modelbound variables and the terms\n",
    "\n",
    "The `termDefs` below are missing the `Node` objects they should use for the derivation. These should be the same objects as the ones you used above. Make sure they use the correct variables (x2,y2)!"
   ]
  },
  {
   "cell_type": "code",
   "execution_count": null,
   "metadata": {},
   "outputs": [],
   "source": [
    "cm.addNodeMatrixTermModel(rk,\n",
    "                          modelTag=\"predatorPreyQuickerX\",\n",
    "                          evolvedVar=\"x2\",\n",
    "                          termDefs=[(,\"x2\")]) #[YOUR CODE HERE]\n",
    "\n",
    "cm.addNodeMatrixTermModel(rk,\n",
    "                          modelTag=\"predatorPreyQuickerY\",\n",
    "                          evolvedVar=\"y2\",\n",
    "                          termDefs=[(,\"y2\")]) #[YOUR CODE HERE]"
   ]
  },
  {
   "cell_type": "markdown",
   "metadata": {},
   "source": [
    "### Setting up the time integration options\n",
    "\n",
    "The predator-prey model is a good place to showcase the different behaviour of the two time integrators available. The RK integrator goes up to fourth order, while the Backwards Euler integrator is first order. \n",
    "\n",
    "We can use ReMKiT1D's composite integrator feature to add multiple integrators and split integration so that different models are evolved using different integrators. \n",
    "\n",
    "Let's first add the integrators:"
   ]
  },
  {
   "cell_type": "code",
   "execution_count": null,
   "metadata": {},
   "outputs": [],
   "source": [
    "integratorRK = sc.rkIntegrator(4) # Play around with the order value for RK to see how the solution is affected\n",
    "integratorBDE = sc.picardBDEIntegrator(nonlinTol=1e-14,absTol=10.0, convergenceVars=[\"x2\",\"y2\"])\n",
    "\n",
    "rk.addIntegrator(\"RK\", integratorRK)\n",
    "rk.addIntegrator(\"BE\", integratorBDE)"
   ]
  },
  {
   "cell_type": "markdown",
   "metadata": {},
   "source": [
    "Unlike in previous sessions, we have split the terms of one of our models into two groups. So we need to tell the composite integrator to expect two groups."
   ]
  },
  {
   "cell_type": "code",
   "execution_count": null,
   "metadata": {},
   "outputs": [],
   "source": [
    "rk.setIntegratorGlobalData(initialTimestep=0.01,numImplicitGroups=2) # We tell the integrators to expect 2 implicit groups"
   ]
  },
  {
   "cell_type": "markdown",
   "metadata": {},
   "source": [
    "Let's add the RK step. By default, all steps step for the full duration of the time step, and since we aren't doing operator splitting, we'll keep this behaviour.\n",
    "\n",
    "However, the `predatorPrey` model has two implict term groups, so we need to tell the integration step to update and evaluate both."
   ]
  },
  {
   "cell_type": "code",
   "execution_count": null,
   "metadata": {},
   "outputs": [],
   "source": [
    "rkStep = sc.IntegrationStep(\"RK\",defaultEvaluateGroups=[1,2],defaultUpdateGroups=[1,2]) # Tell the RK step to update and evaluate terms in both groups\n",
    "\n",
    "rkStep.addModel(\"predatorPrey\")\n",
    "\n",
    "rk.addIntegrationStep(\"RK1\", rkStep.dict())"
   ]
  },
  {
   "cell_type": "markdown",
   "metadata": {},
   "source": [
    "The Backwards Euler integrator should handle the other two models"
   ]
  },
  {
   "cell_type": "code",
   "execution_count": null,
   "metadata": {},
   "outputs": [],
   "source": [
    "bdeStep = sc.IntegrationStep(\"BE\") # The other two models don't have their terms split into groups\n",
    "\n",
    "bdeStep.addModel(\"predatorPreyQuickerX\")\n",
    "bdeStep.addModel(\"predatorPreyQuickerY\")\n",
    "\n",
    "rk.addIntegrationStep(\"BE1\", bdeStep.dict())"
   ]
  },
  {
   "cell_type": "markdown",
   "metadata": {},
   "source": [
    "\n",
    "Let's run the predator-prey model up to t=50. We can move from using a fixed number of timesteps to asking the code to run until some minimum time has elapsed. We can also set the output option to write files with a fixed minimum time interval between them."
   ]
  },
  {
   "cell_type": "code",
   "execution_count": null,
   "metadata": {},
   "outputs": [],
   "source": [
    "rk.setTimeTargetTimestepping(50.0) # Run until 50 time units have elapsed\n",
    "rk.setMinimumIntervalOutput(0.1) # Output every 0.1 time unit (might not have exactly 500 files because of rounding)"
   ]
  },
  {
   "cell_type": "markdown",
   "metadata": {},
   "source": [
    "### Create config \n",
    "\n",
    "Remember to run ReMKiT1D with a single MPI process for this session."
   ]
  },
  {
   "cell_type": "code",
   "execution_count": null,
   "metadata": {},
   "outputs": [],
   "source": [
    "rk.writeConfigFile()"
   ]
  },
  {
   "cell_type": "markdown",
   "metadata": {},
   "source": [
    "### Data analysis"
   ]
  },
  {
   "cell_type": "code",
   "execution_count": null,
   "metadata": {},
   "outputs": [],
   "source": [
    "hv.extension('matplotlib')\n",
    "%matplotlib inline \n",
    "plt.rcParams['figure.dpi'] = 150\n",
    "hv.output(size=100,dpi=150)\n",
    "\n",
    "numFiles=471\n",
    "loadpath = rk.hdf5Filepath\n",
    "loadFilenames = [loadpath+f'ReMKiT1DVarOutput_{i}.h5' for i in range(numFiles+1)]\n",
    "loadedData = io.loadFromHDF5(rk.varCont, filepaths=loadFilenames)\n",
    "loadedData\n"
   ]
  },
  {
   "cell_type": "markdown",
   "metadata": {},
   "source": [
    "### Comparing the integrators\n",
    "\n",
    "As you can see below, with the same step length, the higher order RK integrator is not as dissipative as the implicit integrator, as expected."
   ]
  },
  {
   "cell_type": "code",
   "execution_count": null,
   "metadata": {},
   "outputs": [],
   "source": [
    "pn.extension(comms=\"vscode\") # change comms if not using VSCode\n",
    "dashboard = ds.ReMKiT1DDashboard(loadedData,rk.grid)\n",
    "\n",
    "dashboard.fluidMultiComparison([\"x1\",\"y1\",\"x2\",\"y2\"],fixedPosition=True)"
   ]
  },
  {
   "cell_type": "code",
   "execution_count": null,
   "metadata": {},
   "outputs": [],
   "source": [
    "fig,ax = plt.subplots(1,2,sharey=\"row\")\n",
    "\n",
    "ax[0].plot(loadedData[\"x1\"],loadedData[\"y1\"])\n",
    "\n",
    "ax[0].title.set_text(\"RK4\")\n",
    "\n",
    "ax[0].set_xlabel(\"x\")\n",
    "ax[0].set_ylabel(\"y\")\n",
    "\n",
    "ax[1].plot(loadedData[\"x2\"],loadedData[\"y2\"])\n",
    "\n",
    "ax[1].title.set_text(\"First order Backwards Euler\")\n",
    "\n",
    "ax[1].set_xlabel(\"x\")\n"
   ]
  }
 ],
 "metadata": {
  "kernelspec": {
   "display_name": "Python 3",
   "language": "python",
   "name": "python3"
  },
  "language_info": {
   "codemirror_mode": {
    "name": "ipython",
    "version": 3
   },
   "file_extension": ".py",
   "mimetype": "text/x-python",
   "name": "python",
   "nbconvert_exporter": "python",
   "pygments_lexer": "ipython3",
   "version": "3.8.10"
  }
 },
 "nbformat": 4,
 "nbformat_minor": 2
}
